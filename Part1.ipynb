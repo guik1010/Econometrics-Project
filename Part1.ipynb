{
 "cells": [
  {
   "cell_type": "markdown",
   "metadata": {},
   "source": [
    "Part 1 - Cross-section data"
   ]
  },
  {
   "cell_type": "markdown",
   "metadata": {},
   "source": [
    "Question 1: State the fundamental hypothesis under which the Ordinary Least Squares (OLS) estimators are unbiased."
   ]
  },
  {
   "cell_type": "markdown",
   "metadata": {},
   "source": [
    "For OLS estimators to be unbiased we need the expected value of the estimator to be equal to the true parameter value (bias from statistics), there are some conditions that need to be fulfilled:\n",
    "- Y = βX + ε: a relação entre a variável dependente (Y) e as variáveis independentes (X) devem ser escritas como equações lineares;\n",
    "- E(ε│X) = 0: meu erro precisa ter média zero e não pode estar relacionado com o regressors X;\n",
    "- Random sampling (it has to be representative of the population);\n",
    "- No perfect multicolineatiry: the regressors are not perfectly linearly dependent;\n",
    "- No autocorrelation: the error terms are not correlated to one another (covariance between two of them has to be zero);\n",
    "- Homoskedacity: the variance of the error term is constant between observations.\n"
   ]
  },
  {
   "cell_type": "markdown",
   "metadata": {},
   "source": [
    "Question 2: Show that under this assumption the OLS estimators are indeed unbiased."
   ]
  },
  {
   "cell_type": "markdown",
   "metadata": {},
   "source": [
    "We start with the equation:\n",
    "\n",
    "$$\n",
    "Y = X \\cdot \\beta + U\n",
    "$$\n",
    "\n",
    "The OLS estimator is:\n",
    "\n",
    "$$\n",
    "\\hat{\\beta} = (X'X)^{-1}X'Y\n",
    "$$\n",
    "\n",
    "Substitute Y into the equation:\n",
    "\n",
    "$$\n",
    "\\hat{\\beta} = (X'X)^{-1}X'(X \\cdot \\beta + U)\n",
    "$$\n",
    "\n",
    "Distribute \\( X' \\):\n",
    "\n",
    "$$\n",
    "\\hat{\\beta} = (X'X)^{-1}X'X \\cdot \\beta + (X'X)^{-1}X'U\n",
    "$$\n",
    "\n",
    "Simplify:\n",
    "\n",
    "$$\n",
    "\\hat{\\beta} = \\beta + (X'X)^{-1}X'U\n",
    "$$\n",
    "\n",
    "Take the expectation:\n",
    "\n",
    "$$\n",
    "E[\\hat{\\beta}] = E[\\beta + (X'X)^{-1}X'U]\n",
    "$$\n",
    "\n",
    "Using the linearity of expectation:\n",
    "\n",
    "$$\n",
    "E[\\hat{\\beta}] = \\beta + (X'X)^{-1}X' \\cdot E[U]\n",
    "$$\n",
    "\n",
    "Assuming the expected value of U is zero:\n",
    "\n",
    "$$\n",
    "E[\\hat{\\beta}] = \\beta\n",
    "$$\n",
    "\n",
    "Thus, we have an unbiased estimator.\n"
   ]
  },
  {
   "cell_type": "markdown",
   "metadata": {},
   "source": [
    "Question 3: Explain the sample selection bias with an example from the course."
   ]
  },
  {
   "cell_type": "markdown",
   "metadata": {},
   "source": [
    "RAF planes returning from war zones: the ideia was to look at the planes and add more plating to the region where they needed the most. Problem is, the actual answer was: they needed more plating  where they got shot the least. That’s because there was a sample selection bias: they were looking only at planes that did come back for war zones - that means the regions where the observed planes were hit the most are actually the regions where it is not important to plate since they did survive."
   ]
  },
  {
   "cell_type": "markdown",
   "metadata": {},
   "source": [
    "Question 4: Explain the omitted variable bias with an example from the course."
   ]
  },
  {
   "cell_type": "markdown",
   "metadata": {},
   "source": [
    "The omitted variable bias happens when there is an omitted (does do appear in the model) and relevant variable influencing the independent and the dependent variables. Now, this variable causes distortions in the results and the model ends up atributing it's effect to the variables already contained in the model. Example: during the investigation of the fertilizer effect on soybean fields, looking solely at the results of the harvesting might be a problem since although the fertilizer most certainly makes a difference, we also have to take in consideration the quality of the soil, climate and pests. So we cannot only look at the fertilizer itself, there are these other ommited variables creating a lot of noise in the investigation and need to be taken in account."
   ]
  },
  {
   "cell_type": "markdown",
   "metadata": {},
   "source": [
    "Question 5: Explain the problem of multicollinearity. Is it a problem in this dataset?"
   ]
  },
  {
   "cell_type": "markdown",
   "metadata": {},
   "source": [
    "\n",
    "\n",
    "Multicollinearity occurs when two or mode regressors are highly correlated. This ends up resulting in unstable coefficient estimates and high variances. See, the variance of the estimator can be calculated this way:\n",
    "\n",
    "$$\n",
    "\\begin{align}\n",
    "Var(\\hat{\\beta} | X) = \\sigma ^{2}(X^TX)^{-1}\n",
    "\\end{align}\n",
    "$$\n",
    "\n",
    "If we have multicollinearity in X - highly correlated columns - in X, it might be a problem to calculate the inverse of $X^T X$ since $\\text{det}(X^T X)$ is approximately zero.\n",
    "\n",
    "In this dataset we have high multicollinearity as evidenced by the very high condition number ant the correlation matrix as well. We drew a heatmap to evidence witch variables are higly correlated."
   ]
  },
  {
   "cell_type": "code",
   "execution_count": 55,
   "metadata": {},
   "outputs": [
    {
     "name": "stderr",
     "output_type": "stream",
     "text": [
      "C:\\Users\\guik2\\AppData\\Local\\Temp\\ipykernel_16816\\1299624305.py:3: FutureWarning: The 'delim_whitespace' keyword in pd.read_csv is deprecated and will be removed in a future version. Use ``sep='\\s+'`` instead\n",
      "  df = pd.read_csv('HPRICE2.RAW', delim_whitespace=True, decimal='.', header=None)\n"
     ]
    },
    {
     "data": {
      "text/html": [
       "<div>\n",
       "<style scoped>\n",
       "    .dataframe tbody tr th:only-of-type {\n",
       "        vertical-align: middle;\n",
       "    }\n",
       "\n",
       "    .dataframe tbody tr th {\n",
       "        vertical-align: top;\n",
       "    }\n",
       "\n",
       "    .dataframe thead th {\n",
       "        text-align: right;\n",
       "    }\n",
       "</style>\n",
       "<table border=\"1\" class=\"dataframe\">\n",
       "  <thead>\n",
       "    <tr style=\"text-align: right;\">\n",
       "      <th></th>\n",
       "      <th>price</th>\n",
       "      <th>crime</th>\n",
       "      <th>nox</th>\n",
       "      <th>rooms</th>\n",
       "      <th>dist</th>\n",
       "      <th>radial</th>\n",
       "      <th>proptax</th>\n",
       "      <th>stratio</th>\n",
       "      <th>lowstat</th>\n",
       "      <th>lprice</th>\n",
       "      <th>lnox</th>\n",
       "      <th>lproptax</th>\n",
       "    </tr>\n",
       "  </thead>\n",
       "  <tbody>\n",
       "    <tr>\n",
       "      <th>0</th>\n",
       "      <td>24000</td>\n",
       "      <td>0.006</td>\n",
       "      <td>5.38</td>\n",
       "      <td>6.57</td>\n",
       "      <td>4.09</td>\n",
       "      <td>1</td>\n",
       "      <td>29.6</td>\n",
       "      <td>15.3</td>\n",
       "      <td>4.98</td>\n",
       "      <td>10.085810</td>\n",
       "      <td>1.682688</td>\n",
       "      <td>5.690360</td>\n",
       "    </tr>\n",
       "    <tr>\n",
       "      <th>1</th>\n",
       "      <td>21599</td>\n",
       "      <td>0.027</td>\n",
       "      <td>4.69</td>\n",
       "      <td>6.42</td>\n",
       "      <td>4.97</td>\n",
       "      <td>2</td>\n",
       "      <td>24.2</td>\n",
       "      <td>17.8</td>\n",
       "      <td>9.14</td>\n",
       "      <td>9.980402</td>\n",
       "      <td>1.545433</td>\n",
       "      <td>5.488938</td>\n",
       "    </tr>\n",
       "    <tr>\n",
       "      <th>2</th>\n",
       "      <td>34700</td>\n",
       "      <td>0.027</td>\n",
       "      <td>4.69</td>\n",
       "      <td>7.18</td>\n",
       "      <td>4.97</td>\n",
       "      <td>2</td>\n",
       "      <td>24.2</td>\n",
       "      <td>17.8</td>\n",
       "      <td>4.03</td>\n",
       "      <td>10.454500</td>\n",
       "      <td>1.545433</td>\n",
       "      <td>5.488938</td>\n",
       "    </tr>\n",
       "    <tr>\n",
       "      <th>3</th>\n",
       "      <td>33400</td>\n",
       "      <td>0.032</td>\n",
       "      <td>4.58</td>\n",
       "      <td>7.00</td>\n",
       "      <td>6.06</td>\n",
       "      <td>3</td>\n",
       "      <td>22.2</td>\n",
       "      <td>18.7</td>\n",
       "      <td>2.94</td>\n",
       "      <td>10.416310</td>\n",
       "      <td>1.521699</td>\n",
       "      <td>5.402678</td>\n",
       "    </tr>\n",
       "    <tr>\n",
       "      <th>4</th>\n",
       "      <td>36199</td>\n",
       "      <td>0.069</td>\n",
       "      <td>4.58</td>\n",
       "      <td>7.15</td>\n",
       "      <td>6.06</td>\n",
       "      <td>3</td>\n",
       "      <td>22.2</td>\n",
       "      <td>18.7</td>\n",
       "      <td>5.33</td>\n",
       "      <td>10.496790</td>\n",
       "      <td>1.521699</td>\n",
       "      <td>5.402678</td>\n",
       "    </tr>\n",
       "    <tr>\n",
       "      <th>...</th>\n",
       "      <td>...</td>\n",
       "      <td>...</td>\n",
       "      <td>...</td>\n",
       "      <td>...</td>\n",
       "      <td>...</td>\n",
       "      <td>...</td>\n",
       "      <td>...</td>\n",
       "      <td>...</td>\n",
       "      <td>...</td>\n",
       "      <td>...</td>\n",
       "      <td>...</td>\n",
       "      <td>...</td>\n",
       "    </tr>\n",
       "    <tr>\n",
       "      <th>501</th>\n",
       "      <td>22400</td>\n",
       "      <td>0.063</td>\n",
       "      <td>5.73</td>\n",
       "      <td>6.59</td>\n",
       "      <td>2.48</td>\n",
       "      <td>1</td>\n",
       "      <td>27.3</td>\n",
       "      <td>21.0</td>\n",
       "      <td>9.67</td>\n",
       "      <td>10.016820</td>\n",
       "      <td>1.745715</td>\n",
       "      <td>5.609472</td>\n",
       "    </tr>\n",
       "    <tr>\n",
       "      <th>502</th>\n",
       "      <td>20600</td>\n",
       "      <td>0.045</td>\n",
       "      <td>5.73</td>\n",
       "      <td>6.12</td>\n",
       "      <td>2.29</td>\n",
       "      <td>1</td>\n",
       "      <td>27.3</td>\n",
       "      <td>21.0</td>\n",
       "      <td>9.08</td>\n",
       "      <td>9.933046</td>\n",
       "      <td>1.745715</td>\n",
       "      <td>5.609472</td>\n",
       "    </tr>\n",
       "    <tr>\n",
       "      <th>503</th>\n",
       "      <td>23899</td>\n",
       "      <td>0.061</td>\n",
       "      <td>5.73</td>\n",
       "      <td>6.98</td>\n",
       "      <td>2.17</td>\n",
       "      <td>1</td>\n",
       "      <td>27.3</td>\n",
       "      <td>21.0</td>\n",
       "      <td>5.64</td>\n",
       "      <td>10.081590</td>\n",
       "      <td>1.745715</td>\n",
       "      <td>5.609472</td>\n",
       "    </tr>\n",
       "    <tr>\n",
       "      <th>504</th>\n",
       "      <td>22000</td>\n",
       "      <td>0.110</td>\n",
       "      <td>5.73</td>\n",
       "      <td>6.79</td>\n",
       "      <td>2.39</td>\n",
       "      <td>1</td>\n",
       "      <td>27.3</td>\n",
       "      <td>21.0</td>\n",
       "      <td>6.48</td>\n",
       "      <td>9.998797</td>\n",
       "      <td>1.745715</td>\n",
       "      <td>5.609472</td>\n",
       "    </tr>\n",
       "    <tr>\n",
       "      <th>505</th>\n",
       "      <td>11900</td>\n",
       "      <td>0.047</td>\n",
       "      <td>5.73</td>\n",
       "      <td>6.03</td>\n",
       "      <td>2.51</td>\n",
       "      <td>1</td>\n",
       "      <td>27.3</td>\n",
       "      <td>21.0</td>\n",
       "      <td>7.88</td>\n",
       "      <td>9.384294</td>\n",
       "      <td>1.745715</td>\n",
       "      <td>5.609472</td>\n",
       "    </tr>\n",
       "  </tbody>\n",
       "</table>\n",
       "<p>506 rows × 12 columns</p>\n",
       "</div>"
      ],
      "text/plain": [
       "     price  crime   nox  rooms  dist  radial  proptax  stratio  lowstat  \\\n",
       "0    24000  0.006  5.38   6.57  4.09       1     29.6     15.3     4.98   \n",
       "1    21599  0.027  4.69   6.42  4.97       2     24.2     17.8     9.14   \n",
       "2    34700  0.027  4.69   7.18  4.97       2     24.2     17.8     4.03   \n",
       "3    33400  0.032  4.58   7.00  6.06       3     22.2     18.7     2.94   \n",
       "4    36199  0.069  4.58   7.15  6.06       3     22.2     18.7     5.33   \n",
       "..     ...    ...   ...    ...   ...     ...      ...      ...      ...   \n",
       "501  22400  0.063  5.73   6.59  2.48       1     27.3     21.0     9.67   \n",
       "502  20600  0.045  5.73   6.12  2.29       1     27.3     21.0     9.08   \n",
       "503  23899  0.061  5.73   6.98  2.17       1     27.3     21.0     5.64   \n",
       "504  22000  0.110  5.73   6.79  2.39       1     27.3     21.0     6.48   \n",
       "505  11900  0.047  5.73   6.03  2.51       1     27.3     21.0     7.88   \n",
       "\n",
       "        lprice      lnox  lproptax  \n",
       "0    10.085810  1.682688  5.690360  \n",
       "1     9.980402  1.545433  5.488938  \n",
       "2    10.454500  1.545433  5.488938  \n",
       "3    10.416310  1.521699  5.402678  \n",
       "4    10.496790  1.521699  5.402678  \n",
       "..         ...       ...       ...  \n",
       "501  10.016820  1.745715  5.609472  \n",
       "502   9.933046  1.745715  5.609472  \n",
       "503  10.081590  1.745715  5.609472  \n",
       "504   9.998797  1.745715  5.609472  \n",
       "505   9.384294  1.745715  5.609472  \n",
       "\n",
       "[506 rows x 12 columns]"
      ]
     },
     "execution_count": 55,
     "metadata": {},
     "output_type": "execute_result"
    }
   ],
   "source": [
    "import pandas as pd\n",
    "\n",
    "df = pd.read_csv('HPRICE2.RAW', delim_whitespace=True, decimal='.', header=None)\n",
    "df = df.apply(pd.to_numeric) \n",
    "\n",
    "df = df.rename(columns={\n",
    "    0: \"price\",\n",
    "    1: \"crime\",\n",
    "    2: \"nox\",\n",
    "    3: \"rooms\",\n",
    "    4: \"dist\",\n",
    "    5: \"radial\",\n",
    "    6: \"proptax\",\n",
    "    7: \"stratio\",\n",
    "    8: \"lowstat\",\n",
    "    9: \"lprice\",\n",
    "    10: \"lnox\",\n",
    "    11: \"lproptax\",\n",
    "})\n",
    "\n",
    "df"
   ]
  },
  {
   "cell_type": "markdown",
   "metadata": {},
   "source": [
    "Creating the correlation matrix"
   ]
  },
  {
   "cell_type": "code",
   "execution_count": 56,
   "metadata": {},
   "outputs": [
    {
     "name": "stdout",
     "output_type": "stream",
     "text": [
      "             price     crime       nox     rooms      dist    radial  \\\n",
      "price     1.000000 -0.387919 -0.426037  0.695780  0.249339 -0.380837   \n",
      "crime    -0.387919  1.000000  0.421152 -0.218816 -0.379909  0.625442   \n",
      "nox      -0.426037  0.421152  1.000000 -0.302828 -0.770222  0.610328   \n",
      "rooms     0.695780 -0.218816 -0.302828  1.000000  0.205410 -0.209773   \n",
      "dist      0.249339 -0.379909 -0.770222  0.205410  1.000000 -0.495065   \n",
      "radial   -0.380837  0.625442  0.610328 -0.209773 -0.495065  1.000000   \n",
      "proptax  -0.467087  0.582819  0.666981 -0.292120 -0.534379  0.910228   \n",
      "stratio  -0.503340  0.288691  0.186863 -0.354008 -0.229269  0.464244   \n",
      "lowstat  -0.726391  0.447033  0.585613 -0.609605 -0.495602  0.476038   \n",
      "lprice    0.953320 -0.527495 -0.508767  0.632909  0.342008 -0.480971   \n",
      "lnox     -0.429447  0.429639  0.993943 -0.304988 -0.808795  0.624171   \n",
      "lproptax -0.473167  0.551393  0.659206 -0.299269 -0.513897  0.863531   \n",
      "\n",
      "           proptax   stratio   lowstat    lprice      lnox  lproptax  \n",
      "price    -0.467087 -0.503340 -0.726391  0.953320 -0.429447 -0.473167  \n",
      "crime     0.582819  0.288691  0.447033 -0.527495  0.429639  0.551393  \n",
      "nox       0.666981  0.186863  0.585613 -0.508767  0.993943  0.659206  \n",
      "rooms    -0.292120 -0.354008 -0.609605  0.632909 -0.304988 -0.299269  \n",
      "dist     -0.534379 -0.229269 -0.495602  0.342008 -0.808795 -0.513897  \n",
      "radial    0.910228  0.464244  0.476038 -0.480971  0.624171  0.863531  \n",
      "proptax   1.000000  0.454238  0.527624 -0.559671  0.677314  0.988586  \n",
      "stratio   0.454238  1.000000  0.365402 -0.497635  0.227910  0.422231  \n",
      "lowstat   0.527624  0.365402  1.000000 -0.791439  0.596220  0.510948  \n",
      "lprice   -0.559671 -0.497635 -0.791439  1.000000 -0.513371 -0.555311  \n",
      "lnox      0.677314  0.227910  0.596220 -0.513371  1.000000  0.667252  \n",
      "lproptax  0.988586  0.422231  0.510948 -0.555311  0.667252  1.000000  \n"
     ]
    }
   ],
   "source": [
    "# creating the correlation matrix\n",
    "correlation_matrix = df.corr()\n",
    "\n",
    "# showing correlation matrix\n",
    "print(correlation_matrix)"
   ]
  },
  {
   "cell_type": "markdown",
   "metadata": {},
   "source": [
    "Calculation of the condition number from the correlation matrix"
   ]
  },
  {
   "cell_type": "code",
   "execution_count": 57,
   "metadata": {},
   "outputs": [
    {
     "name": "stdout",
     "output_type": "stream",
     "text": [
      "Condition Number: 2030.5872016948472\n"
     ]
    },
    {
     "data": {
      "image/png": "[encoded data removed]",
      "text/plain": [
       "<Figure size 640x480 with 2 Axes>"
      ]
     },
     "metadata": {},
     "output_type": "display_data"
    }
   ],
   "source": [
    "import numpy as np\n",
    "\n",
    "# calculating eigenvalues of the correlation matrix\n",
    "eigenvalues = np.linalg.eigvals(correlation_matrix)\n",
    "\n",
    "# calculating the condition number utilizing the eigenvalues determined before\n",
    "condition_number = max(eigenvalues) / min(eigenvalues)\n",
    "\n",
    "# showing condition number\n",
    "print(\"Condition Number:\", condition_number)\n",
    "\n",
    "import seaborn as sns\n",
    "import matplotlib.pyplot as plt\n",
    "\n",
    "# we can actually see the problematic variables with this plot\n",
    "sns.heatmap(correlation_matrix, annot=True, cmap=\"coolwarm\")\n",
    "plt.title(\"Correlation Matrix\")\n",
    "plt.show()"
   ]
  },
  {
   "cell_type": "markdown",
   "metadata": {},
   "source": [
    "Question 6: Create three categories of nox levels (low, medium, high), corresponding to the following percentiles: 0-25%, 26%-74%, 75%-100%"
   ]
  },
  {
   "cell_type": "code",
   "execution_count": 58,
   "metadata": {},
   "outputs": [
    {
     "name": "stdout",
     "output_type": "stream",
     "text": [
      "     price  crime   nox  rooms  dist  radial  proptax  stratio  lowstat  \\\n",
      "0    24000  0.006  5.38   6.57  4.09       1     29.6     15.3     4.98   \n",
      "1    21599  0.027  4.69   6.42  4.97       2     24.2     17.8     9.14   \n",
      "2    34700  0.027  4.69   7.18  4.97       2     24.2     17.8     4.03   \n",
      "3    33400  0.032  4.58   7.00  6.06       3     22.2     18.7     2.94   \n",
      "4    36199  0.069  4.58   7.15  6.06       3     22.2     18.7     5.33   \n",
      "..     ...    ...   ...    ...   ...     ...      ...      ...      ...   \n",
      "501  22400  0.063  5.73   6.59  2.48       1     27.3     21.0     9.67   \n",
      "502  20600  0.045  5.73   6.12  2.29       1     27.3     21.0     9.08   \n",
      "503  23899  0.061  5.73   6.98  2.17       1     27.3     21.0     5.64   \n",
      "504  22000  0.110  5.73   6.79  2.39       1     27.3     21.0     6.48   \n",
      "505  11900  0.047  5.73   6.03  2.51       1     27.3     21.0     7.88   \n",
      "\n",
      "        lprice      lnox  lproptax nox_Category  \n",
      "0    10.085810  1.682688  5.690360       Medium  \n",
      "1     9.980402  1.545433  5.488938       Medium  \n",
      "2    10.454500  1.545433  5.488938       Medium  \n",
      "3    10.416310  1.521699  5.402678       Medium  \n",
      "4    10.496790  1.521699  5.402678       Medium  \n",
      "..         ...       ...       ...          ...  \n",
      "501  10.016820  1.745715  5.609472       Medium  \n",
      "502   9.933046  1.745715  5.609472       Medium  \n",
      "503  10.081590  1.745715  5.609472       Medium  \n",
      "504   9.998797  1.745715  5.609472       Medium  \n",
      "505   9.384294  1.745715  5.609472       Medium  \n",
      "\n",
      "[506 rows x 13 columns]\n"
     ]
    }
   ],
   "source": [
    "# creating the nox categories using the defined quantiles\n",
    "df['nox_Category'] = pd.qcut(\n",
    "    df['nox'], \n",
    "    q=[0, 0.25, 0.75, 1],  \n",
    "    labels=['Low', 'Medium', 'High'])\n",
    "\n",
    "# showing updated dataframe\n",
    "print(df)"
   ]
  },
  {
   "cell_type": "markdown",
   "metadata": {},
   "source": [
    "Question 7: Compute for each category of nox level the average median price and comment on your results."
   ]
  },
  {
   "cell_type": "code",
   "execution_count": 59,
   "metadata": {},
   "outputs": [
    {
     "name": "stdout",
     "output_type": "stream",
     "text": [
      "  nox_Category         price\n",
      "0          Low  26977.093750\n",
      "1       Medium  22741.555118\n",
      "2         High  17430.653226\n"
     ]
    },
    {
     "name": "stderr",
     "output_type": "stream",
     "text": [
      "C:\\Users\\guik2\\AppData\\Local\\Temp\\ipykernel_16816\\3818123462.py:2: FutureWarning: The default of observed=False is deprecated and will be changed to True in a future version of pandas. Pass observed=False to retain current behavior or observed=True to adopt the future default and silence this warning.\n",
      "  grouped_df = df.groupby('nox_Category')['price'].mean().reset_index()\n"
     ]
    }
   ],
   "source": [
    "# creating grouping by nox categories using (average) median housing price \n",
    "grouped_df = df.groupby('nox_Category')['price'].mean().reset_index()\n",
    "\n",
    "# showing the created dataframe\n",
    "print(grouped_df)"
   ]
  },
  {
   "cell_type": "markdown",
   "metadata": {},
   "source": [
    "Question 8: Produce a scatter plot with the variable price on the y-axis and the variable nox on the x-axis. Is this a ceteris paribus effect?"
   ]
  },
  {
   "cell_type": "code",
   "execution_count": 60,
   "metadata": {},
   "outputs": [
    {
     "data": {
      "image/png": "[encoded data removed]",
      "text/plain": [
       "<Figure size 640x480 with 1 Axes>"
      ]
     },
     "metadata": {},
     "output_type": "display_data"
    }
   ],
   "source": [
    "import matplotlib.pyplot as plt\n",
    "\n",
    "# setting up the scatter plot of nox vs. median housing price\n",
    "plt.scatter(df['nox'], df['price'])\n",
    "plt.title('Scatter Plot of nox vs. price')\n",
    "plt.xlabel('nox')\n",
    "plt.ylabel('price')\n",
    "\n",
    "# showing the plot\n",
    "plt.show()"
   ]
  },
  {
   "cell_type": "markdown",
   "metadata": {},
   "source": [
    "Question 9: Run a regression of price on a constant, crime, nox, rooms, proptax. Comment on the histogram of the residuals. Interpret all coefficients."
   ]
  },
  {
   "cell_type": "code",
   "execution_count": 61,
   "metadata": {},
   "outputs": [
    {
     "name": "stdout",
     "output_type": "stream",
     "text": [
      "                            OLS Regression Results                            \n",
      "==============================================================================\n",
      "Dep. Variable:                  price   R-squared:                       0.575\n",
      "Model:                            OLS   Adj. R-squared:                  0.572\n",
      "Method:                 Least Squares   F-statistic:                     169.6\n",
      "Date:                Sat, 07 Dec 2024   Prob (F-statistic):           1.06e-91\n",
      "Time:                        11:11:56   Log-Likelihood:                -5119.6\n",
      "No. Observations:                 506   AIC:                         1.025e+04\n",
      "Df Residuals:                     501   BIC:                         1.027e+04\n",
      "Df Model:                           4                                         \n",
      "Covariance Type:            nonrobust                                         \n",
      "==============================================================================\n",
      "                 coef    std err          t      P>|t|      [0.025      0.975]\n",
      "------------------------------------------------------------------------------\n",
      "const      -1.868e+04   3215.205     -5.811      0.000    -2.5e+04   -1.24e+04\n",
      "crime       -136.5438     38.529     -3.544      0.000    -212.241     -60.846\n",
      "nox         -660.4672    314.634     -2.099      0.036   -1278.632     -42.303\n",
      "rooms       7797.9286    404.345     19.285      0.000    7003.507    8592.350\n",
      "proptax      -89.4144     23.966     -3.731      0.000    -136.500     -42.329\n",
      "==============================================================================\n",
      "Omnibus:                      264.796   Durbin-Watson:                   0.752\n",
      "Prob(Omnibus):                  0.000   Jarque-Bera (JB):             2348.397\n",
      "Skew:                           2.111   Prob(JB):                         0.00\n",
      "Kurtosis:                      12.673   Cond. No.                         546.\n",
      "==============================================================================\n",
      "\n",
      "Notes:\n",
      "[1] Standard Errors assume that the covariance matrix of the errors is correctly specified.\n"
     ]
    }
   ],
   "source": [
    "import statsmodels.api as sm\n",
    "\n",
    "# this is the dataframe with the independent variables\n",
    "X = df[['crime', 'nox', 'rooms', 'proptax']]\n",
    "X = sm.add_constant(X)\n",
    "\n",
    "# this is the dataframe with the dependent variable\n",
    "y = df['price']\n",
    "\n",
    "# running the regression\n",
    "model = sm.OLS(y, X).fit()\n",
    "\n",
    "# printing the model summary\n",
    "print(model.summary())"
   ]
  },
  {
   "cell_type": "markdown",
   "metadata": {},
   "source": [
    "Interpretation of coeficients:\n",
    "\n",
    "const: -1.868e+04 -- model predicts this as the value of the median house pricing when all independent variables are set to zero. Of course this does not make any sense, but soo does not setting crime, nox, rooms and proptax to zero. This interpretation is simply nonsense.\n",
    "\n",
    "crime: -136.5438 -- means a unitary increase in crime commited per capita decreases the median by 136.5438, this makes sense, it makes sense that houses in violent places have less demand (thus less value) than otherwise.\n",
    "\n",
    "nox: -660.4672 -- means a unitary increase in nox decreases the median by 660.4672, since nox is usually related to air pollution (due to trafic and industries), it makes sense that houses in areas with higher nox are less demanded and therefore cheaper.\n",
    "\n",
    "rooms: 7797.9286 -- means a unitary increase in rooms increases the median by 7797.9286, more rooms in a house should mean an increase in house pricing. Makes sense, if we take two house batches, with one of them being bigger (cetteris paribus), it is expected that the one with the bigger houses has the higher median.\n",
    "\n",
    "proptax: -89.4144 -- means a unitary increase in proptax decreases the median by 89.4144, it makes sense that people in a place with higher property taxes (calculated on it's value) would prefer to keep values down in order to pay less taxes."
   ]
  },
  {
   "cell_type": "code",
   "execution_count": 62,
   "metadata": {},
   "outputs": [
    {
     "data": {
      "image/png": "[encoded data removed]",
      "text/plain": [
       "<Figure size 640x480 with 1 Axes>"
      ]
     },
     "metadata": {},
     "output_type": "display_data"
    }
   ],
   "source": [
    "# Get residuals\n",
    "residuals = model.resid\n",
    "\n",
    "# Plot histogram of residuals\n",
    "plt.hist(residuals, bins=30, edgecolor='k')\n",
    "plt.title(\"Histogram of Residuals\")\n",
    "plt.xlabel(\"Residuals\")\n",
    "plt.ylabel(\"Frequency\")\n",
    "plt.show()\n"
   ]
  },
  {
   "cell_type": "markdown",
   "metadata": {},
   "source": [
    "Comments on residuals histogram: this histogram shows that the \n",
    "\n"
   ]
  },
  {
   "cell_type": "markdown",
   "metadata": {},
   "source": [
    "Question 10: Run a regression of lprice on a constant, crime, nox, rooms, proptax. Interpret all coefficients."
   ]
  },
  {
   "cell_type": "code",
   "execution_count": 63,
   "metadata": {},
   "outputs": [
    {
     "name": "stdout",
     "output_type": "stream",
     "text": [
      "                            OLS Regression Results                            \n",
      "==============================================================================\n",
      "Dep. Variable:                 lprice   R-squared:                       0.611\n",
      "Model:                            OLS   Adj. R-squared:                  0.608\n",
      "Method:                 Least Squares   F-statistic:                     196.9\n",
      "Date:                Sat, 07 Dec 2024   Prob (F-statistic):          2.50e-101\n",
      "Time:                        11:11:56   Log-Likelihood:                -26.367\n",
      "No. Observations:                 506   AIC:                             62.73\n",
      "Df Residuals:                     501   BIC:                             83.87\n",
      "Df Model:                           4                                         \n",
      "Covariance Type:            nonrobust                                         \n",
      "==============================================================================\n",
      "                 coef    std err          t      P>|t|      [0.025      0.975]\n",
      "------------------------------------------------------------------------------\n",
      "const          8.6550      0.137     63.320      0.000       8.386       8.924\n",
      "crime         -0.0125      0.002     -7.641      0.000      -0.016      -0.009\n",
      "nox           -0.0476      0.013     -3.557      0.000      -0.074      -0.021\n",
      "rooms          0.2816      0.017     16.379      0.000       0.248       0.315\n",
      "proptax       -0.0043      0.001     -4.184      0.000      -0.006      -0.002\n",
      "==============================================================================\n",
      "Omnibus:                      118.409   Durbin-Watson:                   0.764\n",
      "Prob(Omnibus):                  0.000   Jarque-Bera (JB):              730.140\n",
      "Skew:                           0.859   Prob(JB):                    2.83e-159\n",
      "Kurtosis:                       8.629   Cond. No.                         546.\n",
      "==============================================================================\n",
      "\n",
      "Notes:\n",
      "[1] Standard Errors assume that the covariance matrix of the errors is correctly specified.\n"
     ]
    }
   ],
   "source": [
    "import statsmodels.api as sm\n",
    "\n",
    "# this is the dataframe with the independent variables\n",
    "X = df[['crime', 'nox', 'rooms', 'proptax']]\n",
    "X = sm.add_constant(X)\n",
    "\n",
    "# this is the dataframe with the dependent variable\n",
    "y = df['lprice']\n",
    "\n",
    "# running the regression\n",
    "model = sm.OLS(y, X).fit()\n",
    "\n",
    "# printing the model summary\n",
    "print(model.summary())"
   ]
  },
  {
   "cell_type": "markdown",
   "metadata": {},
   "source": [
    "Question 11: Run a regression of lprice on a constant, crime, lnox, rooms, lproptax. Interpret all coefficients."
   ]
  },
  {
   "cell_type": "code",
   "execution_count": 64,
   "metadata": {},
   "outputs": [
    {
     "name": "stdout",
     "output_type": "stream",
     "text": [
      "                            OLS Regression Results                            \n",
      "==============================================================================\n",
      "Dep. Variable:                 lprice   R-squared:                       0.612\n",
      "Model:                            OLS   Adj. R-squared:                  0.609\n",
      "Method:                 Least Squares   F-statistic:                     197.4\n",
      "Date:                Sat, 07 Dec 2024   Prob (F-statistic):          1.77e-101\n",
      "Time:                        11:11:56   Log-Likelihood:                -26.021\n",
      "No. Observations:                 506   AIC:                             62.04\n",
      "Df Residuals:                     501   BIC:                             83.18\n",
      "Df Model:                           4                                         \n",
      "Covariance Type:            nonrobust                                         \n",
      "==============================================================================\n",
      "                 coef    std err          t      P>|t|      [0.025      0.975]\n",
      "------------------------------------------------------------------------------\n",
      "const          9.7505      0.253     38.476      0.000       9.253      10.248\n",
      "crime         -0.0128      0.002     -8.002      0.000      -0.016      -0.010\n",
      "lnox          -0.2769      0.077     -3.591      0.000      -0.428      -0.125\n",
      "rooms          0.2802      0.017     16.282      0.000       0.246       0.314\n",
      "lproptax      -0.1779      0.042     -4.215      0.000      -0.261      -0.095\n",
      "==============================================================================\n",
      "Omnibus:                      116.110   Durbin-Watson:                   0.768\n",
      "Prob(Omnibus):                  0.000   Jarque-Bera (JB):              716.737\n",
      "Skew:                           0.838   Prob(JB):                    2.30e-156\n",
      "Kurtosis:                       8.585   Cond. No.                         241.\n",
      "==============================================================================\n",
      "\n",
      "Notes:\n",
      "[1] Standard Errors assume that the covariance matrix of the errors is correctly specified.\n"
     ]
    }
   ],
   "source": [
    "import statsmodels.api as sm\n",
    "\n",
    "# this is the dataframe with the independent variables\n",
    "X = df[['crime', 'lnox', 'rooms', 'lproptax']]\n",
    "X = sm.add_constant(X)\n",
    "\n",
    "# this is the dataframe with the dependent variable\n",
    "y = df['lprice']\n",
    "\n",
    "# running the regression\n",
    "model = sm.OLS(y, X).fit()\n",
    "\n",
    "# printing the model summary\n",
    "print(model.summary())"
   ]
  },
  {
   "cell_type": "markdown",
   "metadata": {},
   "source": [
    "Question 12: In the specification of question 9, test the hypothesis H0: Betanox = 0 vs. H1: Betanox ≠ 0 at the 1% level using the p-value of the test."
   ]
  },
  {
   "cell_type": "code",
   "execution_count": 65,
   "metadata": {},
   "outputs": [
    {
     "name": "stdout",
     "output_type": "stream",
     "text": [
      "                            OLS Regression Results                            \n",
      "==============================================================================\n",
      "Dep. Variable:                  price   R-squared:                       0.575\n",
      "Model:                            OLS   Adj. R-squared:                  0.572\n",
      "Method:                 Least Squares   F-statistic:                     169.6\n",
      "Date:                Sat, 07 Dec 2024   Prob (F-statistic):           1.06e-91\n",
      "Time:                        11:11:56   Log-Likelihood:                -5119.6\n",
      "No. Observations:                 506   AIC:                         1.025e+04\n",
      "Df Residuals:                     501   BIC:                         1.027e+04\n",
      "Df Model:                           4                                         \n",
      "Covariance Type:            nonrobust                                         \n",
      "==============================================================================\n",
      "                 coef    std err          t      P>|t|      [0.025      0.975]\n",
      "------------------------------------------------------------------------------\n",
      "const      -1.868e+04   3215.205     -5.811      0.000    -2.5e+04   -1.24e+04\n",
      "crime       -136.5438     38.529     -3.544      0.000    -212.241     -60.846\n",
      "nox         -660.4672    314.634     -2.099      0.036   -1278.632     -42.303\n",
      "rooms       7797.9286    404.345     19.285      0.000    7003.507    8592.350\n",
      "proptax      -89.4144     23.966     -3.731      0.000    -136.500     -42.329\n",
      "==============================================================================\n",
      "Omnibus:                      264.796   Durbin-Watson:                   0.752\n",
      "Prob(Omnibus):                  0.000   Jarque-Bera (JB):             2348.397\n",
      "Skew:                           2.111   Prob(JB):                         0.00\n",
      "Kurtosis:                      12.673   Cond. No.                         546.\n",
      "==============================================================================\n",
      "\n",
      "Notes:\n",
      "[1] Standard Errors assume that the covariance matrix of the errors is correctly specified.\n",
      "p-value for nox: 0.036302434683111104\n"
     ]
    }
   ],
   "source": [
    "import statsmodels.api as sm\n",
    "\n",
    "# this is the dataframe with the independent variables\n",
    "X = df[['crime', 'nox', 'rooms', 'proptax']]\n",
    "X = sm.add_constant(X)\n",
    "\n",
    "# this is the dataframe with the dependent variable\n",
    "y = df['price']\n",
    "\n",
    "# running the regression\n",
    "model = sm.OLS(y, X).fit()\n",
    "\n",
    "# printing the model summary\n",
    "print(model.summary())\n",
    "\n",
    "# extracting the p-value\n",
    "p_value_nox = model.pvalues['nox']\n",
    "print(\"p-value for nox:\", p_value_nox)\n"
   ]
  },
  {
   "cell_type": "markdown",
   "metadata": {},
   "source": [
    "We see the p-value = 3.6% > 1% so we fail to reject the null hypothesis."
   ]
  },
  {
   "cell_type": "markdown",
   "metadata": {},
   "source": [
    "Question 13: In the specification of question 9, test the hypothesis H0: betacrime = betaproptax at the 10% level "
   ]
  },
  {
   "cell_type": "code",
   "execution_count": 66,
   "metadata": {},
   "outputs": [
    {
     "name": "stdout",
     "output_type": "stream",
     "text": [
      "t-statistic: -0.8797069716720965\n",
      "Critical t-values: ±1.647900748316425\n"
     ]
    }
   ],
   "source": [
    "import statsmodels.api as sm\n",
    "from scipy.stats import t\n",
    "\n",
    "df['crime_proptax'] = df['crime'] + df['proptax']\n",
    "\n",
    "X = df[['crime', 'crime_proptax', 'nox', 'rooms']]\n",
    "X = sm.add_constant(X)\n",
    "\n",
    "y = df['price']\n",
    "\n",
    "model = sm.OLS(y, X).fit()\n",
    "\n",
    "theta = model.params['crime']\n",
    "se_theta = model.bse['crime']\n",
    "\n",
    "t_stat = theta / se_theta\n",
    "\n",
    "n = len(y)\n",
    "k = X.shape[1] \n",
    "t_critical = t.ppf(1 - 0.1 / 2, n - k)\n",
    "\n",
    "print(f\"t-statistic: {t_stat}\")\n",
    "print(f\"Critical t-values: ±{t_critical}\")"
   ]
  },
  {
   "cell_type": "markdown",
   "metadata": {},
   "source": [
    "We see that the t-statistic value is not in the rejection region, thus we fail to reject the null hypothesis."
   ]
  },
  {
   "cell_type": "markdown",
   "metadata": {},
   "source": [
    "Question 14: In the specification of question 9, test the hypothesis H0: betanox = 0, betaproptax = 0 at the 10% level."
   ]
  },
  {
   "cell_type": "code",
   "execution_count": 67,
   "metadata": {},
   "outputs": [
    {
     "name": "stdout",
     "output_type": "stream",
     "text": [
      "                            OLS Regression Results                            \n",
      "==============================================================================\n",
      "Dep. Variable:                  price   R-squared:                       0.575\n",
      "Model:                            OLS   Adj. R-squared:                  0.572\n",
      "Method:                 Least Squares   F-statistic:                     169.6\n",
      "Date:                Sat, 07 Dec 2024   Prob (F-statistic):           1.06e-91\n",
      "Time:                        11:11:56   Log-Likelihood:                -5119.6\n",
      "No. Observations:                 506   AIC:                         1.025e+04\n",
      "Df Residuals:                     501   BIC:                         1.027e+04\n",
      "Df Model:                           4                                         \n",
      "Covariance Type:            nonrobust                                         \n",
      "==============================================================================\n",
      "                 coef    std err          t      P>|t|      [0.025      0.975]\n",
      "------------------------------------------------------------------------------\n",
      "const      -1.868e+04   3215.205     -5.811      0.000    -2.5e+04   -1.24e+04\n",
      "crime       -136.5438     38.529     -3.544      0.000    -212.241     -60.846\n",
      "nox         -660.4672    314.634     -2.099      0.036   -1278.632     -42.303\n",
      "rooms       7797.9286    404.345     19.285      0.000    7003.507    8592.350\n",
      "proptax      -89.4144     23.966     -3.731      0.000    -136.500     -42.329\n",
      "==============================================================================\n",
      "Omnibus:                      264.796   Durbin-Watson:                   0.752\n",
      "Prob(Omnibus):                  0.000   Jarque-Bera (JB):             2348.397\n",
      "Skew:                           2.111   Prob(JB):                         0.00\n",
      "Kurtosis:                      12.673   Cond. No.                         546.\n",
      "==============================================================================\n",
      "\n",
      "Notes:\n",
      "[1] Standard Errors assume that the covariance matrix of the errors is correctly specified.\n",
      "                            OLS Regression Results                            \n",
      "==============================================================================\n",
      "Dep. Variable:                  price   R-squared:                       0.542\n",
      "Model:                            OLS   Adj. R-squared:                  0.541\n",
      "Method:                 Least Squares   F-statistic:                     298.2\n",
      "Date:                Sat, 07 Dec 2024   Prob (F-statistic):           4.00e-86\n",
      "Time:                        11:11:56   Log-Likelihood:                -5138.4\n",
      "No. Observations:                 506   AIC:                         1.028e+04\n",
      "Df Residuals:                     503   BIC:                         1.030e+04\n",
      "Df Model:                           2                                         \n",
      "Covariance Type:            nonrobust                                         \n",
      "==============================================================================\n",
      "                 coef    std err          t      P>|t|      [0.025      0.975]\n",
      "------------------------------------------------------------------------------\n",
      "const      -2.938e+04   2589.597    -11.344      0.000   -3.45e+04   -2.43e+04\n",
      "crime       -265.3479     33.135     -8.008      0.000    -330.449    -200.247\n",
      "rooms       8409.6512    405.129     20.758      0.000    7613.697    9205.606\n",
      "==============================================================================\n",
      "Omnibus:                      173.164   Durbin-Watson:                   0.816\n",
      "Prob(Omnibus):                  0.000   Jarque-Bera (JB):             1051.477\n",
      "Skew:                           1.356   Prob(JB):                    4.73e-229\n",
      "Kurtosis:                       9.521   Cond. No.                         92.2\n",
      "==============================================================================\n",
      "\n",
      "Notes:\n",
      "[1] Standard Errors assume that the covariance matrix of the errors is correctly specified.\n",
      "F: 19.311290349552838\n",
      "F_critical: 2.3132002236303255\n"
     ]
    }
   ],
   "source": [
    "# this is the unrestricted dataframe with the independent variables\n",
    "X = df[['crime', 'nox', 'rooms', 'proptax']]\n",
    "\n",
    "X = sm.add_constant(X)\n",
    "X0=X\n",
    "\n",
    "# this is the dataframe with the dependent variable\n",
    "y = df['price']\n",
    "\n",
    "# running the regression\n",
    "model = sm.OLS(y, X).fit()\n",
    "\n",
    "print(model.summary())\n",
    "\n",
    "# getting the residuals\n",
    "u = model.resid\n",
    "SSR0 = u.T @ u\n",
    "\n",
    "# this is the restricted dataframe with the independent variables\n",
    "X = df[['crime', 'rooms']]\n",
    "X = sm.add_constant(X)\n",
    "\n",
    "# this is the dataframe with the dependent variable\n",
    "y = df['price']\n",
    "\n",
    "# running the regression\n",
    "model = sm.OLS(y, X).fit()\n",
    "\n",
    "print(model.summary())\n",
    "\n",
    "# getting the residuals\n",
    "u = model.resid\n",
    "SSR1 = u.T @ u\n",
    "\n",
    "# running the f test\n",
    "\n",
    "from scipy.stats import f\n",
    "\n",
    "n,k=np.shape(X0)\n",
    "\n",
    "F = ((SSR1-SSR0)/2)/(SSR0/(n-k))\n",
    "\n",
    "F_critical = f.ppf(1 - 0.1, 2, n-k)\n",
    "\n",
    "print('F:', F)\n",
    "print('F_critical:', F_critical)\n"
   ]
  },
  {
   "cell_type": "markdown",
   "metadata": {},
   "source": [
    "We have found (F-statistic = 19.3) > (F_critical = 2.3) so we reject the null hypothesis."
   ]
  },
  {
   "cell_type": "markdown",
   "metadata": {},
   "source": [
    "Question 15: In the specification of question 9, test the hypothesis H0: betanox = -500, betaproptax = -100 at the 10% level using the p-value of the test"
   ]
  },
  {
   "cell_type": "code",
   "execution_count": 68,
   "metadata": {},
   "outputs": [
    {
     "name": "stdout",
     "output_type": "stream",
     "text": [
      "p-value: 0.8618777787518017\n"
     ]
    }
   ],
   "source": [
    "# this is the unrestricted dataframe with the independent variables\n",
    "X = df[['crime', 'nox', 'rooms', 'proptax']]\n",
    "\n",
    "X = sm.add_constant(X)\n",
    "X0=X\n",
    "\n",
    "# this is the dataframe with the dependent variable\n",
    "y = df['price']\n",
    "\n",
    "# running the regression\n",
    "model = sm.OLS(y, X).fit()\n",
    "\n",
    "# getting the residuals\n",
    "u = model.resid\n",
    "SSR0 = u.T @ u\n",
    "\n",
    "# this is the restricted dataframe with the independent variables\n",
    "X = df[['crime', 'rooms']]\n",
    "X = sm.add_constant(X)\n",
    "\n",
    "# this is the dataframe with the dependent variable\n",
    "y = df['price'] - (-500 * df['nox']) - (-100 * df['proptax'])\n",
    "\n",
    "# running the regression\n",
    "model = sm.OLS(y, X).fit()\n",
    "\n",
    "# getting the residuals\n",
    "u = model.resid\n",
    "SSR1 = u.T @ u\n",
    "\n",
    "# running the f test\n",
    "\n",
    "from scipy.stats import f\n",
    "\n",
    "n,k=np.shape(X0)\n",
    "F = ((SSR1-SSR0)/2)/(SSR0/(n-k))\n",
    "print('p-value:', f.sf(F,2,n-k))\n"
   ]
  },
  {
   "cell_type": "markdown",
   "metadata": {},
   "source": [
    "We got p-value = 0.86 which is higher than 10% so we fail to reject the null hypothesis."
   ]
  },
  {
   "cell_type": "markdown",
   "metadata": {},
   "source": [
    "Question 16: In the specification of question 9, test the hypothesis that all coefficients are the same for observations with low levels of nox vs. medium and high levels of nox."
   ]
  },
  {
   "cell_type": "code",
   "execution_count": 71,
   "metadata": {},
   "outputs": [
    {
     "name": "stdout",
     "output_type": "stream",
     "text": [
      "Chow Test F-statistic: 5.569109275383501\n",
      "p-value: 5.277261362468533e-05\n"
     ]
    }
   ],
   "source": [
    "import statsmodels.api as sm\n",
    "import numpy as np\n",
    "\n",
    "X = df[['crime', 'nox', 'rooms', 'proptax']]\n",
    "X = sm.add_constant(X)\n",
    "y = df['price']\n",
    "\n",
    "pooled_model = sm.OLS(y, X).fit()\n",
    "SSR_pooled = np.sum(pooled_model.resid**2)\n",
    "\n",
    "# low nox group\n",
    "X_low = sm.add_constant(df_low[['crime', 'nox', 'rooms', 'proptax']])\n",
    "y_low = df_low['price']\n",
    "low_model = sm.OLS(y_low, X_low).fit()\n",
    "SSR_low = np.sum(low_model.resid**2)\n",
    "\n",
    "# medium and high nox group\n",
    "df_medium_high = df[df['nox_Category'] != 'Low']\n",
    "X_med_high = sm.add_constant(df_medium_high[['crime', 'nox', 'rooms', 'proptax']])\n",
    "y_med_high = df_medium_high['price']\n",
    "med_high_model = sm.OLS(y_med_high, X_med_high).fit()\n",
    "SSR_med_high = np.sum(med_high_model.resid**2)\n",
    "\n",
    "n_total = len(y)\n",
    "n_low = len(y_low)\n",
    "n_med_high = len(y_med_high)\n",
    "k = X.shape[1]  \n",
    "\n",
    "# calculating Chow\n",
    "F = ((SSR_pooled - (SSR_low + SSR_med_high)) / k) / ((SSR_low + SSR_med_high) / (n_low + n_med_high - 2 * k))\n",
    "\n",
    "# calculating the p-value and F-distribution\n",
    "from scipy.stats import f\n",
    "p_value = 1 - f.cdf(F, k, n_low + n_med_high - 2 * k)\n",
    "\n",
    "print(f\"Chow Test F-statistic: {F}\")\n",
    "print(f\"p-value: {p_value}\")\n",
    "\n"
   ]
  },
  {
   "cell_type": "markdown",
   "metadata": {},
   "source": [
    "Eu may consider the significance level 1% - we will reject the null hypothesis because the p-value is very low - so the coeficients are not the same across both groups."
   ]
  },
  {
   "cell_type": "markdown",
   "metadata": {},
   "source": [
    "Question 17: Repeat the test of question 16 but now assuming that only the coefficients of nox and proptax can change between the two groups of observations. State and test H0."
   ]
  },
  {
   "cell_type": "code",
   "execution_count": 70,
   "metadata": {},
   "outputs": [
    {
     "ename": "IndentationError",
     "evalue": "expected an indented block after function definition on line 2 (3886168864.py, line 3)",
     "output_type": "error",
     "traceback": [
      "\u001b[1;36m  Cell \u001b[1;32mIn[70], line 3\u001b[1;36m\u001b[0m\n\u001b[1;33m    X = data[variables]\u001b[0m\n\u001b[1;37m    ^\u001b[0m\n\u001b[1;31mIndentationError\u001b[0m\u001b[1;31m:\u001b[0m expected an indented block after function definition on line 2\n"
     ]
    }
   ],
   "source": [
    "    # Function to run regression and return SSR\n",
    "def run_regression(data, variables):\n",
    "    X = data[variables]\n",
    "    X = sm.add_constant(X)\n",
    "    y = data['price']\n",
    "    model = sm.OLS(y, X).fit()\n",
    "    SSR = model.ssr\n",
    "    return SSR, len(y), X.shape[1]\n",
    "\n",
    "# Variables for the unrestricted model\n",
    "variables_unrestricted = ['crime', 'nox', 'rooms', 'proptax']\n",
    "\n",
    "# Run unrestricted regressions for the two groups\n",
    "SSR_low_unrestricted, n_low, k_low = run_regression(df_low, variables_unrestricted)\n",
    "SSR_medium_high_unrestricted, n_medium_high, k_medium_high = run_regression(df_medium_high, variables_unrestricted)\n",
    "\n",
    "# Variables for the restricted model (excluding nox and proptax)\n",
    "variables_restricted = ['crime', 'rooms']\n",
    "\n",
    "# Run restricted regressions for the two groups\n",
    "SSR_low_restricted, _, _ = run_regression(df_low, variables_restricted)\n",
    "SSR_medium_high_restricted, _, _ = run_regression(df_medium_high, variables_restricted)\n",
    "\n",
    "# Calculate total SSR for unrestricted and restricted models\n",
    "SSR_unrestricted = SSR_low_unrestricted + SSR_medium_high_unrestricted\n",
    "SSR_restricted = SSR_low_restricted + SSR_medium_high_restricted\n",
    "\n",
    "# Calculate F-statistic\n",
    "n_total = n_low + n_medium_high\n",
    "k_total = k_low  # Assuming the number of independent variables is the same\n",
    "\n",
    "F = ((SSR_restricted - SSR_unrestricted) / 2) / (SSR_unrestricted / (n_total - 2 * k_total))\n",
    "F_critical = f.ppf(1 - 0.1, 2, n_total - 2 * k_total)\n",
    "\n",
    "print('F:', F)\n",
    "print('F_critical:', F_critical)\n",
    "\n",
    "# Check if we reject the null hypothesis\n",
    "if F > F_critical:\n",
    "    print(\"We reject the null hypothesis that only the coefficients of nox and proptax can change between the two groups of observations.\")\n",
    "else:\n",
    "    print(\"We fail to reject the null hypothesis that only the coefficients of nox and proptax can change between the two groups of observations.\")"
   ]
  }
 ],
 "metadata": {
  "kernelspec": {
   "display_name": "Python 3",
   "language": "python",
   "name": "python3"
  },
  "language_info": {
   "codemirror_mode": {
    "name": "ipython",
    "version": 3
   },
   "file_extension": ".py",
   "mimetype": "text/x-python",
   "name": "python",
   "nbconvert_exporter": "python",
   "pygments_lexer": "ipython3",
   "version": "3.11.9"
  }
 },
 "nbformat": 4,
 "nbformat_minor": 2
}
