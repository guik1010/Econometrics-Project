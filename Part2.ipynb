{
 "cells": [
  {
   "cell_type": "markdown",
   "metadata": {},
   "source": [
    "Part 2 - Heteroskesdacity"
   ]
  },
  {
   "cell_type": "markdown",
   "metadata": {},
   "source": [
    "Question 19:"
   ]
  },
  {
   "cell_type": "code",
   "execution_count": 60,
   "metadata": {},
   "outputs": [
    {
     "name": "stderr",
     "output_type": "stream",
     "text": [
      "C:\\Users\\guik2\\AppData\\Local\\Temp\\ipykernel_18076\\657320903.py:3: FutureWarning: The 'delim_whitespace' keyword in pd.read_csv is deprecated and will be removed in a future version. Use ``sep='\\s+'`` instead\n",
      "  df = pd.read_csv('HPRICE2.RAW', delim_whitespace=True, decimal='.', header=None)\n"
     ]
    }
   ],
   "source": [
    "import pandas as pd\n",
    "\n",
    "df = pd.read_csv('HPRICE2.RAW', delim_whitespace=True, decimal='.', header=None)\n",
    "df = df.apply(pd.to_numeric) \n",
    "\n",
    "df = df.rename(columns={\n",
    "    0: \"price\",\n",
    "    1: \"crime\",\n",
    "    2: \"nox\",\n",
    "    3: \"rooms\",\n",
    "    4: \"dist\",\n",
    "    5: \"radial\",\n",
    "    6: \"proptax\",\n",
    "    7: \"stratio\",\n",
    "    8: \"lowstat\",\n",
    "    9: \"lprice\",\n",
    "    10: \"lnox\",\n",
    "    11: \"lproptax\",\n",
    "})"
   ]
  },
  {
   "cell_type": "code",
   "execution_count": 61,
   "metadata": {},
   "outputs": [
    {
     "name": "stdout",
     "output_type": "stream",
     "text": [
      "                            OLS Regression Results                            \n",
      "==============================================================================\n",
      "Dep. Variable:                      y   R-squared:                       0.051\n",
      "Model:                            OLS   Adj. R-squared:                  0.044\n",
      "Method:                 Least Squares   F-statistic:                     6.799\n",
      "Date:                Mon, 02 Dec 2024   Prob (F-statistic):           2.47e-05\n",
      "Time:                        22:16:30   Log-Likelihood:                -10130.\n",
      "No. Observations:                 506   AIC:                         2.027e+04\n",
      "Df Residuals:                     501   BIC:                         2.029e+04\n",
      "Df Model:                           4                                         \n",
      "Covariance Type:            nonrobust                                         \n",
      "==============================================================================\n",
      "                 coef    std err          t      P>|t|      [0.025      0.975]\n",
      "------------------------------------------------------------------------------\n",
      "const      -5.885e+07   6.41e+07     -0.917      0.359   -1.85e+08    6.72e+07\n",
      "crime      -9.687e+05   7.69e+05     -1.260      0.208   -2.48e+06    5.42e+05\n",
      "nox         9.091e+05   6.28e+06      0.145      0.885   -1.14e+07    1.32e+07\n",
      "rooms        2.63e+06   8.07e+06      0.326      0.745   -1.32e+07    1.85e+07\n",
      "proptax      1.88e+06   4.78e+05      3.931      0.000     9.4e+05    2.82e+06\n",
      "==============================================================================\n",
      "Omnibus:                      760.905   Durbin-Watson:                   0.777\n",
      "Prob(Omnibus):                  0.000   Jarque-Bera (JB):           159893.659\n",
      "Skew:                           8.299   Prob(JB):                         0.00\n",
      "Kurtosis:                      88.489   Cond. No.                         546.\n",
      "==============================================================================\n",
      "\n",
      "Notes:\n",
      "[1] Standard Errors assume that the covariance matrix of the errors is correctly specified.\n"
     ]
    }
   ],
   "source": [
    "import statsmodels.api as sm\n",
    "\n",
    "# this is the dataframe with the independent variables\n",
    "X = df[['crime', 'nox', 'rooms', 'proptax']]\n",
    "X = sm.add_constant(X)\n",
    "\n",
    "# this is the dataframe with the dependent variable\n",
    "y = df['price']\n",
    "\n",
    "# running the regression\n",
    "model = sm.OLS(y, X).fit()\n",
    "\n",
    "# now, making the regression of u2 on the appointed variables\n",
    "u=model.resid\n",
    "u2=u**2\n",
    "y=u2\n",
    "model=sm.OLS(y,X)\n",
    "results = model.fit()\n",
    "\n",
    "print(results.summary())"
   ]
  },
  {
   "cell_type": "markdown",
   "metadata": {},
   "source": [
    "Only 5.1% of the error variation can be explained by the independent variables (R-Squared).\n",
    "Probability of F-Statistic is very low, which means the chances of gettig these results given homoskedascity are very low, meaning we are probably looking at heteroskesdacity. We don't really know at this point which variable is causing this, since the F-Statistic looks at the collective impact of the variables.\n",
    "And the p-value for all our variables are pretty high except for proptax. This means proptax is significately associated with the residues variance: we reject homoskesdacity hypothesis.\n",
    "\n"
   ]
  },
  {
   "cell_type": "markdown",
   "metadata": {},
   "source": [
    "Question 20: In the specification of question 10, test the hypothesis of no heteroskedasticity of linear form."
   ]
  },
  {
   "cell_type": "code",
   "execution_count": 62,
   "metadata": {},
   "outputs": [
    {
     "name": "stdout",
     "output_type": "stream",
     "text": [
      "                            OLS Regression Results                            \n",
      "==============================================================================\n",
      "Dep. Variable:                      y   R-squared:                       0.126\n",
      "Model:                            OLS   Adj. R-squared:                  0.119\n",
      "Method:                 Least Squares   F-statistic:                     17.98\n",
      "Date:                Mon, 02 Dec 2024   Prob (F-statistic):           8.33e-14\n",
      "Time:                        22:16:30   Log-Likelihood:                 185.10\n",
      "No. Observations:                 506   AIC:                            -360.2\n",
      "Df Residuals:                     501   BIC:                            -339.1\n",
      "Df Model:                           4                                         \n",
      "Covariance Type:            nonrobust                                         \n",
      "==============================================================================\n",
      "                 coef    std err          t      P>|t|      [0.025      0.975]\n",
      "------------------------------------------------------------------------------\n",
      "const          0.0757      0.090      0.842      0.400      -0.101       0.253\n",
      "crime      -3.794e-05      0.001     -0.035      0.972      -0.002       0.002\n",
      "nox            0.0001      0.009      0.017      0.986      -0.017       0.017\n",
      "rooms         -0.0237      0.011     -2.096      0.037      -0.046      -0.001\n",
      "proptax        0.0034      0.001      5.026      0.000       0.002       0.005\n",
      "==============================================================================\n",
      "Omnibus:                      612.530   Durbin-Watson:                   0.914\n",
      "Prob(Omnibus):                  0.000   Jarque-Bera (JB):            48787.030\n",
      "Skew:                           5.865   Prob(JB):                         0.00\n",
      "Kurtosis:                      49.652   Cond. No.                         546.\n",
      "==============================================================================\n",
      "\n",
      "Notes:\n",
      "[1] Standard Errors assume that the covariance matrix of the errors is correctly specified.\n"
     ]
    }
   ],
   "source": [
    "import statsmodels.api as sm\n",
    "\n",
    "# this is the dataframe with the independent variables\n",
    "X = df[['crime', 'nox', 'rooms', 'proptax']]\n",
    "X = sm.add_constant(X)\n",
    "\n",
    "# this is the dataframe with the dependent variable\n",
    "y = df['lprice']\n",
    "\n",
    "# running the regression\n",
    "model = sm.OLS(y, X).fit()\n",
    "\n",
    "# now, making the regression of u2 on the appointed variables\n",
    "u=model.resid\n",
    "u2=u**2\n",
    "y=u2\n",
    "model=sm.OLS(y,X)\n",
    "results = model.fit()\n",
    "\n",
    "print(results.summary())\n",
    "\n"
   ]
  },
  {
   "cell_type": "markdown",
   "metadata": {},
   "source": [
    "We found an even bigger F-Statistic (independent variables are explaining the change in error). This points to heteroskesdacity.\n",
    "And now, we can see that not only proptax p-value is small, the rooms p-value is also small. That means these two independent variables are explaining the change in the error."
   ]
  },
  {
   "cell_type": "markdown",
   "metadata": {},
   "source": [
    "Question 21: In the specification of question 11, test the hypothesis of no heteroskedasticity of linear form."
   ]
  },
  {
   "cell_type": "code",
   "execution_count": 63,
   "metadata": {},
   "outputs": [
    {
     "name": "stdout",
     "output_type": "stream",
     "text": [
      "                            OLS Regression Results                            \n",
      "==============================================================================\n",
      "Dep. Variable:                      y   R-squared:                       0.116\n",
      "Model:                            OLS   Adj. R-squared:                  0.109\n",
      "Method:                 Least Squares   F-statistic:                     16.51\n",
      "Date:                Mon, 02 Dec 2024   Prob (F-statistic):           1.02e-12\n",
      "Time:                        22:16:30   Log-Likelihood:                 184.66\n",
      "No. Observations:                 506   AIC:                            -359.3\n",
      "Df Residuals:                     501   BIC:                            -338.2\n",
      "Df Model:                           4                                         \n",
      "Covariance Type:            nonrobust                                         \n",
      "==============================================================================\n",
      "                 coef    std err          t      P>|t|      [0.025      0.975]\n",
      "------------------------------------------------------------------------------\n",
      "const         -0.5496      0.167     -3.289      0.001      -0.878      -0.221\n",
      "crime          0.0006      0.001      0.577      0.564      -0.001       0.003\n",
      "lnox           0.0404      0.051      0.794      0.427      -0.060       0.140\n",
      "rooms         -0.0219      0.011     -1.928      0.054      -0.044       0.000\n",
      "lproptax       0.1149      0.028      4.128      0.000       0.060       0.170\n",
      "==============================================================================\n",
      "Omnibus:                      614.102   Durbin-Watson:                   0.913\n",
      "Prob(Omnibus):                  0.000   Jarque-Bera (JB):            48743.795\n",
      "Skew:                           5.895   Prob(JB):                         0.00\n",
      "Kurtosis:                      49.615   Cond. No.                         241.\n",
      "==============================================================================\n",
      "\n",
      "Notes:\n",
      "[1] Standard Errors assume that the covariance matrix of the errors is correctly specified.\n"
     ]
    }
   ],
   "source": [
    "import statsmodels.api as sm\n",
    "\n",
    "# this is the dataframe with the independent variables\n",
    "X = df[['crime', 'lnox', 'rooms', 'lproptax']]\n",
    "X = sm.add_constant(X)\n",
    "\n",
    "# this is the dataframe with the dependent variable\n",
    "y = df['lprice']\n",
    "\n",
    "# running the regression\n",
    "model = sm.OLS(y, X).fit()\n",
    "\n",
    "# now, making the regression of u2 on the appointed variables\n",
    "u=model.resid\n",
    "u2=u**2\n",
    "y=u2\n",
    "model=sm.OLS(y,X)\n",
    "results = model.fit()\n",
    "\n",
    "print(results.summary())"
   ]
  },
  {
   "cell_type": "markdown",
   "metadata": {},
   "source": [
    "High F-Statistic - this is a high joint significance of the independent variables which means they explain the variance of the dependent variable (error).\n",
    "\n",
    "We can also see that rooms in marginaly statisticaly significant (close to 5%) and lproptax is higly significant in explaining the error. This means these two variables are explaining the variance in the error and thus are responsible for the high F-Statistic.\n",
    "\n"
   ]
  },
  {
   "cell_type": "code",
   "execution_count": 64,
   "metadata": {},
   "outputs": [
    {
     "name": "stdout",
     "output_type": "stream",
     "text": [
      "                            OLS Regression Results                            \n",
      "==============================================================================\n",
      "Dep. Variable:                      y   R-squared:                       0.051\n",
      "Model:                            OLS   Adj. R-squared:                  0.044\n",
      "Method:                 Least Squares   F-statistic:                     6.799\n",
      "Date:                Mon, 02 Dec 2024   Prob (F-statistic):           2.47e-05\n",
      "Time:                        22:16:30   Log-Likelihood:                -10130.\n",
      "No. Observations:                 506   AIC:                         2.027e+04\n",
      "Df Residuals:                     501   BIC:                         2.029e+04\n",
      "Df Model:                           4                                         \n",
      "Covariance Type:            nonrobust                                         \n",
      "==============================================================================\n",
      "                 coef    std err          t      P>|t|      [0.025      0.975]\n",
      "------------------------------------------------------------------------------\n",
      "const      -5.885e+07   6.41e+07     -0.917      0.359   -1.85e+08    6.72e+07\n",
      "crime      -9.687e+05   7.69e+05     -1.260      0.208   -2.48e+06    5.42e+05\n",
      "nox         9.091e+05   6.28e+06      0.145      0.885   -1.14e+07    1.32e+07\n",
      "rooms        2.63e+06   8.07e+06      0.326      0.745   -1.32e+07    1.85e+07\n",
      "proptax      1.88e+06   4.78e+05      3.931      0.000     9.4e+05    2.82e+06\n",
      "==============================================================================\n",
      "Omnibus:                      760.905   Durbin-Watson:                   0.777\n",
      "Prob(Omnibus):                  0.000   Jarque-Bera (JB):           159893.659\n",
      "Skew:                           8.299   Prob(JB):                         0.00\n",
      "Kurtosis:                      88.489   Cond. No.                         546.\n",
      "==============================================================================\n",
      "\n",
      "Notes:\n",
      "[1] Standard Errors assume that the covariance matrix of the errors is correctly specified.\n",
      "OLS Standard Errors:\n"
     ]
    },
    {
     "ename": "NameError",
     "evalue": "name 'ols_model' is not defined",
     "output_type": "error",
     "traceback": [
      "\u001b[1;31m---------------------------------------------------------------------------\u001b[0m",
      "\u001b[1;31mNameError\u001b[0m                                 Traceback (most recent call last)",
      "Cell \u001b[1;32mIn[64], line 22\u001b[0m\n\u001b[0;32m     19\u001b[0m \u001b[38;5;28mprint\u001b[39m(results\u001b[38;5;241m.\u001b[39msummary())\n\u001b[0;32m     21\u001b[0m \u001b[38;5;28mprint\u001b[39m(\u001b[38;5;124m\"\u001b[39m\u001b[38;5;124mOLS Standard Errors:\u001b[39m\u001b[38;5;124m\"\u001b[39m)\n\u001b[1;32m---> 22\u001b[0m \u001b[38;5;28mprint\u001b[39m(\u001b[43mols_model\u001b[49m\u001b[38;5;241m.\u001b[39mbse)\n",
      "\u001b[1;31mNameError\u001b[0m: name 'ols_model' is not defined"
     ]
    }
   ],
   "source": [
    "import statsmodels.api as sm\n",
    "\n",
    "# this is the dataframe with the independent variables\n",
    "X = df[['crime', 'nox', 'rooms', 'proptax']]\n",
    "X = sm.add_constant(X)\n",
    "\n",
    "# this is the dataframe with the dependent variable\n",
    "y = df['price']\n",
    "\n",
    "# running the regression\n",
    "model = sm.OLS(y, X).fit()\n",
    "\n",
    "u=model.resid\n",
    "u2=u**2\n",
    "y=u2\n",
    "model=sm.OLS(y,X)\n",
    "results = model.fit()\n",
    "\n",
    "print(results.summary())\n",
    "\n",
    "print(\"OLS Standard Errors:\")\n",
    "print(ols_model.bse)"
   ]
  },
  {
   "cell_type": "markdown",
   "metadata": {},
   "source": [
    "proptax is the only low p-value -- which means proptax is the one variable causing heteroskesdacity"
   ]
  },
  {
   "cell_type": "code",
   "execution_count": null,
   "metadata": {},
   "outputs": [
    {
     "name": "stdout",
     "output_type": "stream",
     "text": [
      "                            WLS Regression Results                            \n",
      "==============================================================================\n",
      "Dep. Variable:                      y   R-squared:                       0.056\n",
      "Model:                            WLS   Adj. R-squared:                  0.048\n",
      "Method:                 Least Squares   F-statistic:                     7.409\n",
      "Date:                Mon, 02 Dec 2024   Prob (F-statistic):           8.39e-06\n",
      "Time:                        22:15:43   Log-Likelihood:                -10004.\n",
      "No. Observations:                 506   AIC:                         2.002e+04\n",
      "Df Residuals:                     501   BIC:                         2.004e+04\n",
      "Df Model:                           4                                         \n",
      "Covariance Type:            nonrobust                                         \n",
      "==============================================================================\n",
      "                 coef    std err          t      P>|t|      [0.025      0.975]\n",
      "------------------------------------------------------------------------------\n",
      "const      -1.263e+08    4.9e+07     -2.575      0.010   -2.23e+08   -2.99e+07\n",
      "crime      -5.549e+05   7.79e+05     -0.712      0.477   -2.09e+06    9.76e+05\n",
      "nox         3.842e+06   4.85e+06      0.792      0.429   -5.69e+06    1.34e+07\n",
      "rooms        1.28e+07   6.06e+06      2.113      0.035    9.01e+05    2.47e+07\n",
      "proptax      1.53e+06   4.06e+05      3.763      0.000    7.31e+05    2.33e+06\n",
      "==============================================================================\n",
      "Omnibus:                      735.910   Durbin-Watson:                   0.819\n",
      "Prob(Omnibus):                  0.000   Jarque-Bera (JB):           132661.257\n",
      "Skew:                           7.838   Prob(JB):                         0.00\n",
      "Kurtosis:                      80.759   Cond. No.                         477.\n",
      "==============================================================================\n",
      "\n",
      "Notes:\n",
      "[1] Standard Errors assume that the covariance matrix of the errors is correctly specified.\n"
     ]
    }
   ],
   "source": [
    "import statsmodels.api as sm\n",
    "\n",
    "# this is the dataframe with the independent variables\n",
    "X = df[['crime', 'nox', 'rooms', 'proptax']]\n",
    "X = sm.add_constant(X)\n",
    "\n",
    "# this is the dataframe with the dependent variable\n",
    "y = df['price']\n",
    "\n",
    "# running the regression\n",
    "model = sm.OLS(y, X).fit()\n",
    "\n",
    "u=model.resid\n",
    "u2=u**2\n",
    "y=u2\n",
    "model=sm.OLS(y,X)\n",
    "results = model.fit()\n",
    "\n",
    "# Step 4: Calculate weights (using proptax as an example)\n",
    "weights = 1 / df['proptax']\n",
    "\n",
    "# Step 5: Run the WLS regression\n",
    "wls_model = sm.WLS(y, X, weights=weights).fit()\n",
    "print(wls_model.summary())\n",
    "\n",
    "print(\"\\nWLS Standard Errors:\")\n",
    "print(wls_model.bse)\n"
   ]
  }
 ],
 "metadata": {
  "kernelspec": {
   "display_name": "Python 3",
   "language": "python",
   "name": "python3"
  },
  "language_info": {
   "codemirror_mode": {
    "name": "ipython",
    "version": 3
   },
   "file_extension": ".py",
   "mimetype": "text/x-python",
   "name": "python",
   "nbconvert_exporter": "python",
   "pygments_lexer": "ipython3",
   "version": "3.11.9"
  }
 },
 "nbformat": 4,
 "nbformat_minor": 2
}
