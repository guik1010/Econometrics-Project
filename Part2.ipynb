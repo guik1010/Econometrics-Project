{
 "cells": [
  {
   "cell_type": "markdown",
   "metadata": {},
   "source": [
    "Guilherme Kenzo, Gustavo Hess"
   ]
  },
  {
   "cell_type": "markdown",
   "metadata": {},
   "source": [
    "Part 2 - Heteroskesdacity"
   ]
  },
  {
   "cell_type": "markdown",
   "metadata": {},
   "source": [
    "Question 18: Explain the problem of heteroskedasticity with an example of the course.\n",
    "\n",
    "\n"
   ]
  },
  {
   "cell_type": "markdown",
   "metadata": {},
   "source": [
    "Heteroskedasticity happens when the variance across the errors in a regression model are not constant, they vary acording to value of the independent variables.\n",
    "\n",
    "A very simple way to visualize this concept is with the following example: imagine we plot the age and weight of a lot of people (age x weight). In the beggining of the graph we'll find a very low variance in the weights, considering that althought there are weight differences between babies and children, this difference is hardly too dramatic. Now, as age grows, we'll see a fraction of people gaining a lot of weight in comparisson to the average, we'll also see another fraction losing weight in comparisson to the average. This will certainly increase variance in comparisson with the variance in the first years of human development.\n",
    "\n",
    "Now we can see an example given:\n",
    "\n",
    "$$\n",
    "\\sigma_i^2 = x_{i1}^2 + x_{i2}^2 + \\dots + x_{iK}^2\n",
    "$$\n",
    "Here, the variance of errors depends on the squares of the independent variables. This means the dispertion of errors will increase with the independent variables\n",
    "\n",
    "The full model specification becomes:\n",
    "\n",
    "$$\n",
    "y_i = \\beta_0 + \\sum_{k=1}^{K} \\beta_k x_{ik} + u_i\n",
    "$$\n",
    "\n",
    "With the heteroskedasticity assumption:\n",
    "\n",
    "$$\n",
    "\\text{Var}(u_i | x_{i1}, x_{i2}, \\dots, x_{iK}) = x_{i1}^2 + x_{i2}^2 + \\dots + x_{iK}^2\n",
    "$$\n",
    "\n"
   ]
  },
  {
   "cell_type": "markdown",
   "metadata": {},
   "source": [
    "Question 19: In the specification of question 9, test the hypothesis of no heteroskedasticity of linear form, i.e. in the regression of u2 on constant, crime, nox, rooms, proptax, test H0: crime, nox, room, proptax = 0, where the coefficients k (k = crime, nox, rooms, proptax) are associated with the corresponding explanatory variables."
   ]
  },
  {
   "cell_type": "code",
   "execution_count": 2,
   "metadata": {},
   "outputs": [
    {
     "name": "stderr",
     "output_type": "stream",
     "text": [
      "C:\\Users\\guik2\\AppData\\Local\\Temp\\ipykernel_22820\\657320903.py:3: FutureWarning: The 'delim_whitespace' keyword in pd.read_csv is deprecated and will be removed in a future version. Use ``sep='\\s+'`` instead\n",
      "  df = pd.read_csv('HPRICE2.RAW', delim_whitespace=True, decimal='.', header=None)\n"
     ]
    }
   ],
   "source": [
    "import pandas as pd\n",
    "\n",
    "df = pd.read_csv('HPRICE2.RAW', delim_whitespace=True, decimal='.', header=None)\n",
    "df = df.apply(pd.to_numeric) \n",
    "\n",
    "df = df.rename(columns={\n",
    "    0: \"price\",\n",
    "    1: \"crime\",\n",
    "    2: \"nox\",\n",
    "    3: \"rooms\",\n",
    "    4: \"dist\",\n",
    "    5: \"radial\",\n",
    "    6: \"proptax\",\n",
    "    7: \"stratio\",\n",
    "    8: \"lowstat\",\n",
    "    9: \"lprice\",\n",
    "    10: \"lnox\",\n",
    "    11: \"lproptax\",\n",
    "})"
   ]
  },
  {
   "cell_type": "code",
   "execution_count": 3,
   "metadata": {},
   "outputs": [
    {
     "name": "stdout",
     "output_type": "stream",
     "text": [
      "                            OLS Regression Results                            \n",
      "==============================================================================\n",
      "Dep. Variable:                      y   R-squared:                       0.051\n",
      "Model:                            OLS   Adj. R-squared:                  0.044\n",
      "Method:                 Least Squares   F-statistic:                     6.799\n",
      "Date:                Sun, 08 Dec 2024   Prob (F-statistic):           2.47e-05\n",
      "Time:                        14:47:50   Log-Likelihood:                -10130.\n",
      "No. Observations:                 506   AIC:                         2.027e+04\n",
      "Df Residuals:                     501   BIC:                         2.029e+04\n",
      "Df Model:                           4                                         \n",
      "Covariance Type:            nonrobust                                         \n",
      "==============================================================================\n",
      "                 coef    std err          t      P>|t|      [0.025      0.975]\n",
      "------------------------------------------------------------------------------\n",
      "const      -5.885e+07   6.41e+07     -0.917      0.359   -1.85e+08    6.72e+07\n",
      "crime      -9.687e+05   7.69e+05     -1.260      0.208   -2.48e+06    5.42e+05\n",
      "nox         9.091e+05   6.28e+06      0.145      0.885   -1.14e+07    1.32e+07\n",
      "rooms        2.63e+06   8.07e+06      0.326      0.745   -1.32e+07    1.85e+07\n",
      "proptax      1.88e+06   4.78e+05      3.931      0.000     9.4e+05    2.82e+06\n",
      "==============================================================================\n",
      "Omnibus:                      760.905   Durbin-Watson:                   0.777\n",
      "Prob(Omnibus):                  0.000   Jarque-Bera (JB):           159893.659\n",
      "Skew:                           8.299   Prob(JB):                         0.00\n",
      "Kurtosis:                      88.489   Cond. No.                         546.\n",
      "==============================================================================\n",
      "\n",
      "Notes:\n",
      "[1] Standard Errors assume that the covariance matrix of the errors is correctly specified.\n"
     ]
    }
   ],
   "source": [
    "import statsmodels.api as sm\n",
    "\n",
    "# this is the dataframe with the independent variables\n",
    "X = df[['crime', 'nox', 'rooms', 'proptax']]\n",
    "X = sm.add_constant(X)\n",
    "\n",
    "# this is the dataframe with the dependent variable\n",
    "y = df['price']\n",
    "\n",
    "# running the regression\n",
    "model = sm.OLS(y, X).fit()\n",
    "\n",
    "# now, making the regression of u2 on the appointed variables\n",
    "u=model.resid\n",
    "u2=u**2\n",
    "y=u2\n",
    "model=sm.OLS(y,X)\n",
    "results = model.fit()\n",
    "\n",
    "print(results.summary())"
   ]
  },
  {
   "cell_type": "markdown",
   "metadata": {},
   "source": [
    "Only 5.1% of the error variation can be explained by the independent variables (R-Squared).\n",
    "Probability of F-Statistic is very low, which means the chances of gettig these results given homoskedascity are very low, meaning we are probably looking at heteroskesdacity. We don't really know at this point which variable is causing this, since the F-Statistic looks at the collective impact of the variables.\n",
    "And the p-value for all our variables are pretty high except for proptax. This means proptax is significately associated with the residues variance: we reject homoskesdacity hypothesis.\n",
    "\n"
   ]
  },
  {
   "cell_type": "markdown",
   "metadata": {},
   "source": [
    "Question 20: In the specification of question 10, test the hypothesis of no heteroskedasticity of linear form."
   ]
  },
  {
   "cell_type": "code",
   "execution_count": null,
   "metadata": {},
   "outputs": [
    {
     "name": "stdout",
     "output_type": "stream",
     "text": [
      "                            OLS Regression Results                            \n",
      "==============================================================================\n",
      "Dep. Variable:                      y   R-squared:                       0.126\n",
      "Model:                            OLS   Adj. R-squared:                  0.119\n",
      "Method:                 Least Squares   F-statistic:                     17.98\n",
      "Date:                Sun, 08 Dec 2024   Prob (F-statistic):           8.33e-14\n",
      "Time:                        17:43:21   Log-Likelihood:                 185.10\n",
      "No. Observations:                 506   AIC:                            -360.2\n",
      "Df Residuals:                     501   BIC:                            -339.1\n",
      "Df Model:                           4                                         \n",
      "Covariance Type:            nonrobust                                         \n",
      "==============================================================================\n",
      "                 coef    std err          t      P>|t|      [0.025      0.975]\n",
      "------------------------------------------------------------------------------\n",
      "const          0.0757      0.090      0.842      0.400      -0.101       0.253\n",
      "crime      -3.794e-05      0.001     -0.035      0.972      -0.002       0.002\n",
      "nox            0.0001      0.009      0.017      0.986      -0.017       0.017\n",
      "rooms         -0.0237      0.011     -2.096      0.037      -0.046      -0.001\n",
      "proptax        0.0034      0.001      5.026      0.000       0.002       0.005\n",
      "==============================================================================\n",
      "Omnibus:                      612.530   Durbin-Watson:                   0.914\n",
      "Prob(Omnibus):                  0.000   Jarque-Bera (JB):            48787.030\n",
      "Skew:                           5.865   Prob(JB):                         0.00\n",
      "Kurtosis:                      49.652   Cond. No.                         546.\n",
      "==============================================================================\n",
      "\n",
      "Notes:\n",
      "[1] Standard Errors assume that the covariance matrix of the errors is correctly specified.\n",
      "F-critical:  2.3897311892176356\n"
     ]
    }
   ],
   "source": [
    "import statsmodels.api as sm\n",
    "\n",
    "# this is the dataframe with the independent variables\n",
    "X = df[['crime', 'nox', 'rooms', 'proptax']]\n",
    "X = sm.add_constant(X)\n",
    "\n",
    "# this is the dataframe with the dependent variable\n",
    "y = df['lprice']\n",
    "\n",
    "# running the regression\n",
    "model = sm.OLS(y, X).fit()\n",
    "\n",
    "# now, making the regression of u2 on the appointed variables\n",
    "u=model.resid\n",
    "u2=u**2\n",
    "y=u2\n",
    "model=sm.OLS(y,X)\n",
    "results = model.fit()\n",
    "\n",
    "from scipy.stats import f\n",
    "\n",
    "alpha = 0.05\n",
    "df1 = results.df_model \n",
    "df2 = results.df_resid\n",
    "\n",
    "f_critical = f.ppf(1 - alpha, df1, df2)\n",
    "\n",
    "print(results.summary())\n",
    "print(\"F-critical: \",f_critical)"
   ]
  },
  {
   "cell_type": "markdown",
   "metadata": {},
   "source": [
    "By assuming alpha 5% -- we found F-statistic > F-critical: so we reject the null hypothesis -- at least one of the independent variables explains the change in the dependent variable. This points to heteroskesdacity.\n",
    "And now, we can see that not only proptax p-value is small, the rooms p-value is also small. That means these two independent variables are explaining the change in the error."
   ]
  },
  {
   "cell_type": "markdown",
   "metadata": {},
   "source": [
    "Question 21: In the specification of question 11, test the hypothesis of no heteroskedasticity of linear form."
   ]
  },
  {
   "cell_type": "code",
   "execution_count": 14,
   "metadata": {},
   "outputs": [
    {
     "name": "stdout",
     "output_type": "stream",
     "text": [
      "                            OLS Regression Results                            \n",
      "==============================================================================\n",
      "Dep. Variable:                      y   R-squared:                       0.116\n",
      "Model:                            OLS   Adj. R-squared:                  0.109\n",
      "Method:                 Least Squares   F-statistic:                     16.51\n",
      "Date:                Sun, 08 Dec 2024   Prob (F-statistic):           1.02e-12\n",
      "Time:                        17:48:15   Log-Likelihood:                 184.66\n",
      "No. Observations:                 506   AIC:                            -359.3\n",
      "Df Residuals:                     501   BIC:                            -338.2\n",
      "Df Model:                           4                                         \n",
      "Covariance Type:            nonrobust                                         \n",
      "==============================================================================\n",
      "                 coef    std err          t      P>|t|      [0.025      0.975]\n",
      "------------------------------------------------------------------------------\n",
      "const         -0.5496      0.167     -3.289      0.001      -0.878      -0.221\n",
      "crime          0.0006      0.001      0.577      0.564      -0.001       0.003\n",
      "lnox           0.0404      0.051      0.794      0.427      -0.060       0.140\n",
      "rooms         -0.0219      0.011     -1.928      0.054      -0.044       0.000\n",
      "lproptax       0.1149      0.028      4.128      0.000       0.060       0.170\n",
      "==============================================================================\n",
      "Omnibus:                      614.102   Durbin-Watson:                   0.913\n",
      "Prob(Omnibus):                  0.000   Jarque-Bera (JB):            48743.795\n",
      "Skew:                           5.895   Prob(JB):                         0.00\n",
      "Kurtosis:                      49.615   Cond. No.                         241.\n",
      "==============================================================================\n",
      "\n",
      "Notes:\n",
      "[1] Standard Errors assume that the covariance matrix of the errors is correctly specified.\n",
      "F-critical:  2.3897311892176356\n"
     ]
    }
   ],
   "source": [
    "import statsmodels.api as sm\n",
    "\n",
    "# this is the dataframe with the independent variables\n",
    "X = df[['crime', 'lnox', 'rooms', 'lproptax']]\n",
    "X = sm.add_constant(X)\n",
    "\n",
    "# this is the dataframe with the dependent variable\n",
    "y = df['lprice']\n",
    "\n",
    "# running the regression\n",
    "model = sm.OLS(y, X).fit()\n",
    "\n",
    "# now, making the regression of u2 on the appointed variables\n",
    "u=model.resid\n",
    "u2=u**2\n",
    "y=u2\n",
    "model=sm.OLS(y,X)\n",
    "results = model.fit()\n",
    "\n",
    "print(results.summary())\n",
    "\n",
    "alpha = 0.05\n",
    "df1 = results.df_model   \n",
    "df2 = results.df_resid   \n",
    "\n",
    "f_critical = f.ppf(1 - alpha, df1, df2)\n",
    "\n",
    "print(\"F-critical: \",f_critical)"
   ]
  },
  {
   "cell_type": "markdown",
   "metadata": {},
   "source": [
    "By assuming alpha 5% -- we found F-statistic > F-critical: so we reject the null hypothesis -- at least one of the independent variables explains the change in the dependent variable. This points to heteroskesdacity.\n",
    "\n",
    "We can also see that rooms in marginaly statisticaly significant (again, assuming 5%) and lproptax is higly significant in explaining the error. This means these two variables are explaining the variance in the error and thus are responsible for the high F-Statistic.\n",
    "\n"
   ]
  },
  {
   "cell_type": "markdown",
   "metadata": {},
   "source": [
    "Question 22: Comment on the differences between your results of questions 20 and 21."
   ]
  },
  {
   "cell_type": "markdown",
   "metadata": {},
   "source": [
    "- The question 20 refers to the model built in question 10 which uses lprice as the dependent variable, and constant, crime, nox, rooms, proptax as the independent variables. The model showed reasonably good fit R-squared: 0.611 and the p-value of all the coeficients are very low, meaning they are all statistically significant. Now, about the results of question 20: we found a big value for the F-statistic, meaning our independent variables can collectively explain the change in error, this point to heteroskesdacity. And looking at the coeficients we can see that the p-values of proptax and rooms are small, meaning they are the variables explaining the change and making the F-statistic high.\n",
    "\n",
    "- Now, for question 21 we utilized the model built on question 11 where the only difference in comparrison to question 10 is that we utilized lnox instead of nox and lproptax instead of proptax. In these results, we also got a high value for the F-statistic and uppon closer inspection, we can see that lproptax is still explaining the error change and rooms is now marginaly statisticaly significant (close to 5%)."
   ]
  },
  {
   "cell_type": "markdown",
   "metadata": {},
   "source": [
    "Question 23: Using the specification of question 9, identify the most significant variable causing heteroskedasticity using the student statistics and run a WLS regression with the identified variable as weight. Compare the standards errors with those of question 9. Comment on your results."
   ]
  },
  {
   "cell_type": "markdown",
   "metadata": {},
   "source": [
    "This is just the regression made in the question 9:"
   ]
  },
  {
   "cell_type": "code",
   "execution_count": 19,
   "metadata": {},
   "outputs": [
    {
     "name": "stdout",
     "output_type": "stream",
     "text": [
      "                            OLS Regression Results                            \n",
      "==============================================================================\n",
      "Dep. Variable:                  price   R-squared:                       0.575\n",
      "Model:                            OLS   Adj. R-squared:                  0.572\n",
      "Method:                 Least Squares   F-statistic:                     169.6\n",
      "Date:                Sun, 08 Dec 2024   Prob (F-statistic):           1.06e-91\n",
      "Time:                        18:32:34   Log-Likelihood:                -5119.6\n",
      "No. Observations:                 506   AIC:                         1.025e+04\n",
      "Df Residuals:                     501   BIC:                         1.027e+04\n",
      "Df Model:                           4                                         \n",
      "Covariance Type:            nonrobust                                         \n",
      "==============================================================================\n",
      "                 coef    std err          t      P>|t|      [0.025      0.975]\n",
      "------------------------------------------------------------------------------\n",
      "const      -1.868e+04   3215.205     -5.811      0.000    -2.5e+04   -1.24e+04\n",
      "crime       -136.5438     38.529     -3.544      0.000    -212.241     -60.846\n",
      "nox         -660.4672    314.634     -2.099      0.036   -1278.632     -42.303\n",
      "rooms       7797.9286    404.345     19.285      0.000    7003.507    8592.350\n",
      "proptax      -89.4144     23.966     -3.731      0.000    -136.500     -42.329\n",
      "==============================================================================\n",
      "Omnibus:                      264.796   Durbin-Watson:                   0.752\n",
      "Prob(Omnibus):                  0.000   Jarque-Bera (JB):             2348.397\n",
      "Skew:                           2.111   Prob(JB):                         0.00\n",
      "Kurtosis:                      12.673   Cond. No.                         546.\n",
      "==============================================================================\n",
      "\n",
      "Notes:\n",
      "[1] Standard Errors assume that the covariance matrix of the errors is correctly specified.\n"
     ]
    }
   ],
   "source": [
    "import statsmodels.api as sm\n",
    "\n",
    "X = df[['crime', 'nox', 'rooms', 'proptax']]\n",
    "X = sm.add_constant(X)\n",
    "\n",
    "y = df['price']\n",
    "\n",
    "model = sm.OLS(y, X).fit()\n",
    "print(model.summary())"
   ]
  },
  {
   "cell_type": "markdown",
   "metadata": {},
   "source": [
    "This is the error regression to test for heteroskesdacity:"
   ]
  },
  {
   "cell_type": "code",
   "execution_count": 18,
   "metadata": {},
   "outputs": [
    {
     "name": "stdout",
     "output_type": "stream",
     "text": [
      "                            OLS Regression Results                            \n",
      "==============================================================================\n",
      "Dep. Variable:                      y   R-squared:                       0.051\n",
      "Model:                            OLS   Adj. R-squared:                  0.044\n",
      "Method:                 Least Squares   F-statistic:                     6.799\n",
      "Date:                Sun, 08 Dec 2024   Prob (F-statistic):           2.47e-05\n",
      "Time:                        18:32:23   Log-Likelihood:                -10130.\n",
      "No. Observations:                 506   AIC:                         2.027e+04\n",
      "Df Residuals:                     501   BIC:                         2.029e+04\n",
      "Df Model:                           4                                         \n",
      "Covariance Type:            nonrobust                                         \n",
      "==============================================================================\n",
      "                 coef    std err          t      P>|t|      [0.025      0.975]\n",
      "------------------------------------------------------------------------------\n",
      "const      -5.885e+07   6.41e+07     -0.917      0.359   -1.85e+08    6.72e+07\n",
      "crime      -9.687e+05   7.69e+05     -1.260      0.208   -2.48e+06    5.42e+05\n",
      "nox         9.091e+05   6.28e+06      0.145      0.885   -1.14e+07    1.32e+07\n",
      "rooms        2.63e+06   8.07e+06      0.326      0.745   -1.32e+07    1.85e+07\n",
      "proptax      1.88e+06   4.78e+05      3.931      0.000     9.4e+05    2.82e+06\n",
      "==============================================================================\n",
      "Omnibus:                      760.905   Durbin-Watson:                   0.777\n",
      "Prob(Omnibus):                  0.000   Jarque-Bera (JB):           159893.659\n",
      "Skew:                           8.299   Prob(JB):                         0.00\n",
      "Kurtosis:                      88.489   Cond. No.                         546.\n",
      "==============================================================================\n",
      "\n",
      "Notes:\n",
      "[1] Standard Errors assume that the covariance matrix of the errors is correctly specified.\n"
     ]
    }
   ],
   "source": [
    "# redisuals\n",
    "u = model.resid\n",
    "u2 = u**2\n",
    "\n",
    "# testing for heteroskedasticity\n",
    "Z = df[['crime', 'nox', 'rooms', 'proptax']]\n",
    "Z = sm.add_constant(Z)\n",
    "model_u = sm.OLS(u2, Z).fit()\n",
    "print(model_u.summary())\n"
   ]
  },
  {
   "cell_type": "markdown",
   "metadata": {},
   "source": [
    "We can see here that the p-value of the proptax is the only low one -- this is the variable explaining the variation in the error and causing heteroskedacity. This is the variable we got to chose to use as weight in the WLS model:"
   ]
  },
  {
   "cell_type": "code",
   "execution_count": 35,
   "metadata": {},
   "outputs": [
    {
     "name": "stdout",
     "output_type": "stream",
     "text": [
      "                            WLS Regression Results                            \n",
      "==============================================================================\n",
      "Dep. Variable:                  price   R-squared:                       0.675\n",
      "Model:                            WLS   Adj. R-squared:                  0.673\n",
      "Method:                 Least Squares   F-statistic:                     260.6\n",
      "Date:                Sun, 08 Dec 2024   Prob (F-statistic):          6.53e-121\n",
      "Time:                        18:52:23   Log-Likelihood:                -5063.3\n",
      "No. Observations:                 506   AIC:                         1.014e+04\n",
      "Df Residuals:                     501   BIC:                         1.016e+04\n",
      "Df Model:                           4                                         \n",
      "Covariance Type:            nonrobust                                         \n",
      "==============================================================================\n",
      "                 coef    std err          t      P>|t|      [0.025      0.975]\n",
      "------------------------------------------------------------------------------\n",
      "const       -2.99e+04   2820.558    -10.601      0.000   -3.54e+04   -2.44e+04\n",
      "crime       -111.9297     44.805     -2.498      0.013    -199.959     -23.901\n",
      "nox         -332.2521    279.170     -1.190      0.235    -880.741     216.236\n",
      "rooms       9360.0316    348.498     26.858      0.000    8675.335       1e+04\n",
      "proptax     -101.8805     23.381     -4.357      0.000    -147.817     -55.944\n",
      "==============================================================================\n",
      "Omnibus:                      181.152   Durbin-Watson:                   0.847\n",
      "Prob(Omnibus):                  0.000   Jarque-Bera (JB):              850.747\n",
      "Skew:                           1.525   Prob(JB):                    1.83e-185\n",
      "Kurtosis:                       8.572   Cond. No.                         477.\n",
      "==============================================================================\n",
      "\n",
      "Notes:\n",
      "[1] Standard Errors assume that the covariance matrix of the errors is correctly specified.\n"
     ]
    }
   ],
   "source": [
    "W = 1 / df['proptax']\n",
    "\n",
    "X = df[['crime', 'nox', 'rooms', 'proptax']]\n",
    "X = sm.add_constant(X)\n",
    "y = df['price']\n",
    "\n",
    "wls_model = sm.WLS(y, X, weights=W).fit()\n",
    "print(wls_model.summary())\n"
   ]
  },
  {
   "cell_type": "code",
   "execution_count": 32,
   "metadata": {},
   "outputs": [
    {
     "name": "stdout",
     "output_type": "stream",
     "text": [
      "For the initial model: \n",
      "\n",
      "const      3215.204520\n",
      "crime        38.528570\n",
      "nox         314.633813\n",
      "rooms       404.345434\n",
      "proptax      23.965587\n",
      "dtype: float64 \n",
      "\n",
      "For the WLS regression: \n",
      "\n",
      "const      2820.558498\n",
      "crime        44.804955\n",
      "nox         279.170215\n",
      "rooms       348.497559\n",
      "proptax      23.380653\n",
      "dtype: float64\n"
     ]
    }
   ],
   "source": [
    "# let's analyze changes in std error:\n",
    "model_standard_errors = model.bse\n",
    "wls_model_standard_errors = wls_model.bse\n",
    "\n",
    "print(\"For the initial model: \\n\")\n",
    "print(model_standard_errors, \"\\n\")\n",
    "print(\"For the WLS regression: \\n\")\n",
    "print(wls_model_standard_errors)"
   ]
  },
  {
   "cell_type": "markdown",
   "metadata": {},
   "source": [
    "We can see that the std errors mostly lower for the WLS regression, meaning the method actually worked for dealing with heteroskedasticity. Another thing we can see is that the R-squared also got better: we had 0.575 and now we got 0.675 pointing that our model does a better job at explaining the dependent variable changes."
   ]
  }
 ],
 "metadata": {
  "kernelspec": {
   "display_name": "Python 3",
   "language": "python",
   "name": "python3"
  },
  "language_info": {
   "codemirror_mode": {
    "name": "ipython",
    "version": 3
   },
   "file_extension": ".py",
   "mimetype": "text/x-python",
   "name": "python",
   "nbconvert_exporter": "python",
   "pygments_lexer": "ipython3",
   "version": "3.11.9"
  }
 },
 "nbformat": 4,
 "nbformat_minor": 2
}
