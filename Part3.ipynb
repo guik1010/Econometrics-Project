{
 "cells": [
  {
   "cell_type": "markdown",
   "metadata": {},
   "source": []
  },
  {
   "cell_type": "code",
   "execution_count": 2,
   "metadata": {},
   "outputs": [
    {
     "name": "stdout",
     "output_type": "stream",
     "text": [
      "     Real GDP at market prices  Unemployment rate  Consumer price inflation\n",
      "194               7.351220e+04           3.790930                  0.488281\n",
      "195               7.695718e+04           3.572757                 -0.485909\n",
      "196               7.708776e+04           4.008832                 -3.613281\n",
      "197               7.741237e+04           5.309585                 -8.409321\n",
      "198               8.045892e+04           3.325983                 -0.221239\n",
      "..                         ...                ...                       ...\n",
      "350               1.684820e+06           8.110983                  4.463693\n",
      "351               1.706942e+06           7.970745                  2.828242\n",
      "352               1.739563e+06           7.608094                  2.564799\n",
      "353               1.792976e+06           6.180032                  1.461031\n",
      "354               1.833233e+06           5.384406                  0.040099\n",
      "\n",
      "[161 rows x 3 columns]\n"
     ]
    }
   ],
   "source": [
    "import pandas as pd\n",
    "\n",
    "df = pd.read_excel(\n",
    "    'threecenturies_v2.3.xlsx',  \n",
    "    sheet_name='A1. Headline series',        \n",
    "    usecols='B, P, AC',                \n",
    "    skiprows=7                  \n",
    ")\n",
    "\n",
    "df = df.rename(columns={\n",
    "    'Unnamed: 1': \"Real GDP at market prices\",\n",
    "    'Unnamed: 15': \"Unemployment rate\",\n",
    "    'Unnamed: 28': \"Consumer price inflation\"\n",
    "})\n",
    "\n",
    "df = df.dropna()  # Drop rows with NaN\n",
    "\n",
    "print(df)\n"
   ]
  },
  {
   "cell_type": "markdown",
   "metadata": {},
   "source": []
  },
  {
   "cell_type": "code",
   "execution_count": 3,
   "metadata": {},
   "outputs": [
    {
     "name": "stdout",
     "output_type": "stream",
     "text": [
      "     Real GDP at market prices  Unemployment rate  Consumer price inflation\n",
      "204                 530.661402          -0.720334                  2.118947\n",
      "205                -815.771235          -0.362621                  7.530099\n",
      "206               -3932.042778           1.167761                  5.316075\n",
      "207               -3033.906116           1.251860                 -3.668062\n",
      "208               -3219.795418           0.840824                 -6.568567\n",
      "..                         ...                ...                       ...\n",
      "341               39577.050000          -1.618365                 -0.978368\n",
      "342               61489.100000          -1.695424                 -0.804022\n",
      "343               70473.800000          -1.814916                 -0.825007\n",
      "344               87015.200000          -1.573617                 -0.085713\n",
      "345               96780.450000          -0.817460                  0.316873\n",
      "\n",
      "[142 rows x 3 columns]\n"
     ]
    },
    {
     "name": "stderr",
     "output_type": "stream",
     "text": [
      "C:\\Users\\guik2\\AppData\\Local\\Temp\\ipykernel_6896\\3442753048.py:3: SettingWithCopyWarning: \n",
      "A value is trying to be set on a copy of a slice from a DataFrame.\n",
      "Try using .loc[row_indexer,col_indexer] = value instead\n",
      "\n",
      "See the caveats in the documentation: https://pandas.pydata.org/pandas-docs/stable/user_guide/indexing.html#returning-a-view-versus-a-copy\n",
      "  df_1[\"Moving_Avg_2x10\"] = df_1[\"Real GDP at market prices\"].rolling(window=20, center=True).mean()\n",
      "C:\\Users\\guik2\\AppData\\Local\\Temp\\ipykernel_6896\\3442753048.py:5: SettingWithCopyWarning: \n",
      "A value is trying to be set on a copy of a slice from a DataFrame.\n",
      "Try using .loc[row_indexer,col_indexer] = value instead\n",
      "\n",
      "See the caveats in the documentation: https://pandas.pydata.org/pandas-docs/stable/user_guide/indexing.html#returning-a-view-versus-a-copy\n",
      "  df_1[\"Real GDP at market prices\"] = df_1[\"Real GDP at market prices\"] - df_1[\"Moving_Avg_2x10\"]\n",
      "C:\\Users\\guik2\\AppData\\Local\\Temp\\ipykernel_6896\\3442753048.py:13: SettingWithCopyWarning: \n",
      "A value is trying to be set on a copy of a slice from a DataFrame.\n",
      "Try using .loc[row_indexer,col_indexer] = value instead\n",
      "\n",
      "See the caveats in the documentation: https://pandas.pydata.org/pandas-docs/stable/user_guide/indexing.html#returning-a-view-versus-a-copy\n",
      "  df_2[\"Moving_Avg_2x10\"] = df_2[\"Unemployment rate\"].rolling(window=20, center=True).mean()\n",
      "C:\\Users\\guik2\\AppData\\Local\\Temp\\ipykernel_6896\\3442753048.py:15: SettingWithCopyWarning: \n",
      "A value is trying to be set on a copy of a slice from a DataFrame.\n",
      "Try using .loc[row_indexer,col_indexer] = value instead\n",
      "\n",
      "See the caveats in the documentation: https://pandas.pydata.org/pandas-docs/stable/user_guide/indexing.html#returning-a-view-versus-a-copy\n",
      "  df_2[\"Unemployment rate\"] = df_2[\"Unemployment rate\"] - df_2[\"Moving_Avg_2x10\"]\n",
      "C:\\Users\\guik2\\AppData\\Local\\Temp\\ipykernel_6896\\3442753048.py:23: SettingWithCopyWarning: \n",
      "A value is trying to be set on a copy of a slice from a DataFrame.\n",
      "Try using .loc[row_indexer,col_indexer] = value instead\n",
      "\n",
      "See the caveats in the documentation: https://pandas.pydata.org/pandas-docs/stable/user_guide/indexing.html#returning-a-view-versus-a-copy\n",
      "  df_3[\"Moving_Avg_3x10\"] = df_3[\"Consumer price inflation\"].rolling(window=20, center=True).mean()\n",
      "C:\\Users\\guik2\\AppData\\Local\\Temp\\ipykernel_6896\\3442753048.py:25: SettingWithCopyWarning: \n",
      "A value is trying to be set on a copy of a slice from a DataFrame.\n",
      "Try using .loc[row_indexer,col_indexer] = value instead\n",
      "\n",
      "See the caveats in the documentation: https://pandas.pydata.org/pandas-docs/stable/user_guide/indexing.html#returning-a-view-versus-a-copy\n",
      "  df_3[\"Consumer price inflation\"] = df_3[\"Consumer price inflation\"] - df_3[\"Moving_Avg_3x10\"]\n"
     ]
    }
   ],
   "source": [
    "df_1 = df[[\"Real GDP at market prices\"]]\n",
    "\n",
    "df_1[\"Moving_Avg_2x10\"] = df_1[\"Real GDP at market prices\"].rolling(window=20, center=True).mean()\n",
    "\n",
    "df_1[\"Real GDP at market prices\"] = df_1[\"Real GDP at market prices\"] - df_1[\"Moving_Avg_2x10\"]  \n",
    "df_1 = df_1.drop(columns = [\"Moving_Avg_2x10\"])\n",
    "\n",
    "df_1 = df_1[[\"Real GDP at market prices\"]]\n",
    "\n",
    "\n",
    "df_2 = df[[\"Unemployment rate\"]]\n",
    "\n",
    "df_2[\"Moving_Avg_2x10\"] = df_2[\"Unemployment rate\"].rolling(window=20, center=True).mean()\n",
    "\n",
    "df_2[\"Unemployment rate\"] = df_2[\"Unemployment rate\"] - df_2[\"Moving_Avg_2x10\"]  \n",
    "df_2 = df_2.drop(columns = [\"Moving_Avg_2x10\"])\n",
    "\n",
    "df_2 = df_2[[\"Unemployment rate\"]]\n",
    "\n",
    "\n",
    "df_3 = df[[\"Consumer price inflation\"]]\n",
    "\n",
    "df_3[\"Moving_Avg_3x10\"] = df_3[\"Consumer price inflation\"].rolling(window=20, center=True).mean()\n",
    "\n",
    "df_3[\"Consumer price inflation\"] = df_3[\"Consumer price inflation\"] - df_3[\"Moving_Avg_3x10\"]  \n",
    "df_3 = df_3.drop(columns = [\"Moving_Avg_3x10\"])\n",
    "\n",
    "df_3 = df_3[[\"Consumer price inflation\"]]\n",
    "\n",
    "df_stationary = pd.concat([df_1, df_2, df_3], axis=1)\n",
    "\n",
    "df_stationary = df_stationary.dropna()  # Drop rows with NaN\n",
    "\n",
    "print(df_stationary)\n"
   ]
  },
  {
   "cell_type": "markdown",
   "metadata": {},
   "source": [
    "Question 29: Using the original dataset, test the unit root hypothesis for all variables."
   ]
  },
  {
   "cell_type": "code",
   "execution_count": 4,
   "metadata": {},
   "outputs": [
    {
     "name": "stdout",
     "output_type": "stream",
     "text": [
      "Real GDP at market prices\n",
      "ADF Statistic for Real GDP at market prices: 4.75635282976845\n",
      "p-value: 1.0\n",
      "We accept the unit root hypothesis, so the series is not stationary\n",
      "---------------------------\n",
      "Unemployment rate\n",
      "ADF Statistic for Unemployment rate: -3.3174175336487006\n",
      "p-value: 0.014117636865537565\n",
      "Reject the unit root hypothesis, so the series is stationary\n",
      "---------------------------\n",
      "Consumer price inflation\n",
      "ADF Statistic for Consumer price inflation: -5.2976981207997484\n",
      "p-value: 5.536091623454105e-06\n",
      "Reject the unit root hypothesis, so the series is stationary\n",
      "---------------------------\n"
     ]
    }
   ],
   "source": [
    "from statsmodels.tsa.stattools import adfuller\n",
    "\n",
    "df = df.dropna()  # Drop rows with NaN\n",
    "df = df[~df.isin([float('inf'), float('-inf')]).any(axis=1)]  # Remove rows with inf\n",
    "\n",
    "variables = ['Real GDP at market prices', 'Unemployment rate', 'Consumer price inflation']   \n",
    "\n",
    "for var in variables:\n",
    "    result = adfuller(df[var])\n",
    "    print (var)\n",
    "    print(f'ADF Statistic for {var}: {result[0]}')\n",
    "    print(f'p-value: {result[1]}')\n",
    "    if result[1] < 0.05:\n",
    "        print(\"Reject the unit root hypothesis, so the series is stationary\")\n",
    "    else:\n",
    "        print(\"We accept the unit root hypothesis, so the series is not stationary\")\n",
    "    print('---------------------------')"
   ]
  },
  {
   "cell_type": "markdown",
   "metadata": {},
   "source": [
    "Question 30: Transform all variables so that they are stationary using either your answers to questions 28 or to question 29."
   ]
  },
  {
   "cell_type": "code",
   "execution_count": 5,
   "metadata": {},
   "outputs": [
    {
     "name": "stdout",
     "output_type": "stream",
     "text": [
      "Real GDP at market prices\n",
      "ADF Statistic for Real GDP at market prices: -5.216338699995358\n",
      "p-value: 8.141323486394978e-06\n",
      "Reject the unit root hypothesis, so the series is stationary\n",
      "---------------------------\n",
      "Unemployment rate\n",
      "ADF Statistic for Unemployment rate: -5.7631870697010985\n",
      "p-value: 5.610315160451365e-07\n",
      "Reject the unit root hypothesis, so the series is stationary\n",
      "---------------------------\n",
      "Consumer price inflation\n",
      "ADF Statistic for Consumer price inflation: -6.0273633550359325\n",
      "p-value: 1.445194889677531e-07\n",
      "Reject the unit root hypothesis, so the series is stationary\n",
      "---------------------------\n"
     ]
    }
   ],
   "source": [
    "from statsmodels.tsa.stattools import adfuller\n",
    "\n",
    "df_stationary = df_stationary.dropna()  # Drop rows with NaN\n",
    "df_stationary = df_stationary[~df_stationary.isin([float('inf'), float('-inf')]).any(axis=1)]  # Remove rows with inf\n",
    "\n",
    "variables = ['Real GDP at market prices', 'Unemployment rate', 'Consumer price inflation']   \n",
    "\n",
    "for var in variables:\n",
    "    result = adfuller(df_stationary[var])\n",
    "    print (var)\n",
    "    print(f'ADF Statistic for {var}: {result[0]}')\n",
    "    print(f'p-value: {result[1]}')\n",
    "    if result[1] < 0.05:\n",
    "        print(\"Reject the unit root hypothesis, so the series is stationary\")\n",
    "    else:\n",
    "        print(\"We accept the unit root hypothesis, so the series is not stationary\")\n",
    "    print('---------------------------')"
   ]
  },
  {
   "cell_type": "markdown",
   "metadata": {},
   "source": [
    "Question 31: Explain the difference between ACF and PACF."
   ]
  },
  {
   "cell_type": "markdown",
   "metadata": {},
   "source": [
    "The ACF measures the correlation between a time series and its past values at various time lags, capturing both direct and indirect influences from earlier observations. In contrast, the PACF isolates the direct correlation between a time series observation and its past values by removing the effects of intermediate lags, highlighting the unique contribution of each lag.\n",
    "\n",
    "\n",
    "\n",
    "\n",
    "\n",
    "\n",
    "\n",
    "\n"
   ]
  },
  {
   "cell_type": "markdown",
   "metadata": {},
   "source": [
    "Question 32: Plot and comment on the ACF and PACF of all variables."
   ]
  },
  {
   "cell_type": "code",
   "execution_count": 6,
   "metadata": {},
   "outputs": [
    {
     "data": {
      "image/png": "[encoded data removed]",
      "text/plain": [
       "<Figure size 1200x600 with 2 Axes>"
      ]
     },
     "metadata": {},
     "output_type": "display_data"
    },
    {
     "data": {
      "image/png": "[encoded data removed]",
      "text/plain": [
       "<Figure size 1200x600 with 2 Axes>"
      ]
     },
     "metadata": {},
     "output_type": "display_data"
    },
    {
     "data": {
      "image/png": "[encoded data removed]",
      "text/plain": [
       "<Figure size 1200x600 with 2 Axes>"
      ]
     },
     "metadata": {},
     "output_type": "display_data"
    }
   ],
   "source": [
    "import matplotlib.pyplot as plt\n",
    "from statsmodels.graphics.tsaplots import plot_acf, plot_pacf\n",
    "\n",
    "for column in df.columns:\n",
    "    plt.figure(figsize=(12, 6))\n",
    "    \n",
    "    # ACF plot\n",
    "    plt.subplot(1, 2, 1)\n",
    "    plot_acf(df[column], lags=14, ax=plt.gca())  # Adjust lags as needed\n",
    "    plt.title(f\"ACF of {column}\")\n",
    "    \n",
    "    # PACF plot\n",
    "    plt.subplot(1, 2, 2)\n",
    "    plot_pacf(df[column], lags=10, ax=plt.gca())  # Adjust lags as needed\n",
    "    plt.title(f\"PACF of {column}\")\n",
    "    \n",
    "    plt.tight_layout()\n",
    "    plt.show()"
   ]
  },
  {
   "cell_type": "code",
   "execution_count": null,
   "metadata": {},
   "outputs": [],
   "source": []
  },
  {
   "cell_type": "code",
   "execution_count": null,
   "metadata": {},
   "outputs": [],
   "source": []
  },
  {
   "cell_type": "markdown",
   "metadata": {},
   "source": [
    "Comment on the plots:\n",
    "- For the real GDP at market prices: the ACF shows a very high autocorrelation with recent previous values and slowly decreasing towards the past. This slow decrease shows that there is a persistent trend on the values, which indicates this might be a non-stationary time series: this is very interesting since we saw from the unit root hypothesis on the original dataset that this variable was non-stationary. About the PACF: we know it is measuring the direct autocorrelation between the lagged metric and the one at stake. We see from the plot that the two most recent metrics play an important role, but for any datapoint older than that we see that the impact is minimal, if any.\n",
    "\n",
    "- For the unemployment rate: the ACF shows high autocorrelation with recent previous values and even though it decreases faster towards the past in comparrisson to the real GDP at market prices, we can still see it as a slow decrease, sugesting a persistend trend and non-stationary time series. Another difference we can point out is that from lag 7 backwards, the impact is already statistically insignificant (inside the blue shaded area) whereas in the first ACF the first 13 lags were significant. The PACF is not much different from the last one too: the first lag still has great impact on the metric the other don't. Except for the second one which has a negative direct impact and is statistically significant.\n",
    "\n",
    "- For the consumer price inflation: this ACF does not show soo much of a slow decay - showing we don't really have a strong persistent trend as strong as we had in the others: from the 4th lag backwards we have no statistically significant effect. The PACF is very close to the last one: the first lag has strong relevance on the actual value and the second lag has a somewhat significant negative direct effect on it.\n"
   ]
  },
  {
   "cell_type": "markdown",
   "metadata": {},
   "source": [
    "Question 33: Explain the principle of parsimony and its relationship with Ockham’s razor using the theory of information criterion."
   ]
  },
  {
   "cell_type": "markdown",
   "metadata": {},
   "source": [
    "The principle of parsimony, also know as Ockham's razor, is that we should give preference to simpler models: if two models have the same explanatory power and one of them is simpler - then we chose the simpler one. This increases interpretability, is more computationaly efficient and reduces overfitting. \n",
    "Now, the idea of information criterion is a way to ponderate the amount of errors commited and the complexity of the model. This is something we also did when prunning decision tress in Data Mining."
   ]
  },
  {
   "cell_type": "markdown",
   "metadata": {},
   "source": [
    "Question 34: Explain the problem of auto-correlation of the errors."
   ]
  },
  {
   "cell_type": "markdown",
   "metadata": {},
   "source": []
  },
  {
   "cell_type": "markdown",
   "metadata": {},
   "source": [
    "Question 35: Using only stationary variables, run a regression of GDP on constant, unemployment and inflation and test the hypothesis of no-autocorrelation of errors."
   ]
  },
  {
   "cell_type": "code",
   "execution_count": 7,
   "metadata": {},
   "outputs": [
    {
     "name": "stdout",
     "output_type": "stream",
     "text": [
      "                                OLS Regression Results                               \n",
      "=====================================================================================\n",
      "Dep. Variable:     Real GDP at market prices   R-squared:                       0.350\n",
      "Model:                                   OLS   Adj. R-squared:                  0.341\n",
      "Method:                        Least Squares   F-statistic:                     37.47\n",
      "Date:                       Fri, 06 Dec 2024   Prob (F-statistic):           9.62e-14\n",
      "Time:                               16:12:08   Log-Likelihood:                -1596.8\n",
      "No. Observations:                        142   AIC:                             3200.\n",
      "Df Residuals:                            139   BIC:                             3209.\n",
      "Df Model:                                  2                                         \n",
      "Covariance Type:                   nonrobust                                         \n",
      "============================================================================================\n",
      "                               coef    std err          t      P>|t|      [0.025      0.975]\n",
      "--------------------------------------------------------------------------------------------\n",
      "const                     2768.3006   1570.439      1.763      0.080    -336.735    5873.337\n",
      "Unemployment rate        -7649.2744    958.979     -7.976      0.000   -9545.346   -5753.203\n",
      "Consumer price inflation  -711.3675    410.678     -1.732      0.085   -1523.350     100.615\n",
      "==============================================================================\n",
      "Omnibus:                       59.519   Durbin-Watson:                   0.300\n",
      "Prob(Omnibus):                  0.000   Jarque-Bera (JB):              200.808\n",
      "Skew:                           1.578   Prob(JB):                     2.48e-44\n",
      "Kurtosis:                       7.897   Cond. No.                         4.79\n",
      "==============================================================================\n",
      "\n",
      "Notes:\n",
      "[1] Standard Errors assume that the covariance matrix of the errors is correctly specified.\n",
      "Durbin-Watson Statistic: 0.29986596691528306\n",
      "Autocorrelation detected\n"
     ]
    }
   ],
   "source": [
    "import statsmodels.api as sm\n",
    "\n",
    "df_stationary_35 = df_stationary[['Unemployment rate', 'Consumer price inflation']]\n",
    "df_stationary_35 = sm.add_constant(df_stationary_35)\n",
    "\n",
    "y = df_stationary['Real GDP at market prices']\n",
    "\n",
    "model = sm.OLS(y, df_stationary_35).fit()\n",
    "\n",
    "print(model.summary())\n",
    "\n",
    "# Extract residuals\n",
    "residuals = model.resid\n",
    "\n",
    "# Perform Durbin-Watson test\n",
    "from statsmodels.stats.stattools import durbin_watson\n",
    "dw_stat = durbin_watson(residuals)\n",
    "\n",
    "print(f\"Durbin-Watson Statistic: {dw_stat}\")\n",
    "if 1.5 < dw_stat < 2.5:\n",
    "    print(\"No significant autocorrelation detected\")\n",
    "else:\n",
    "    print(\"Autocorrelation detected\")\n",
    "    "
   ]
  },
  {
   "cell_type": "markdown",
   "metadata": {},
   "source": [
    "Question 36: Regardless of your answer to question 35, correct auto-correlation with GLS. Test again for the presence of auto-correlation. Comment on your results."
   ]
  },
  {
   "cell_type": "code",
   "execution_count": 8,
   "metadata": {},
   "outputs": [
    {
     "name": "stdout",
     "output_type": "stream",
     "text": [
      "Durbin-Watson statistic (OLS): 0.29986596691528306\n",
      "Estimated rho: 0.8408092351140909\n",
      "                                OLS Regression Results                               \n",
      "=====================================================================================\n",
      "Dep. Variable:     Real GDP at market prices   R-squared:                       0.319\n",
      "Model:                                   OLS   Adj. R-squared:                  0.309\n",
      "Method:                        Least Squares   F-statistic:                     32.34\n",
      "Date:                       Fri, 06 Dec 2024   Prob (F-statistic):           3.03e-12\n",
      "Time:                               16:12:08   Log-Likelihood:                -1497.9\n",
      "No. Observations:                        141   AIC:                             3002.\n",
      "Df Residuals:                            138   BIC:                             3011.\n",
      "Df Model:                                  2                                         \n",
      "Covariance Type:                   nonrobust                                         \n",
      "============================================================================================\n",
      "                               coef    std err          t      P>|t|      [0.025      0.975]\n",
      "--------------------------------------------------------------------------------------------\n",
      "const                     6359.6295   5315.372      1.196      0.234   -4150.474    1.69e+04\n",
      "Unemployment rate        -6347.1092    800.230     -7.932      0.000   -7929.407   -4764.812\n",
      "Consumer price inflation  -859.0512    270.343     -3.178      0.002   -1393.601    -324.501\n",
      "==============================================================================\n",
      "Omnibus:                        8.876   Durbin-Watson:                   1.161\n",
      "Prob(Omnibus):                  0.012   Jarque-Bera (JB):               14.400\n",
      "Skew:                           0.269   Prob(JB):                     0.000747\n",
      "Kurtosis:                       4.471   Cond. No.                         23.8\n",
      "==============================================================================\n",
      "\n",
      "Notes:\n",
      "[1] Standard Errors assume that the covariance matrix of the errors is correctly specified.\n",
      "Durbin-Watson statistic (GLS): 1.1611531022793466\n",
      "Autocorrelation detected\n"
     ]
    }
   ],
   "source": [
    "import numpy as np\n",
    "\n",
    "X = df_stationary[['Unemployment rate', 'Consumer price inflation']]\n",
    "X = sm.add_constant(X)\n",
    "y = df_stationary['Real GDP at market prices']\n",
    "ols_model = sm.OLS(y, X).fit()\n",
    "residuals = ols_model.resid\n",
    "\n",
    "# Step 2: Test for autocorrelation using Durbin-Watson\n",
    "dw_stat_ols = durbin_watson(residuals)\n",
    "print(f\"Durbin-Watson statistic (OLS): {dw_stat_ols}\")\n",
    "\n",
    "# Step 3: Estimate rho (first-order autocorrelation coefficient)\n",
    "rho = np.corrcoef(residuals[:-1], residuals[1:])[0, 1]\n",
    "print(f\"Estimated rho: {rho}\")\n",
    "\n",
    "# Step 4: Transform the variables\n",
    "y_trans = y[1:] - rho * y[:-1].values\n",
    "X_trans = X[1:] - rho * X[:-1].values\n",
    "\n",
    "# Step 5: Fit the GLS model to the transformed variables\n",
    "gls_model = sm.OLS(y_trans, X_trans).fit()  # GLS manually transformed\n",
    "print(gls_model.summary())\n",
    "\n",
    "dw_stat_gls = durbin_watson(gls_model.resid)\n",
    "print(f\"Durbin-Watson statistic (GLS): {dw_stat_gls}\")\n",
    "if 1.5 < dw_stat_gls < 2.5:\n",
    "    print(\"No significant autocorrelation detected\")\n",
    "else:\n",
    "    print(\"Autocorrelation detected\")\n"
   ]
  },
  {
   "cell_type": "markdown",
   "metadata": {},
   "source": [
    "Question 37: For all variables, construct their lag 1 and lag 2 variables."
   ]
  },
  {
   "cell_type": "code",
   "execution_count": 9,
   "metadata": {},
   "outputs": [
    {
     "name": "stdout",
     "output_type": "stream",
     "text": [
      "                                OLS Regression Results                               \n",
      "=====================================================================================\n",
      "Dep. Variable:     Real GDP at market prices   R-squared:                       0.350\n",
      "Model:                                   OLS   Adj. R-squared:                  0.341\n",
      "Method:                        Least Squares   F-statistic:                     37.47\n",
      "Date:                       Fri, 06 Dec 2024   Prob (F-statistic):           9.62e-14\n",
      "Time:                               16:12:08   Log-Likelihood:                -1596.8\n",
      "No. Observations:                        142   AIC:                             3200.\n",
      "Df Residuals:                            139   BIC:                             3209.\n",
      "Df Model:                                  2                                         \n",
      "Covariance Type:                   nonrobust                                         \n",
      "============================================================================================\n",
      "                               coef    std err          t      P>|t|      [0.025      0.975]\n",
      "--------------------------------------------------------------------------------------------\n",
      "const                     2768.3006   1570.439      1.763      0.080    -336.735    5873.337\n",
      "Unemployment rate        -7649.2744    958.979     -7.976      0.000   -9545.346   -5753.203\n",
      "Consumer price inflation  -711.3675    410.678     -1.732      0.085   -1523.350     100.615\n",
      "==============================================================================\n",
      "Omnibus:                       59.519   Durbin-Watson:                   0.300\n",
      "Prob(Omnibus):                  0.000   Jarque-Bera (JB):              200.808\n",
      "Skew:                           1.578   Prob(JB):                     2.48e-44\n",
      "Kurtosis:                       7.897   Cond. No.                         4.79\n",
      "==============================================================================\n",
      "\n",
      "Notes:\n",
      "[1] Standard Errors assume that the covariance matrix of the errors is correctly specified.\n"
     ]
    }
   ],
   "source": [
    "# Assume df contains your original dataset with time series variables\n",
    "df_lagged = df.copy()\n",
    "\n",
    "# Create lag 1 and lag 2 variables for each column\n",
    "for col in df.columns:\n",
    "    df_lagged[f\"{col}_lag1\"] = df[col].shift(1)  # Lag 1\n",
    "    df_lagged[f\"{col}_lag2\"] = df[col].shift(2)  # Lag 2\n",
    "\n",
    "df_lagged = df_lagged.dropna()\n",
    "\n",
    "y = df_lagged[['Real GDP at market prices']]\n",
    "\n",
    "df_lagged = df_lagged.drop(['Real GDP at market prices', 'Unemployment rate','Consumer price inflation'\n",
    "                            ,'Real GDP at market prices_lag1','Real GDP at market prices_lag2'], axis=1)\n",
    "df_lagged = sm.add_constant(df_lagged)\n",
    "\n",
    "ols_model = sm.OLS(y, df_lagged).fit()\n",
    "residuals = ols_model.resid\n",
    "\n",
    "print(model.summary())\n"
   ]
  },
  {
   "cell_type": "code",
   "execution_count": 16,
   "metadata": {},
   "outputs": [
    {
     "name": "stdout",
     "output_type": "stream",
     "text": [
      "Datapoints in the dataframe:  161\n",
      "Datapoints in the dataframe:  159\n"
     ]
    }
   ],
   "source": [
    "print('Datapoints in the dataframe: ', len(df))\n",
    "print('Datapoints in the dataframe: ', len(df_lagged))"
   ]
  },
  {
   "cell_type": "markdown",
   "metadata": {},
   "source": [
    "We lost two data points because when we introduce 2 lags, we end up with 2 rows (in the beggining) with missing values. And because we end up droping these rows to run the OLS, we have minus 2 rows (datapoints) to work with."
   ]
  },
  {
   "cell_type": "markdown",
   "metadata": {},
   "source": [
    "Question 39: State and test the no-Granger causality hypothesis of unemployment on GDP at the 1% level."
   ]
  },
  {
   "cell_type": "code",
   "execution_count": 18,
   "metadata": {},
   "outputs": [
    {
     "name": "stdout",
     "output_type": "stream",
     "text": [
      "     Real GDP at market prices  Unemployment rate  Consumer price inflation\n",
      "204                 530.661402          -0.720334                  2.118947\n",
      "205                -815.771235          -0.362621                  7.530099\n",
      "206               -3932.042778           1.167761                  5.316075\n",
      "207               -3033.906116           1.251860                 -3.668062\n",
      "208               -3219.795418           0.840824                 -6.568567\n",
      "..                         ...                ...                       ...\n",
      "341               39577.050000          -1.618365                 -0.978368\n",
      "342               61489.100000          -1.695424                 -0.804022\n",
      "343               70473.800000          -1.814916                 -0.825007\n",
      "344               87015.200000          -1.573617                 -0.085713\n",
      "345               96780.450000          -0.817460                  0.316873\n",
      "\n",
      "[142 rows x 3 columns]\n",
      "\n",
      "Granger Causality\n",
      "number of lags (no zero) 1\n",
      "ssr based F test:         F=3.6811  , p=0.0568  , df_denom=157, df_num=1\n",
      "ssr based chi2 test:   chi2=3.7514  , p=0.0528  , df=1\n",
      "likelihood ratio test: chi2=3.7081  , p=0.0541  , df=1\n",
      "parameter F test:         F=3.6811  , p=0.0568  , df_denom=157, df_num=1\n",
      "\n",
      "Granger Causality\n",
      "number of lags (no zero) 2\n",
      "ssr based F test:         F=3.2619  , p=0.0410  , df_denom=154, df_num=2\n",
      "ssr based chi2 test:   chi2=6.7356  , p=0.0345  , df=2\n",
      "likelihood ratio test: chi2=6.5968  , p=0.0369  , df=2\n",
      "parameter F test:         F=3.2619  , p=0.0410  , df_denom=154, df_num=2\n"
     ]
    },
    {
     "name": "stderr",
     "output_type": "stream",
     "text": [
      "C:\\Users\\guik2\\AppData\\Local\\Packages\\PythonSoftwareFoundation.Python.3.11_qbz5n2kfra8p0\\LocalCache\\local-packages\\Python311\\site-packages\\statsmodels\\tsa\\stattools.py:1556: FutureWarning: verbose is deprecated since functions should not print results\n",
      "  warnings.warn(\n"
     ]
    },
    {
     "data": {
      "text/plain": [
       "{1: ({'ssr_ftest': (3.6810981618219865, 0.05684716750558121, 157.0, 1),\n",
       "   'ssr_chi2test': (3.751437617143426, 0.05276211330001378, 1),\n",
       "   'lrtest': (3.7081341734929083, 0.054147888210213845, 1),\n",
       "   'params_ftest': (3.6810981618221583, 0.05684716750557568, 157.0, 1.0)},\n",
       "  [<statsmodels.regression.linear_model.RegressionResultsWrapper at 0x1a17ca3e690>,\n",
       "   <statsmodels.regression.linear_model.RegressionResultsWrapper at 0x1a17ca3ff90>,\n",
       "   array([[0., 1., 0.]])]),\n",
       " 2: ({'ssr_ftest': (3.26187885604996, 0.040979631457326894, 154.0, 2),\n",
       "   'ssr_chi2test': (6.735568027427839, 0.03446592880740833, 2),\n",
       "   'lrtest': (6.596807020541291, 0.03694209802773535, 2),\n",
       "   'params_ftest': (3.2618788560501417, 0.04097963145731964, 154.0, 2.0)},\n",
       "  [<statsmodels.regression.linear_model.RegressionResultsWrapper at 0x1a17c7dded0>,\n",
       "   <statsmodels.regression.linear_model.RegressionResultsWrapper at 0x1a17c7de190>,\n",
       "   array([[0., 0., 1., 0., 0.],\n",
       "          [0., 0., 0., 1., 0.]])])}"
      ]
     },
     "execution_count": 18,
     "metadata": {},
     "output_type": "execute_result"
    }
   ],
   "source": [
    "from statsmodels.tsa.stattools import grangercausalitytests\n",
    "\n",
    "print(df_stationary)\n",
    "\n",
    "# Prepare the dataset for Granger causality test\n",
    "data = df[['Real GDP at market prices', 'Unemployment rate']]\n",
    "\n",
    "max_lags = 2\n",
    "grangercausalitytests(data, max_lags, verbose=True)\n"
   ]
  },
  {
   "cell_type": "markdown",
   "metadata": {},
   "source": [
    "We see that both p-values are higher that the 1% level -- which means there is no evidence that unemployment Granger-causes GDP for lags 1 and 2."
   ]
  },
  {
   "cell_type": "markdown",
   "metadata": {},
   "source": [
    "Question 40: Divide the sample in two groups: 1900-1960 and 1961-2000. Test the stability of coefficients between the two periods."
   ]
  }
 ],
 "metadata": {
  "kernelspec": {
   "display_name": "Python 3",
   "language": "python",
   "name": "python3"
  },
  "language_info": {
   "codemirror_mode": {
    "name": "ipython",
    "version": 3
   },
   "file_extension": ".py",
   "mimetype": "text/x-python",
   "name": "python",
   "nbconvert_exporter": "python",
   "pygments_lexer": "ipython3",
   "version": "3.11.9"
  }
 },
 "nbformat": 4,
 "nbformat_minor": 2
}
