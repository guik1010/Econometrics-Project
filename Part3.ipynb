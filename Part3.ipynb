{
 "cells": [
  {
   "cell_type": "markdown",
   "metadata": {},
   "source": []
  },
  {
   "cell_type": "code",
   "execution_count": 32,
   "metadata": {},
   "outputs": [
    {
     "name": "stdout",
     "output_type": "stream",
     "text": [
      "     Real GDP at market prices  Unemployment rate  Consumer price inflation\n",
      "194               7.351220e+04           3.790930                  0.488281\n",
      "195               7.695718e+04           3.572757                 -0.485909\n",
      "196               7.708776e+04           4.008832                 -3.613281\n",
      "197               7.741237e+04           5.309585                 -8.409321\n",
      "198               8.045892e+04           3.325983                 -0.221239\n",
      "..                         ...                ...                       ...\n",
      "350               1.684820e+06           8.110983                  4.463693\n",
      "351               1.706942e+06           7.970745                  2.828242\n",
      "352               1.739563e+06           7.608094                  2.564799\n",
      "353               1.792976e+06           6.180032                  1.461031\n",
      "354               1.833233e+06           5.384406                  0.040099\n",
      "\n",
      "[161 rows x 3 columns]\n"
     ]
    }
   ],
   "source": [
    "import pandas as pd\n",
    "\n",
    "df = pd.read_excel(\n",
    "    'threecenturies_v2.3.xlsx',  \n",
    "    sheet_name='A1. Headline series',        \n",
    "    usecols='B, P, AC',                \n",
    "    skiprows=7                  \n",
    ")\n",
    "\n",
    "df = df.rename(columns={\n",
    "    'Unnamed: 1': \"Real GDP at market prices\",\n",
    "    'Unnamed: 15': \"Unemployment rate\",\n",
    "    'Unnamed: 28': \"Consumer price inflation\"\n",
    "})\n",
    "\n",
    "df = df.dropna()  # Drop rows with NaN\n",
    "\n",
    "print(df)\n"
   ]
  },
  {
   "cell_type": "markdown",
   "metadata": {},
   "source": []
  },
  {
   "cell_type": "code",
   "execution_count": 33,
   "metadata": {},
   "outputs": [
    {
     "name": "stdout",
     "output_type": "stream",
     "text": [
      "     Real GDP at market prices  Unemployment rate  Consumer price inflation\n",
      "204                 530.661402          -0.720334                  2.118947\n",
      "205                -815.771235          -0.362621                  7.530099\n",
      "206               -3932.042778           1.167761                  5.316075\n",
      "207               -3033.906116           1.251860                 -3.668062\n",
      "208               -3219.795418           0.840824                 -6.568567\n",
      "..                         ...                ...                       ...\n",
      "341               39577.050000          -1.618365                 -0.978368\n",
      "342               61489.100000          -1.695424                 -0.804022\n",
      "343               70473.800000          -1.814916                 -0.825007\n",
      "344               87015.200000          -1.573617                 -0.085713\n",
      "345               96780.450000          -0.817460                  0.316873\n",
      "\n",
      "[142 rows x 3 columns]\n"
     ]
    },
    {
     "name": "stderr",
     "output_type": "stream",
     "text": [
      "C:\\Users\\guik2\\AppData\\Local\\Temp\\ipykernel_28580\\3442753048.py:3: SettingWithCopyWarning: \n",
      "A value is trying to be set on a copy of a slice from a DataFrame.\n",
      "Try using .loc[row_indexer,col_indexer] = value instead\n",
      "\n",
      "See the caveats in the documentation: https://pandas.pydata.org/pandas-docs/stable/user_guide/indexing.html#returning-a-view-versus-a-copy\n",
      "  df_1[\"Moving_Avg_2x10\"] = df_1[\"Real GDP at market prices\"].rolling(window=20, center=True).mean()\n",
      "C:\\Users\\guik2\\AppData\\Local\\Temp\\ipykernel_28580\\3442753048.py:5: SettingWithCopyWarning: \n",
      "A value is trying to be set on a copy of a slice from a DataFrame.\n",
      "Try using .loc[row_indexer,col_indexer] = value instead\n",
      "\n",
      "See the caveats in the documentation: https://pandas.pydata.org/pandas-docs/stable/user_guide/indexing.html#returning-a-view-versus-a-copy\n",
      "  df_1[\"Real GDP at market prices\"] = df_1[\"Real GDP at market prices\"] - df_1[\"Moving_Avg_2x10\"]\n",
      "C:\\Users\\guik2\\AppData\\Local\\Temp\\ipykernel_28580\\3442753048.py:13: SettingWithCopyWarning: \n",
      "A value is trying to be set on a copy of a slice from a DataFrame.\n",
      "Try using .loc[row_indexer,col_indexer] = value instead\n",
      "\n",
      "See the caveats in the documentation: https://pandas.pydata.org/pandas-docs/stable/user_guide/indexing.html#returning-a-view-versus-a-copy\n",
      "  df_2[\"Moving_Avg_2x10\"] = df_2[\"Unemployment rate\"].rolling(window=20, center=True).mean()\n",
      "C:\\Users\\guik2\\AppData\\Local\\Temp\\ipykernel_28580\\3442753048.py:15: SettingWithCopyWarning: \n",
      "A value is trying to be set on a copy of a slice from a DataFrame.\n",
      "Try using .loc[row_indexer,col_indexer] = value instead\n",
      "\n",
      "See the caveats in the documentation: https://pandas.pydata.org/pandas-docs/stable/user_guide/indexing.html#returning-a-view-versus-a-copy\n",
      "  df_2[\"Unemployment rate\"] = df_2[\"Unemployment rate\"] - df_2[\"Moving_Avg_2x10\"]\n",
      "C:\\Users\\guik2\\AppData\\Local\\Temp\\ipykernel_28580\\3442753048.py:23: SettingWithCopyWarning: \n",
      "A value is trying to be set on a copy of a slice from a DataFrame.\n",
      "Try using .loc[row_indexer,col_indexer] = value instead\n",
      "\n",
      "See the caveats in the documentation: https://pandas.pydata.org/pandas-docs/stable/user_guide/indexing.html#returning-a-view-versus-a-copy\n",
      "  df_3[\"Moving_Avg_3x10\"] = df_3[\"Consumer price inflation\"].rolling(window=20, center=True).mean()\n",
      "C:\\Users\\guik2\\AppData\\Local\\Temp\\ipykernel_28580\\3442753048.py:25: SettingWithCopyWarning: \n",
      "A value is trying to be set on a copy of a slice from a DataFrame.\n",
      "Try using .loc[row_indexer,col_indexer] = value instead\n",
      "\n",
      "See the caveats in the documentation: https://pandas.pydata.org/pandas-docs/stable/user_guide/indexing.html#returning-a-view-versus-a-copy\n",
      "  df_3[\"Consumer price inflation\"] = df_3[\"Consumer price inflation\"] - df_3[\"Moving_Avg_3x10\"]\n"
     ]
    }
   ],
   "source": [
    "df_1 = df[[\"Real GDP at market prices\"]]\n",
    "\n",
    "df_1[\"Moving_Avg_2x10\"] = df_1[\"Real GDP at market prices\"].rolling(window=20, center=True).mean()\n",
    "\n",
    "df_1[\"Real GDP at market prices\"] = df_1[\"Real GDP at market prices\"] - df_1[\"Moving_Avg_2x10\"]  \n",
    "df_1 = df_1.drop(columns = [\"Moving_Avg_2x10\"])\n",
    "\n",
    "df_1 = df_1[[\"Real GDP at market prices\"]]\n",
    "\n",
    "\n",
    "df_2 = df[[\"Unemployment rate\"]]\n",
    "\n",
    "df_2[\"Moving_Avg_2x10\"] = df_2[\"Unemployment rate\"].rolling(window=20, center=True).mean()\n",
    "\n",
    "df_2[\"Unemployment rate\"] = df_2[\"Unemployment rate\"] - df_2[\"Moving_Avg_2x10\"]  \n",
    "df_2 = df_2.drop(columns = [\"Moving_Avg_2x10\"])\n",
    "\n",
    "df_2 = df_2[[\"Unemployment rate\"]]\n",
    "\n",
    "\n",
    "df_3 = df[[\"Consumer price inflation\"]]\n",
    "\n",
    "df_3[\"Moving_Avg_3x10\"] = df_3[\"Consumer price inflation\"].rolling(window=20, center=True).mean()\n",
    "\n",
    "df_3[\"Consumer price inflation\"] = df_3[\"Consumer price inflation\"] - df_3[\"Moving_Avg_3x10\"]  \n",
    "df_3 = df_3.drop(columns = [\"Moving_Avg_3x10\"])\n",
    "\n",
    "df_3 = df_3[[\"Consumer price inflation\"]]\n",
    "\n",
    "df_stationary = pd.concat([df_1, df_2, df_3], axis=1)\n",
    "\n",
    "df_stationary = df_stationary.dropna()  # Drop rows with NaN\n",
    "\n",
    "print(df_stationary)\n"
   ]
  },
  {
   "cell_type": "markdown",
   "metadata": {},
   "source": [
    "Question 29: Using the original dataset, test the unit root hypothesis for all variables."
   ]
  },
  {
   "cell_type": "code",
   "execution_count": 34,
   "metadata": {},
   "outputs": [
    {
     "name": "stdout",
     "output_type": "stream",
     "text": [
      "Real GDP at market prices\n",
      "ADF Statistic for Real GDP at market prices: 4.75635282976845\n",
      "p-value: 1.0\n",
      "We accept the unit root hypothesis, so the series is not stationary\n",
      "---------------------------\n",
      "Unemployment rate\n",
      "ADF Statistic for Unemployment rate: -3.3174175336487006\n",
      "p-value: 0.014117636865537565\n",
      "Reject the unit root hypothesis, so the series is stationary\n",
      "---------------------------\n",
      "Consumer price inflation\n",
      "ADF Statistic for Consumer price inflation: -5.2976981207997484\n",
      "p-value: 5.536091623454105e-06\n",
      "Reject the unit root hypothesis, so the series is stationary\n",
      "---------------------------\n"
     ]
    }
   ],
   "source": [
    "from statsmodels.tsa.stattools import adfuller\n",
    "\n",
    "df = df.dropna()  # Drop rows with NaN\n",
    "df = df[~df.isin([float('inf'), float('-inf')]).any(axis=1)]  # Remove rows with inf\n",
    "\n",
    "variables = ['Real GDP at market prices', 'Unemployment rate', 'Consumer price inflation']   \n",
    "\n",
    "for var in variables:\n",
    "    result = adfuller(df[var])\n",
    "    print (var)\n",
    "    print(f'ADF Statistic for {var}: {result[0]}')\n",
    "    print(f'p-value: {result[1]}')\n",
    "    if result[1] < 0.05:\n",
    "        print(\"Reject the unit root hypothesis, so the series is stationary\")\n",
    "    else:\n",
    "        print(\"We accept the unit root hypothesis, so the series is not stationary\")\n",
    "    print('---------------------------')"
   ]
  },
  {
   "cell_type": "markdown",
   "metadata": {},
   "source": [
    "Question 30: Transform all variables so that they are stationary using either your answers to questions 28 or to question 29."
   ]
  },
  {
   "cell_type": "code",
   "execution_count": 35,
   "metadata": {},
   "outputs": [
    {
     "name": "stdout",
     "output_type": "stream",
     "text": [
      "Real GDP at market prices\n",
      "ADF Statistic for Real GDP at market prices: -5.216338699995358\n",
      "p-value: 8.141323486394978e-06\n",
      "Reject the unit root hypothesis, so the series is stationary\n",
      "---------------------------\n",
      "Unemployment rate\n",
      "ADF Statistic for Unemployment rate: -5.7631870697010985\n",
      "p-value: 5.610315160451365e-07\n",
      "Reject the unit root hypothesis, so the series is stationary\n",
      "---------------------------\n",
      "Consumer price inflation\n",
      "ADF Statistic for Consumer price inflation: -6.0273633550359325\n",
      "p-value: 1.445194889677531e-07\n",
      "Reject the unit root hypothesis, so the series is stationary\n",
      "---------------------------\n"
     ]
    }
   ],
   "source": [
    "from statsmodels.tsa.stattools import adfuller\n",
    "\n",
    "df_stationary = df_stationary.dropna()  # Drop rows with NaN\n",
    "df_stationary = df_stationary[~df_stationary.isin([float('inf'), float('-inf')]).any(axis=1)]  # Remove rows with inf\n",
    "\n",
    "variables = ['Real GDP at market prices', 'Unemployment rate', 'Consumer price inflation']   \n",
    "\n",
    "for var in variables:\n",
    "    result = adfuller(df_stationary[var])\n",
    "    print (var)\n",
    "    print(f'ADF Statistic for {var}: {result[0]}')\n",
    "    print(f'p-value: {result[1]}')\n",
    "    if result[1] < 0.05:\n",
    "        print(\"Reject the unit root hypothesis, so the series is stationary\")\n",
    "    else:\n",
    "        print(\"We accept the unit root hypothesis, so the series is not stationary\")\n",
    "    print('---------------------------')"
   ]
  },
  {
   "cell_type": "markdown",
   "metadata": {},
   "source": [
    "Question 31: Explain the difference between ACF and PACF."
   ]
  },
  {
   "cell_type": "markdown",
   "metadata": {},
   "source": []
  },
  {
   "cell_type": "markdown",
   "metadata": {},
   "source": [
    "Question 32: Plot and comment on the ACF and PACF of all variables."
   ]
  },
  {
   "cell_type": "code",
   "execution_count": null,
   "metadata": {},
   "outputs": [],
   "source": []
  }
 ],
 "metadata": {
  "kernelspec": {
   "display_name": "Python 3",
   "language": "python",
   "name": "python3"
  },
  "language_info": {
   "codemirror_mode": {
    "name": "ipython",
    "version": 3
   },
   "file_extension": ".py",
   "mimetype": "text/x-python",
   "name": "python",
   "nbconvert_exporter": "python",
   "pygments_lexer": "ipython3",
   "version": "3.11.9"
  }
 },
 "nbformat": 4,
 "nbformat_minor": 2
}
