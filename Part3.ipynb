{
 "cells": [
  {
   "cell_type": "markdown",
   "metadata": {},
   "source": [
    "Part 3 - Time Series Data"
   ]
  },
  {
   "cell_type": "markdown",
   "metadata": {},
   "source": [
    "Question 24: Define strict and weak stationarity."
   ]
  },
  {
   "cell_type": "markdown",
   "metadata": {},
   "source": [
    "Stationarity of a time series means that the statistical properties of that time series are constant, so: mean, variance, autocovariance... are all constant over time. Now, there are two types of stationarity: weak stationarity and strict stationarity. <br>\n",
    "A time series is strictly stationary if the joint distribution does not change over time, that means all statistical properties won't change over time (including higher order moments).\n",
    "A time has weak stationarity if only the first two moments (mean and covariance) are constant."
   ]
  },
  {
   "cell_type": "markdown",
   "metadata": {},
   "source": [
    "Question 25: Explain ergodicity and state the ergodic theorem. Illustrate with an example."
   ]
  },
  {
   "cell_type": "markdown",
   "metadata": {},
   "source": [
    "Time averages are averages of a variable taken in time, for example taking Unemployment rate in many different years and taking the average value. Now ensemble averages are taken at a single point in time across more than one realization of the same measurement, for example taking multiple measurements of Unemployment rate in the same year, then taking their average. <br>\n",
    "We also need to define stationarity here: we can agree that it's possible to take the ensembled average at any point in time. That said, we can have many different values of ensembled averages. It's important to note that, if the time series is stationary, then the ensembled average will be constant even across time. <br>\n",
    "Finally, ergodicity: a time series is ergodic when time averages converge to ensembled averages (hence the necessity of stationarity). This is interesting because we can then dismiss multiple realizations of the same experiment if we got a long enough single time series. "
   ]
  },
  {
   "cell_type": "markdown",
   "metadata": {},
   "source": [
    "The **Ergodic Theorem** states that for an ergodic stochastic process:\n",
    "\n",
    "1. The **time average** of a function over a sufficiently long period converges to the **ensemble average**:\n",
    "   \n",
    "   $$\n",
    "   \\frac{1}{T} \\sum_{t=1}^T g(X_t) \\xrightarrow{T \\to \\infty} \\mathbb{E}[g(X)]\n",
    "   $$\n",
    "\n",
    "2. This holds under the assumption that the process is stationary and ergodic.\n",
    "\n",
    "If a process is ergodic, a single realization of the process observed over time is sufficient to infer the process's long-run statistical properties.\n"
   ]
  },
  {
   "cell_type": "markdown",
   "metadata": {},
   "source": [
    "I will use the current dataset as the example: time average - we can see a temporal average looking at the Unemployment rate in time, for example between 1900 and 2000, we just take the average of these values to get the temporal average. Now, imagine if we have multiple measurements of the Unemployment rate in 1900. If we took the average acroos these multiple realizations, then we would have the ensembled average. Now, the interesting thing is, if this time series is ergodic (remebering it has to be stationary) and long enough - then the time average will converge to the ensembled average. And actually this ends up being very practical: we just need one big enough realization, and not many of them."
   ]
  },
  {
   "cell_type": "code",
   "execution_count": 11,
   "metadata": {},
   "outputs": [
    {
     "name": "stdout",
     "output_type": "stream",
     "text": [
      "     Real GDP at market prices  Unemployment rate  Consumer price inflation\n",
      "239               1.811603e+05           3.679865                  4.058273\n",
      "240               1.849745e+05           4.877351                 -0.300000\n",
      "241               1.877566e+05           5.145694                  0.000000\n",
      "242               1.860158e+05           5.603507                  1.103310\n",
      "243               1.881556e+05           6.914821                 -0.396825\n",
      "..                         ...                ...                       ...\n",
      "335               1.243709e+06           8.097052                  2.400308\n",
      "336               1.282602e+06           6.972014                  1.824606\n",
      "337               1.323527e+06           6.255467                  1.557398\n",
      "338               1.366983e+06           5.976813                  1.328710\n",
      "339               1.418176e+06           5.459049                  0.796456\n",
      "\n",
      "[101 rows x 3 columns]\n"
     ]
    }
   ],
   "source": [
    "import pandas as pd\n",
    "\n",
    "df = pd.read_excel(\n",
    "    'threecenturies_v2.3.xlsx',  \n",
    "    sheet_name='A1. Headline series',        \n",
    "    usecols='A, B, P, AC',\n",
    "    skiprows= 7                \n",
    ")\n",
    "\n",
    "df = df.dropna()\n",
    "\n",
    "df.columns = [\"Year\",\"Real GDP at market prices\", \"Unemployment rate\", \"Consumer price inflation\"]\n",
    "\n",
    "df = df[(df['Year'] >= 1900) & (df['Year'] <= 2000)]\n",
    "\n",
    "df = df.drop(['Year'], axis=1)\n",
    "\n",
    "print(df)\n"
   ]
  },
  {
   "cell_type": "markdown",
   "metadata": {},
   "source": []
  },
  {
   "cell_type": "code",
   "execution_count": 12,
   "metadata": {},
   "outputs": [
    {
     "name": "stderr",
     "output_type": "stream",
     "text": [
      "C:\\Users\\guik2\\AppData\\Local\\Temp\\ipykernel_2268\\1648955345.py:3: SettingWithCopyWarning: \n",
      "A value is trying to be set on a copy of a slice from a DataFrame.\n",
      "Try using .loc[row_indexer,col_indexer] = value instead\n",
      "\n",
      "See the caveats in the documentation: https://pandas.pydata.org/pandas-docs/stable/user_guide/indexing.html#returning-a-view-versus-a-copy\n",
      "  df_1[\"Moving_Avg_2x10\"] = df_1[\"Real GDP at market prices\"].rolling(window=20, center=True).mean()\n",
      "C:\\Users\\guik2\\AppData\\Local\\Temp\\ipykernel_2268\\1648955345.py:5: SettingWithCopyWarning: \n",
      "A value is trying to be set on a copy of a slice from a DataFrame.\n",
      "Try using .loc[row_indexer,col_indexer] = value instead\n",
      "\n",
      "See the caveats in the documentation: https://pandas.pydata.org/pandas-docs/stable/user_guide/indexing.html#returning-a-view-versus-a-copy\n",
      "  df_1[\"Real GDP at market prices\"] = df_1[\"Real GDP at market prices\"] - df_1[\"Moving_Avg_2x10\"]\n",
      "C:\\Users\\guik2\\AppData\\Local\\Temp\\ipykernel_2268\\1648955345.py:13: SettingWithCopyWarning: \n",
      "A value is trying to be set on a copy of a slice from a DataFrame.\n",
      "Try using .loc[row_indexer,col_indexer] = value instead\n",
      "\n",
      "See the caveats in the documentation: https://pandas.pydata.org/pandas-docs/stable/user_guide/indexing.html#returning-a-view-versus-a-copy\n",
      "  df_2[\"Moving_Avg_2x10\"] = df_2[\"Unemployment rate\"].rolling(window=20, center=True).mean()\n",
      "C:\\Users\\guik2\\AppData\\Local\\Temp\\ipykernel_2268\\1648955345.py:15: SettingWithCopyWarning: \n",
      "A value is trying to be set on a copy of a slice from a DataFrame.\n",
      "Try using .loc[row_indexer,col_indexer] = value instead\n",
      "\n",
      "See the caveats in the documentation: https://pandas.pydata.org/pandas-docs/stable/user_guide/indexing.html#returning-a-view-versus-a-copy\n",
      "  df_2[\"Unemployment rate\"] = df_2[\"Unemployment rate\"] - df_2[\"Moving_Avg_2x10\"]\n",
      "C:\\Users\\guik2\\AppData\\Local\\Temp\\ipykernel_2268\\1648955345.py:23: SettingWithCopyWarning: \n",
      "A value is trying to be set on a copy of a slice from a DataFrame.\n",
      "Try using .loc[row_indexer,col_indexer] = value instead\n",
      "\n",
      "See the caveats in the documentation: https://pandas.pydata.org/pandas-docs/stable/user_guide/indexing.html#returning-a-view-versus-a-copy\n",
      "  df_3[\"Moving_Avg_3x10\"] = df_3[\"Consumer price inflation\"].rolling(window=20, center=True).mean()\n",
      "C:\\Users\\guik2\\AppData\\Local\\Temp\\ipykernel_2268\\1648955345.py:25: SettingWithCopyWarning: \n",
      "A value is trying to be set on a copy of a slice from a DataFrame.\n",
      "Try using .loc[row_indexer,col_indexer] = value instead\n",
      "\n",
      "See the caveats in the documentation: https://pandas.pydata.org/pandas-docs/stable/user_guide/indexing.html#returning-a-view-versus-a-copy\n",
      "  df_3[\"Consumer price inflation\"] = df_3[\"Consumer price inflation\"] - df_3[\"Moving_Avg_3x10\"]\n"
     ]
    },
    {
     "data": {
      "text/html": [
       "<div>\n",
       "<style scoped>\n",
       "    .dataframe tbody tr th:only-of-type {\n",
       "        vertical-align: middle;\n",
       "    }\n",
       "\n",
       "    .dataframe tbody tr th {\n",
       "        vertical-align: top;\n",
       "    }\n",
       "\n",
       "    .dataframe thead th {\n",
       "        text-align: right;\n",
       "    }\n",
       "</style>\n",
       "<table border=\"1\" class=\"dataframe\">\n",
       "  <thead>\n",
       "    <tr style=\"text-align: right;\">\n",
       "      <th></th>\n",
       "      <th>Real GDP at market prices</th>\n",
       "      <th>Unemployment rate</th>\n",
       "      <th>Consumer price inflation</th>\n",
       "    </tr>\n",
       "  </thead>\n",
       "  <tbody>\n",
       "    <tr>\n",
       "      <th>249</th>\n",
       "      <td>-5157.680634</td>\n",
       "      <td>1.612217</td>\n",
       "      <td>-3.086901</td>\n",
       "    </tr>\n",
       "    <tr>\n",
       "      <th>250</th>\n",
       "      <td>-18.483568</td>\n",
       "      <td>0.651997</td>\n",
       "      <td>-5.490429</td>\n",
       "    </tr>\n",
       "    <tr>\n",
       "      <th>251</th>\n",
       "      <td>2719.669370</td>\n",
       "      <td>-0.436035</td>\n",
       "      <td>-2.536247</td>\n",
       "    </tr>\n",
       "    <tr>\n",
       "      <th>252</th>\n",
       "      <td>10797.984003</td>\n",
       "      <td>-1.008674</td>\n",
       "      <td>-4.018009</td>\n",
       "    </tr>\n",
       "    <tr>\n",
       "      <th>253</th>\n",
       "      <td>14098.371607</td>\n",
       "      <td>-1.592062</td>\n",
       "      <td>-1.757828</td>\n",
       "    </tr>\n",
       "    <tr>\n",
       "      <th>...</th>\n",
       "      <td>...</td>\n",
       "      <td>...</td>\n",
       "      <td>...</td>\n",
       "    </tr>\n",
       "    <tr>\n",
       "      <th>326</th>\n",
       "      <td>22757.350000</td>\n",
       "      <td>1.520039</td>\n",
       "      <td>-3.135754</td>\n",
       "    </tr>\n",
       "    <tr>\n",
       "      <th>327</th>\n",
       "      <td>57504.700000</td>\n",
       "      <td>-0.407737</td>\n",
       "      <td>-1.925612</td>\n",
       "    </tr>\n",
       "    <tr>\n",
       "      <th>328</th>\n",
       "      <td>60572.900000</td>\n",
       "      <td>-1.798289</td>\n",
       "      <td>-0.151469</td>\n",
       "    </tr>\n",
       "    <tr>\n",
       "      <th>329</th>\n",
       "      <td>42989.400000</td>\n",
       "      <td>-1.951712</td>\n",
       "      <td>2.085806</td>\n",
       "    </tr>\n",
       "    <tr>\n",
       "      <th>330</th>\n",
       "      <td>1475.700000</td>\n",
       "      <td>-0.164321</td>\n",
       "      <td>3.363665</td>\n",
       "    </tr>\n",
       "  </tbody>\n",
       "</table>\n",
       "<p>82 rows × 3 columns</p>\n",
       "</div>"
      ],
      "text/plain": [
       "     Real GDP at market prices  Unemployment rate  Consumer price inflation\n",
       "249               -5157.680634           1.612217                 -3.086901\n",
       "250                 -18.483568           0.651997                 -5.490429\n",
       "251                2719.669370          -0.436035                 -2.536247\n",
       "252               10797.984003          -1.008674                 -4.018009\n",
       "253               14098.371607          -1.592062                 -1.757828\n",
       "..                         ...                ...                       ...\n",
       "326               22757.350000           1.520039                 -3.135754\n",
       "327               57504.700000          -0.407737                 -1.925612\n",
       "328               60572.900000          -1.798289                 -0.151469\n",
       "329               42989.400000          -1.951712                  2.085806\n",
       "330                1475.700000          -0.164321                  3.363665\n",
       "\n",
       "[82 rows x 3 columns]"
      ]
     },
     "execution_count": 12,
     "metadata": {},
     "output_type": "execute_result"
    }
   ],
   "source": [
    "df_1 = df[[\"Real GDP at market prices\"]]\n",
    "\n",
    "df_1[\"Moving_Avg_2x10\"] = df_1[\"Real GDP at market prices\"].rolling(window=20, center=True).mean()\n",
    "\n",
    "df_1[\"Real GDP at market prices\"] = df_1[\"Real GDP at market prices\"] - df_1[\"Moving_Avg_2x10\"]  \n",
    "df_1 = df_1.drop(columns = [\"Moving_Avg_2x10\"])\n",
    "\n",
    "df_1 = df_1[[\"Real GDP at market prices\"]]\n",
    "\n",
    "\n",
    "df_2 = df[[\"Unemployment rate\"]]\n",
    "\n",
    "df_2[\"Moving_Avg_2x10\"] = df_2[\"Unemployment rate\"].rolling(window=20, center=True).mean()\n",
    "\n",
    "df_2[\"Unemployment rate\"] = df_2[\"Unemployment rate\"] - df_2[\"Moving_Avg_2x10\"]  \n",
    "df_2 = df_2.drop(columns = [\"Moving_Avg_2x10\"])\n",
    "\n",
    "df_2 = df_2[[\"Unemployment rate\"]]\n",
    "\n",
    "\n",
    "df_3 = df[[\"Consumer price inflation\"]]\n",
    "\n",
    "df_3[\"Moving_Avg_3x10\"] = df_3[\"Consumer price inflation\"].rolling(window=20, center=True).mean()\n",
    "\n",
    "df_3[\"Consumer price inflation\"] = df_3[\"Consumer price inflation\"] - df_3[\"Moving_Avg_3x10\"]  \n",
    "df_3 = df_3.drop(columns = [\"Moving_Avg_3x10\"])\n",
    "\n",
    "df_3 = df_3[[\"Consumer price inflation\"]]\n",
    "\n",
    "df_stationary = pd.concat([df_1, df_2, df_3], axis=1)\n",
    "\n",
    "df_stationary = df_stationary.dropna()  # Drop rows with NaN\n",
    "\n",
    "df_stationary\n"
   ]
  },
  {
   "cell_type": "markdown",
   "metadata": {},
   "source": [
    "Question 29: Using the original dataset, test the unit root hypothesis for all variables."
   ]
  },
  {
   "cell_type": "code",
   "execution_count": 13,
   "metadata": {},
   "outputs": [
    {
     "name": "stdout",
     "output_type": "stream",
     "text": [
      "Real GDP at market prices\n",
      "ADF Statistic for Real GDP at market prices: 4.334307365243231\n",
      "p-value: 1.0\n",
      "We accept the unit root hypothesis, so the series is not stationary\n",
      "---------------------------\n",
      "Unemployment rate\n",
      "ADF Statistic for Unemployment rate: -2.3632029316185594\n",
      "p-value: 0.15239250945749505\n",
      "We accept the unit root hypothesis, so the series is not stationary\n",
      "---------------------------\n",
      "Consumer price inflation\n",
      "ADF Statistic for Consumer price inflation: -4.0503591672558334\n",
      "p-value: 0.001168599408868895\n",
      "Reject the unit root hypothesis, so the series is stationary\n",
      "---------------------------\n"
     ]
    }
   ],
   "source": [
    "from statsmodels.tsa.stattools import adfuller\n",
    "\n",
    "df = df.dropna()  # Drop rows with NaN\n",
    "df = df[~df.isin([float('inf'), float('-inf')]).any(axis=1)]  # Remove rows with inf\n",
    "\n",
    "variables = ['Real GDP at market prices', 'Unemployment rate', 'Consumer price inflation']   \n",
    "\n",
    "for var in variables:\n",
    "    result = adfuller(df[var])\n",
    "    print (var)\n",
    "    print(f'ADF Statistic for {var}: {result[0]}')\n",
    "    print(f'p-value: {result[1]}')\n",
    "    if result[1] < 0.05:\n",
    "        print(\"Reject the unit root hypothesis, so the series is stationary\")\n",
    "    else:\n",
    "        print(\"We accept the unit root hypothesis, so the series is not stationary\")\n",
    "    print('---------------------------')"
   ]
  },
  {
   "cell_type": "markdown",
   "metadata": {},
   "source": [
    "Question 30: Transform all variables so that they are stationary using either your answers to questions 28 or to question 29."
   ]
  },
  {
   "cell_type": "code",
   "execution_count": 14,
   "metadata": {},
   "outputs": [
    {
     "name": "stdout",
     "output_type": "stream",
     "text": [
      "Real GDP at market prices\n",
      "ADF Statistic for Real GDP at market prices: -5.1435050632263835\n",
      "p-value: 1.1453628178516696e-05\n",
      "Reject the unit root hypothesis, so the series is stationary\n",
      "---------------------------\n",
      "Unemployment rate\n",
      "ADF Statistic for Unemployment rate: -3.6373194827446143\n",
      "p-value: 0.005086358397082338\n",
      "Reject the unit root hypothesis, so the series is stationary\n",
      "---------------------------\n",
      "Consumer price inflation\n",
      "ADF Statistic for Consumer price inflation: -4.610023115796683\n",
      "p-value: 0.00012378505105709454\n",
      "Reject the unit root hypothesis, so the series is stationary\n",
      "---------------------------\n"
     ]
    }
   ],
   "source": [
    "from statsmodels.tsa.stattools import adfuller\n",
    "\n",
    "df_stationary = df_stationary.dropna()  # Drop rows with NaN\n",
    "df_stationary = df_stationary[~df_stationary.isin([float('inf'), float('-inf')]).any(axis=1)]  # Remove rows with inf\n",
    "\n",
    "variables = ['Real GDP at market prices', 'Unemployment rate', 'Consumer price inflation']   \n",
    "\n",
    "for var in variables:\n",
    "    result = adfuller(df_stationary[var])\n",
    "    print (var)\n",
    "    print(f'ADF Statistic for {var}: {result[0]}')\n",
    "    print(f'p-value: {result[1]}')\n",
    "    if result[1] < 0.05:\n",
    "        print(\"Reject the unit root hypothesis, so the series is stationary\")\n",
    "    else:\n",
    "        print(\"We accept the unit root hypothesis, so the series is not stationary\")\n",
    "    print('---------------------------')"
   ]
  },
  {
   "cell_type": "markdown",
   "metadata": {},
   "source": [
    "Question 31: Explain the difference between ACF and PACF."
   ]
  },
  {
   "cell_type": "markdown",
   "metadata": {},
   "source": [
    "The ACF measures the correlation between a time series and its past values at various time lags, capturing both direct and indirect influences from earlier observations. In contrast, the PACF isolates the direct correlation between a time series observation and its past values by removing the effects of intermediate lags, highlighting the unique contribution of each lag.\n",
    "\n",
    "\n",
    "\n",
    "\n",
    "\n",
    "\n",
    "\n",
    "\n"
   ]
  },
  {
   "cell_type": "markdown",
   "metadata": {},
   "source": [
    "Question 32: Plot and comment on the ACF and PACF of all variables."
   ]
  },
  {
   "cell_type": "code",
   "execution_count": 15,
   "metadata": {},
   "outputs": [
    {
     "data": {
      "image/png": "[encoded data removed]",
      "text/plain": [
       "<Figure size 1200x600 with 2 Axes>"
      ]
     },
     "metadata": {},
     "output_type": "display_data"
    },
    {
     "data": {
      "image/png": "[encoded data removed]",
      "text/plain": [
       "<Figure size 1200x600 with 2 Axes>"
      ]
     },
     "metadata": {},
     "output_type": "display_data"
    },
    {
     "data": {
      "image/png": "[encoded data removed]",
      "text/plain": [
       "<Figure size 1200x600 with 2 Axes>"
      ]
     },
     "metadata": {},
     "output_type": "display_data"
    }
   ],
   "source": [
    "import matplotlib.pyplot as plt\n",
    "from statsmodels.graphics.tsaplots import plot_acf, plot_pacf\n",
    "\n",
    "for column in df.columns:\n",
    "    plt.figure(figsize=(12, 6))\n",
    "    \n",
    "    # ACF plot\n",
    "    plt.subplot(1, 2, 1)\n",
    "    plot_acf(df[column], lags=14, ax=plt.gca())  # Adjust lags as needed\n",
    "    plt.title(f\"ACF of {column}\")\n",
    "    \n",
    "    # PACF plot\n",
    "    plt.subplot(1, 2, 2)\n",
    "    plot_pacf(df[column], lags=10, ax=plt.gca())  # Adjust lags as needed\n",
    "    plt.title(f\"PACF of {column}\")\n",
    "    \n",
    "    plt.tight_layout()\n",
    "    plt.show()"
   ]
  },
  {
   "cell_type": "markdown",
   "metadata": {},
   "source": [
    "Comment on the plots:\n",
    "- For the real GDP at market prices: the ACF shows a very high autocorrelation with recent previous values and slowly decreasing towards the past. This slow decrease shows that there is a persistent trend on the values, which indicates this might be a non-stationary time series: this is very interesting since we saw from the unit root hypothesis on the original dataset that this variable was non-stationary. About the PACF: we know it is measuring the direct autocorrelation between the lagged metric and the one at stake. We see from the plot that the two most recent metrics play an important role, but for any datapoint older than that we see that the impact is minimal, if any.\n",
    "\n",
    "- For the unemployment rate: the ACF shows high autocorrelation with recent previous values and even though it decreases faster towards the past in comparrisson to the real GDP at market prices, we can still see it as a slow decrease, sugesting a persistend trend and non-stationary time series. Another difference we can point out is that from lag 7 backwards, the impact is already statistically insignificant (inside the blue shaded area) whereas in the first ACF the first 13 lags were significant. The PACF is not much different from the last one too: the first lag still has great impact on the metric the other don't. Except for the second one which has a negative direct impact and is statistically significant.\n",
    "\n",
    "- For the consumer price inflation: this ACF does not show soo much of a slow decay - showing we don't really have a strong persistent trend as strong as we had in the others: from the 4th lag backwards we have no statistically significant effect. The PACF is very close to the last one: the first lag has strong relevance on the actual value and the second lag has a somewhat significant negative direct effect on it.\n"
   ]
  },
  {
   "cell_type": "markdown",
   "metadata": {},
   "source": [
    "Question 33: Explain the principle of parsimony and its relationship with Ockham’s razor using the theory of information criterion."
   ]
  },
  {
   "cell_type": "markdown",
   "metadata": {},
   "source": [
    "The principle of parsimony, also know as Ockham's razor, is that we should give preference to simpler models: if two models have the same explanatory power and one of them is simpler - then we chose the simpler one. This increases interpretability, is more computationaly efficient and reduces overfitting. \n",
    "Now, the idea of information criterion is a way to ponderate the amount of errors commited and the complexity of the model. This is something we also did when prunning decision tress in Data Mining: we had to calculate something called the \"Generalization Error\" which took in consideration not only the amount of \"Training Errors\" bein commited, but also the amount of leaves (complexity) of out tree."
   ]
  },
  {
   "cell_type": "markdown",
   "metadata": {},
   "source": [
    "Question 34: Explain the problem of auto-correlation of the errors."
   ]
  },
  {
   "cell_type": "markdown",
   "metadata": {},
   "source": [
    "This happens when the residuals (errors) of a regression model are not independent of each other. So, an error at time t is correlated with errors that came before (t-1, t-2...)"
   ]
  },
  {
   "cell_type": "markdown",
   "metadata": {},
   "source": [
    "Question 35: Using only stationary variables, run a regression of GDP on constant, unemployment and inflation and test the hypothesis of no-autocorrelation of errors."
   ]
  },
  {
   "cell_type": "code",
   "execution_count": 16,
   "metadata": {},
   "outputs": [
    {
     "name": "stdout",
     "output_type": "stream",
     "text": [
      "                                OLS Regression Results                               \n",
      "=====================================================================================\n",
      "Dep. Variable:     Real GDP at market prices   R-squared:                       0.428\n",
      "Model:                                   OLS   Adj. R-squared:                  0.413\n",
      "Method:                        Least Squares   F-statistic:                     29.50\n",
      "Date:                       Sat, 07 Dec 2024   Prob (F-statistic):           2.70e-10\n",
      "Time:                               11:30:44   Log-Likelihood:                -916.08\n",
      "No. Observations:                         82   AIC:                             1838.\n",
      "Df Residuals:                             79   BIC:                             1845.\n",
      "Df Model:                                  2                                         \n",
      "Covariance Type:                   nonrobust                                         \n",
      "============================================================================================\n",
      "                               coef    std err          t      P>|t|      [0.025      0.975]\n",
      "--------------------------------------------------------------------------------------------\n",
      "const                     1540.0922   1937.000      0.795      0.429   -2315.409    5395.593\n",
      "Unemployment rate        -6894.5930   1027.688     -6.709      0.000   -8940.156   -4849.030\n",
      "Consumer price inflation  -447.4911    420.747     -1.064      0.291   -1284.967     389.985\n",
      "==============================================================================\n",
      "Omnibus:                       11.603   Durbin-Watson:                   0.468\n",
      "Prob(Omnibus):                  0.003   Jarque-Bera (JB):               14.073\n",
      "Skew:                           0.680   Prob(JB):                     0.000879\n",
      "Kurtosis:                       4.506   Cond. No.                         5.97\n",
      "==============================================================================\n",
      "\n",
      "Notes:\n",
      "[1] Standard Errors assume that the covariance matrix of the errors is correctly specified.\n",
      "Durbin-Watson Statistic: 0.46786065398272136\n",
      "Autocorrelation detected\n"
     ]
    }
   ],
   "source": [
    "import statsmodels.api as sm\n",
    "\n",
    "df_stationary_35 = df_stationary[['Unemployment rate', 'Consumer price inflation']]\n",
    "df_stationary_35 = sm.add_constant(df_stationary_35)\n",
    "\n",
    "y = df_stationary['Real GDP at market prices']\n",
    "\n",
    "model = sm.OLS(y, df_stationary_35).fit()\n",
    "\n",
    "print(model.summary())\n",
    "\n",
    "# Extract residuals\n",
    "residuals = model.resid\n",
    "\n",
    "# Perform Durbin-Watson test\n",
    "from statsmodels.stats.stattools import durbin_watson\n",
    "dw_stat = durbin_watson(residuals)\n",
    "\n",
    "print(f\"Durbin-Watson Statistic: {dw_stat}\")\n",
    "if 1.5 < dw_stat < 2.5:\n",
    "    print(\"No significant autocorrelation detected\")\n",
    "else:\n",
    "    print(\"Autocorrelation detected\")\n",
    "    "
   ]
  },
  {
   "cell_type": "markdown",
   "metadata": {},
   "source": [
    "Question 36: Regardless of your answer to question 35, correct auto-correlation with GLS. Test again for the presence of auto-correlation. Comment on your results."
   ]
  },
  {
   "cell_type": "code",
   "execution_count": 17,
   "metadata": {},
   "outputs": [
    {
     "name": "stdout",
     "output_type": "stream",
     "text": [
      "Durbin-Watson statistic (OLS): 0.46786065398272136\n",
      "Estimated rho: 0.7660261170719552\n",
      "                                OLS Regression Results                               \n",
      "=====================================================================================\n",
      "Dep. Variable:     Real GDP at market prices   R-squared:                       0.391\n",
      "Model:                                   OLS   Adj. R-squared:                  0.376\n",
      "Method:                        Least Squares   F-statistic:                     25.08\n",
      "Date:                       Sat, 07 Dec 2024   Prob (F-statistic):           3.89e-09\n",
      "Time:                               11:30:44   Log-Likelihood:                -867.47\n",
      "No. Observations:                         81   AIC:                             1741.\n",
      "Df Residuals:                             78   BIC:                             1748.\n",
      "Df Model:                                  2                                         \n",
      "Covariance Type:                   nonrobust                                         \n",
      "============================================================================================\n",
      "                               coef    std err          t      P>|t|      [0.025      0.975]\n",
      "--------------------------------------------------------------------------------------------\n",
      "const                     1691.2633   5245.890      0.322      0.748   -8752.501    1.21e+04\n",
      "Unemployment rate        -7105.4890   1017.511     -6.983      0.000   -9131.197   -5079.781\n",
      "Consumer price inflation -1061.8678    344.643     -3.081      0.003   -1747.998    -375.737\n",
      "==============================================================================\n",
      "Omnibus:                        3.757   Durbin-Watson:                   1.423\n",
      "Prob(Omnibus):                  0.153   Jarque-Bera (JB):                3.080\n",
      "Skew:                           0.337   Prob(JB):                        0.214\n",
      "Kurtosis:                       3.677   Cond. No.                         19.1\n",
      "==============================================================================\n",
      "\n",
      "Notes:\n",
      "[1] Standard Errors assume that the covariance matrix of the errors is correctly specified.\n",
      "Durbin-Watson statistic (GLS): 1.4229412207272065\n",
      "Autocorrelation detected\n"
     ]
    }
   ],
   "source": [
    "import numpy as np\n",
    "\n",
    "X = df_stationary[['Unemployment rate', 'Consumer price inflation']]\n",
    "X = sm.add_constant(X)\n",
    "y = df_stationary['Real GDP at market prices']\n",
    "ols_model = sm.OLS(y, X).fit()\n",
    "residuals = ols_model.resid\n",
    "\n",
    "# Step 2: Test for autocorrelation using Durbin-Watson\n",
    "dw_stat_ols = durbin_watson(residuals)\n",
    "print(f\"Durbin-Watson statistic (OLS): {dw_stat_ols}\")\n",
    "\n",
    "# Step 3: Estimate rho (first-order autocorrelation coefficient)\n",
    "rho = np.corrcoef(residuals[:-1], residuals[1:])[0, 1]\n",
    "print(f\"Estimated rho: {rho}\")\n",
    "\n",
    "# Step 4: Transform the variables\n",
    "y_trans = y[1:] - rho * y[:-1].values\n",
    "X_trans = X[1:] - rho * X[:-1].values\n",
    "\n",
    "# Step 5: Fit the GLS model to the transformed variables\n",
    "gls_model = sm.OLS(y_trans, X_trans).fit()  # GLS manually transformed\n",
    "print(gls_model.summary())\n",
    "\n",
    "dw_stat_gls = durbin_watson(gls_model.resid)\n",
    "print(f\"Durbin-Watson statistic (GLS): {dw_stat_gls}\")\n",
    "if 1.5 < dw_stat_gls < 2.5:\n",
    "    print(\"No significant autocorrelation detected\")\n",
    "else:\n",
    "    print(\"Autocorrelation detected\")\n"
   ]
  },
  {
   "cell_type": "markdown",
   "metadata": {},
   "source": [
    "Question 37: For all variables, construct their lag 1 and lag 2 variables.\n"
   ]
  },
  {
   "cell_type": "markdown",
   "metadata": {},
   "source": [
    "Question 38: Run a regression of GDP on constant, lag 1 unemployment, lag 2 unemployment, lag 1 inflation, lag 2 inflation. What is the number of observations and why?"
   ]
  },
  {
   "cell_type": "code",
   "execution_count": 18,
   "metadata": {},
   "outputs": [
    {
     "name": "stdout",
     "output_type": "stream",
     "text": [
      "                                OLS Regression Results                               \n",
      "=====================================================================================\n",
      "Dep. Variable:     Real GDP at market prices   R-squared:                       0.428\n",
      "Model:                                   OLS   Adj. R-squared:                  0.413\n",
      "Method:                        Least Squares   F-statistic:                     29.50\n",
      "Date:                       Sat, 07 Dec 2024   Prob (F-statistic):           2.70e-10\n",
      "Time:                               11:30:44   Log-Likelihood:                -916.08\n",
      "No. Observations:                         82   AIC:                             1838.\n",
      "Df Residuals:                             79   BIC:                             1845.\n",
      "Df Model:                                  2                                         \n",
      "Covariance Type:                   nonrobust                                         \n",
      "============================================================================================\n",
      "                               coef    std err          t      P>|t|      [0.025      0.975]\n",
      "--------------------------------------------------------------------------------------------\n",
      "const                     1540.0922   1937.000      0.795      0.429   -2315.409    5395.593\n",
      "Unemployment rate        -6894.5930   1027.688     -6.709      0.000   -8940.156   -4849.030\n",
      "Consumer price inflation  -447.4911    420.747     -1.064      0.291   -1284.967     389.985\n",
      "==============================================================================\n",
      "Omnibus:                       11.603   Durbin-Watson:                   0.468\n",
      "Prob(Omnibus):                  0.003   Jarque-Bera (JB):               14.073\n",
      "Skew:                           0.680   Prob(JB):                     0.000879\n",
      "Kurtosis:                       4.506   Cond. No.                         5.97\n",
      "==============================================================================\n",
      "\n",
      "Notes:\n",
      "[1] Standard Errors assume that the covariance matrix of the errors is correctly specified.\n"
     ]
    }
   ],
   "source": [
    "# Assume df contains your original dataset with time series variables\n",
    "df_lagged = df.copy()\n",
    "\n",
    "# Create lag 1 and lag 2 variables for each column\n",
    "for col in df.columns:\n",
    "    df_lagged[f\"{col}_lag1\"] = df[col].shift(1)  # Lag 1\n",
    "    df_lagged[f\"{col}_lag2\"] = df[col].shift(2)  # Lag 2\n",
    "\n",
    "df_lagged = df_lagged.dropna()\n",
    "\n",
    "y = df_lagged[['Real GDP at market prices']]\n",
    "\n",
    "df_lagged = df_lagged.drop(['Real GDP at market prices', 'Unemployment rate','Consumer price inflation'\n",
    "                            ,'Real GDP at market prices_lag1','Real GDP at market prices_lag2'], axis=1)\n",
    "df_lagged = sm.add_constant(df_lagged)\n",
    "\n",
    "ols_model = sm.OLS(y, df_lagged).fit()\n",
    "residuals = ols_model.resid\n",
    "\n",
    "print(model.summary())\n"
   ]
  },
  {
   "cell_type": "code",
   "execution_count": 19,
   "metadata": {},
   "outputs": [
    {
     "name": "stdout",
     "output_type": "stream",
     "text": [
      "Datapoints in the dataframe:  101\n",
      "Datapoints in the dataframe:  99\n"
     ]
    }
   ],
   "source": [
    "print('Datapoints in the dataframe: ', len(df))\n",
    "print('Datapoints in the dataframe: ', len(df_lagged))"
   ]
  },
  {
   "cell_type": "markdown",
   "metadata": {},
   "source": [
    "We lost two data points because when we introduce 2 lags, we end up with 2 rows (in the beggining) with missing values. And because we end up droping these rows to run the OLS, we have minus 2 rows (datapoints) to work with."
   ]
  },
  {
   "cell_type": "markdown",
   "metadata": {},
   "source": [
    "Question 39: State and test the no-Granger causality hypothesis of unemployment on GDP at the 1% level."
   ]
  },
  {
   "cell_type": "code",
   "execution_count": 20,
   "metadata": {},
   "outputs": [
    {
     "name": "stdout",
     "output_type": "stream",
     "text": [
      "     Real GDP at market prices  Unemployment rate  Consumer price inflation\n",
      "249               -5157.680634           1.612217                 -3.086901\n",
      "250                 -18.483568           0.651997                 -5.490429\n",
      "251                2719.669370          -0.436035                 -2.536247\n",
      "252               10797.984003          -1.008674                 -4.018009\n",
      "253               14098.371607          -1.592062                 -1.757828\n",
      "..                         ...                ...                       ...\n",
      "326               22757.350000           1.520039                 -3.135754\n",
      "327               57504.700000          -0.407737                 -1.925612\n",
      "328               60572.900000          -1.798289                 -0.151469\n",
      "329               42989.400000          -1.951712                  2.085806\n",
      "330                1475.700000          -0.164321                  3.363665\n",
      "\n",
      "[82 rows x 3 columns]\n",
      "\n",
      "Granger Causality\n",
      "number of lags (no zero) 1\n",
      "ssr based F test:         F=2.8018  , p=0.0974  , df_denom=97, df_num=1\n",
      "ssr based chi2 test:   chi2=2.8884  , p=0.0892  , df=1\n",
      "likelihood ratio test: chi2=2.8475  , p=0.0915  , df=1\n",
      "parameter F test:         F=2.8018  , p=0.0974  , df_denom=97, df_num=1\n",
      "\n",
      "Granger Causality\n",
      "number of lags (no zero) 2\n",
      "ssr based F test:         F=2.6092  , p=0.0789  , df_denom=94, df_num=2\n",
      "ssr based chi2 test:   chi2=5.4960  , p=0.0641  , df=2\n",
      "likelihood ratio test: chi2=5.3489  , p=0.0689  , df=2\n",
      "parameter F test:         F=2.6092  , p=0.0789  , df_denom=94, df_num=2\n"
     ]
    },
    {
     "name": "stderr",
     "output_type": "stream",
     "text": [
      "C:\\Users\\guik2\\AppData\\Local\\Packages\\PythonSoftwareFoundation.Python.3.11_qbz5n2kfra8p0\\LocalCache\\local-packages\\Python311\\site-packages\\statsmodels\\tsa\\stattools.py:1556: FutureWarning: verbose is deprecated since functions should not print results\n",
      "  warnings.warn(\n"
     ]
    },
    {
     "data": {
      "text/plain": [
       "{1: ({'ssr_ftest': (2.8017753603380493, 0.09738179330400402, 97.0, 1),\n",
       "   'ssr_chi2test': (2.8884282065340714, 0.08921792783709236, 1),\n",
       "   'lrtest': (2.8474993837553484, 0.09151618006001695, 1),\n",
       "   'params_ftest': (2.80177536033779, 0.09738179330401998, 97.0, 1.0)},\n",
       "  [<statsmodels.regression.linear_model.RegressionResultsWrapper at 0x24896ce6110>,\n",
       "   <statsmodels.regression.linear_model.RegressionResultsWrapper at 0x248990b9a90>,\n",
       "   array([[0., 1., 0.]])]),\n",
       " 2: ({'ssr_ftest': (2.609207646257333, 0.07891719959026688, 94.0, 2),\n",
       "   'ssr_chi2test': (5.495990574031404, 0.06405614676502568, 2),\n",
       "   'lrtest': (5.348856429337957, 0.06894623957463936, 2),\n",
       "   'params_ftest': (2.6092076462573397, 0.07891719959026612, 94.0, 2.0)},\n",
       "  [<statsmodels.regression.linear_model.RegressionResultsWrapper at 0x248990ba350>,\n",
       "   <statsmodels.regression.linear_model.RegressionResultsWrapper at 0x248990ba510>,\n",
       "   array([[0., 0., 1., 0., 0.],\n",
       "          [0., 0., 0., 1., 0.]])])}"
      ]
     },
     "execution_count": 20,
     "metadata": {},
     "output_type": "execute_result"
    }
   ],
   "source": [
    "from statsmodels.tsa.stattools import grangercausalitytests\n",
    "\n",
    "print(df_stationary)\n",
    "\n",
    "# Prepare the dataset for Granger causality test\n",
    "data = df[['Real GDP at market prices', 'Unemployment rate']]\n",
    "\n",
    "max_lags = 2\n",
    "grangercausalitytests(data, max_lags, verbose=True)\n"
   ]
  },
  {
   "cell_type": "markdown",
   "metadata": {},
   "source": [
    "We see that both p-values are higher that the 1% level -- which means there is no evidence that unemployment Granger-causes GDP for lags 1 and 2."
   ]
  },
  {
   "cell_type": "markdown",
   "metadata": {},
   "source": [
    "Question 40: Divide the sample in two groups: 1900-1960 and 1961-2000. Test the stability of coefficients between the two periods."
   ]
  }
 ],
 "metadata": {
  "kernelspec": {
   "display_name": "Python 3",
   "language": "python",
   "name": "python3"
  },
  "language_info": {
   "codemirror_mode": {
    "name": "ipython",
    "version": 3
   },
   "file_extension": ".py",
   "mimetype": "text/x-python",
   "name": "python",
   "nbconvert_exporter": "python",
   "pygments_lexer": "ipython3",
   "version": "3.11.9"
  }
 },
 "nbformat": 4,
 "nbformat_minor": 2
}
