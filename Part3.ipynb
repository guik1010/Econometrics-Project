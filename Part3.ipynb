{
 "cells": [
  {
   "cell_type": "markdown",
   "metadata": {},
   "source": [
    "Part 3 - Time Series Data"
   ]
  },
  {
   "cell_type": "markdown",
   "metadata": {},
   "source": [
    "Question 24: Define strict and weak stationarity."
   ]
  },
  {
   "cell_type": "markdown",
   "metadata": {},
   "source": [
    "Stationarity of a time series means that the statistical properties of that time series are constant, so: mean, variance, autocovariance... are all constant over time. Now, there are two types of stationarity: weak stationarity and strict stationarity. <br>\n",
    "A time series is strictly stationary if the joint distribution does not change over time, that means all statistical properties won't change over time (including higher order moments).\n",
    "A time has weak stationarity if only the first two moments (mean and covariance) are constant."
   ]
  },
  {
   "cell_type": "markdown",
   "metadata": {},
   "source": [
    "Question 25: Explain ergodicity and state the ergodic theorem. Illustrate with an example."
   ]
  },
  {
   "cell_type": "markdown",
   "metadata": {},
   "source": [
    "Time averages are averages of a variable taken in time, for example taking Unemployment rate in many different years and taking the average value. Now ensemble averages are taken at a single point in time across more than one realization of the same measurement, for example taking multiple measurements of Unemployment rate in the same year, then taking their average. <br>\n",
    "We also need to define stationarity here: we can agree that it's possible to take the ensembled average at any point in time. That said, we can have many different values of ensembled averages. It's important to note that, if the time series is stationary, then the ensembled average will be constant even across time. <br>\n",
    "Finally, ergodicity: a time series is ergodic when time averages converge to ensembled averages (hence the necessity of stationarity). This is interesting because we can then dismiss multiple realizations of the same experiment if we got a long enough single time series. "
   ]
  },
  {
   "cell_type": "markdown",
   "metadata": {},
   "source": [
    "The **Ergodic Theorem** states that for an ergodic stochastic process:\n",
    "\n",
    "1. The **time average** of a function over a sufficiently long period converges to the **ensemble average**:\n",
    "   \n",
    "   $$\n",
    "   \\frac{1}{T} \\sum_{t=1}^T g(X_t) \\xrightarrow{T \\to \\infty} \\mathbb{E}[g(X)]\n",
    "   $$\n",
    "\n",
    "2. This holds under the assumption that the process is stationary and ergodic.\n",
    "\n",
    "If a process is ergodic, a single realization of the process observed over time is sufficient to infer the process's long-run statistical properties.\n"
   ]
  },
  {
   "cell_type": "markdown",
   "metadata": {},
   "source": [
    "I will use the current dataset as the example."
   ]
  },
  {
   "cell_type": "code",
   "execution_count": 20,
   "metadata": {},
   "outputs": [
    {
     "name": "stdout",
     "output_type": "stream",
     "text": [
      "     Real GDP at market prices  Unemployment rate  Consumer price inflation\n",
      "0                 1.849745e+05           4.877351                 -0.300000\n",
      "1                 1.877566e+05           5.145694                  0.000000\n",
      "2                 1.860158e+05           5.603507                  1.103310\n",
      "3                 1.881556e+05           6.914821                 -0.396825\n",
      "4                 1.936657e+05           6.483198                  0.398406\n",
      "..                         ...                ...                       ...\n",
      "110               1.684820e+06           8.110983                  4.463693\n",
      "111               1.706942e+06           7.970745                  2.828242\n",
      "112               1.739563e+06           7.608094                  2.564799\n",
      "113               1.792976e+06           6.180032                  1.461031\n",
      "114               1.833233e+06           5.384406                  0.040099\n",
      "\n",
      "[115 rows x 3 columns]\n"
     ]
    }
   ],
   "source": [
    "import pandas as pd\n",
    "\n",
    "df = pd.read_excel(\n",
    "    'threecenturies_v2.3.xlsx',  \n",
    "    sheet_name='A1. Headline series',        \n",
    "    usecols='B, P, AC',                \n",
    "    skiprows=247                                     \n",
    ")\n",
    "\n",
    "df.columns = [\"Real GDP at market prices\", \"Unemployment rate\", \"Consumer price inflation\"]\n",
    "\n",
    "df = df.dropna()\n",
    "\n",
    "print(df)\n"
   ]
  },
  {
   "cell_type": "markdown",
   "metadata": {},
   "source": []
  },
  {
   "cell_type": "code",
   "execution_count": 21,
   "metadata": {},
   "outputs": [
    {
     "name": "stderr",
     "output_type": "stream",
     "text": [
      "C:\\Users\\guik2\\AppData\\Local\\Temp\\ipykernel_7140\\1648955345.py:3: SettingWithCopyWarning: \n",
      "A value is trying to be set on a copy of a slice from a DataFrame.\n",
      "Try using .loc[row_indexer,col_indexer] = value instead\n",
      "\n",
      "See the caveats in the documentation: https://pandas.pydata.org/pandas-docs/stable/user_guide/indexing.html#returning-a-view-versus-a-copy\n",
      "  df_1[\"Moving_Avg_2x10\"] = df_1[\"Real GDP at market prices\"].rolling(window=20, center=True).mean()\n",
      "C:\\Users\\guik2\\AppData\\Local\\Temp\\ipykernel_7140\\1648955345.py:5: SettingWithCopyWarning: \n",
      "A value is trying to be set on a copy of a slice from a DataFrame.\n",
      "Try using .loc[row_indexer,col_indexer] = value instead\n",
      "\n",
      "See the caveats in the documentation: https://pandas.pydata.org/pandas-docs/stable/user_guide/indexing.html#returning-a-view-versus-a-copy\n",
      "  df_1[\"Real GDP at market prices\"] = df_1[\"Real GDP at market prices\"] - df_1[\"Moving_Avg_2x10\"]\n",
      "C:\\Users\\guik2\\AppData\\Local\\Temp\\ipykernel_7140\\1648955345.py:13: SettingWithCopyWarning: \n",
      "A value is trying to be set on a copy of a slice from a DataFrame.\n",
      "Try using .loc[row_indexer,col_indexer] = value instead\n",
      "\n",
      "See the caveats in the documentation: https://pandas.pydata.org/pandas-docs/stable/user_guide/indexing.html#returning-a-view-versus-a-copy\n",
      "  df_2[\"Moving_Avg_2x10\"] = df_2[\"Unemployment rate\"].rolling(window=20, center=True).mean()\n",
      "C:\\Users\\guik2\\AppData\\Local\\Temp\\ipykernel_7140\\1648955345.py:15: SettingWithCopyWarning: \n",
      "A value is trying to be set on a copy of a slice from a DataFrame.\n",
      "Try using .loc[row_indexer,col_indexer] = value instead\n",
      "\n",
      "See the caveats in the documentation: https://pandas.pydata.org/pandas-docs/stable/user_guide/indexing.html#returning-a-view-versus-a-copy\n",
      "  df_2[\"Unemployment rate\"] = df_2[\"Unemployment rate\"] - df_2[\"Moving_Avg_2x10\"]\n",
      "C:\\Users\\guik2\\AppData\\Local\\Temp\\ipykernel_7140\\1648955345.py:23: SettingWithCopyWarning: \n",
      "A value is trying to be set on a copy of a slice from a DataFrame.\n",
      "Try using .loc[row_indexer,col_indexer] = value instead\n",
      "\n",
      "See the caveats in the documentation: https://pandas.pydata.org/pandas-docs/stable/user_guide/indexing.html#returning-a-view-versus-a-copy\n",
      "  df_3[\"Moving_Avg_3x10\"] = df_3[\"Consumer price inflation\"].rolling(window=20, center=True).mean()\n",
      "C:\\Users\\guik2\\AppData\\Local\\Temp\\ipykernel_7140\\1648955345.py:25: SettingWithCopyWarning: \n",
      "A value is trying to be set on a copy of a slice from a DataFrame.\n",
      "Try using .loc[row_indexer,col_indexer] = value instead\n",
      "\n",
      "See the caveats in the documentation: https://pandas.pydata.org/pandas-docs/stable/user_guide/indexing.html#returning-a-view-versus-a-copy\n",
      "  df_3[\"Consumer price inflation\"] = df_3[\"Consumer price inflation\"] - df_3[\"Moving_Avg_3x10\"]\n"
     ]
    },
    {
     "data": {
      "text/html": [
       "<div>\n",
       "<style scoped>\n",
       "    .dataframe tbody tr th:only-of-type {\n",
       "        vertical-align: middle;\n",
       "    }\n",
       "\n",
       "    .dataframe tbody tr th {\n",
       "        vertical-align: top;\n",
       "    }\n",
       "\n",
       "    .dataframe thead th {\n",
       "        text-align: right;\n",
       "    }\n",
       "</style>\n",
       "<table border=\"1\" class=\"dataframe\">\n",
       "  <thead>\n",
       "    <tr style=\"text-align: right;\">\n",
       "      <th></th>\n",
       "      <th>Real GDP at market prices</th>\n",
       "      <th>Unemployment rate</th>\n",
       "      <th>Consumer price inflation</th>\n",
       "    </tr>\n",
       "  </thead>\n",
       "  <tbody>\n",
       "    <tr>\n",
       "      <th>10</th>\n",
       "      <td>-18.483568</td>\n",
       "      <td>0.651997</td>\n",
       "      <td>-5.490429</td>\n",
       "    </tr>\n",
       "    <tr>\n",
       "      <th>11</th>\n",
       "      <td>2719.669370</td>\n",
       "      <td>-0.436035</td>\n",
       "      <td>-2.536247</td>\n",
       "    </tr>\n",
       "    <tr>\n",
       "      <th>12</th>\n",
       "      <td>10797.984003</td>\n",
       "      <td>-1.008674</td>\n",
       "      <td>-4.018009</td>\n",
       "    </tr>\n",
       "    <tr>\n",
       "      <th>13</th>\n",
       "      <td>14098.371607</td>\n",
       "      <td>-1.592062</td>\n",
       "      <td>-1.757828</td>\n",
       "    </tr>\n",
       "    <tr>\n",
       "      <th>14</th>\n",
       "      <td>25071.914095</td>\n",
       "      <td>-3.810260</td>\n",
       "      <td>8.211876</td>\n",
       "    </tr>\n",
       "    <tr>\n",
       "      <th>...</th>\n",
       "      <td>...</td>\n",
       "      <td>...</td>\n",
       "      <td>...</td>\n",
       "    </tr>\n",
       "    <tr>\n",
       "      <th>101</th>\n",
       "      <td>39577.050000</td>\n",
       "      <td>-1.618365</td>\n",
       "      <td>-0.978368</td>\n",
       "    </tr>\n",
       "    <tr>\n",
       "      <th>102</th>\n",
       "      <td>61489.100000</td>\n",
       "      <td>-1.695424</td>\n",
       "      <td>-0.804022</td>\n",
       "    </tr>\n",
       "    <tr>\n",
       "      <th>103</th>\n",
       "      <td>70473.800000</td>\n",
       "      <td>-1.814916</td>\n",
       "      <td>-0.825007</td>\n",
       "    </tr>\n",
       "    <tr>\n",
       "      <th>104</th>\n",
       "      <td>87015.200000</td>\n",
       "      <td>-1.573617</td>\n",
       "      <td>-0.085713</td>\n",
       "    </tr>\n",
       "    <tr>\n",
       "      <th>105</th>\n",
       "      <td>96780.450000</td>\n",
       "      <td>-0.817460</td>\n",
       "      <td>0.316873</td>\n",
       "    </tr>\n",
       "  </tbody>\n",
       "</table>\n",
       "<p>96 rows × 3 columns</p>\n",
       "</div>"
      ],
      "text/plain": [
       "     Real GDP at market prices  Unemployment rate  Consumer price inflation\n",
       "10                  -18.483568           0.651997                 -5.490429\n",
       "11                 2719.669370          -0.436035                 -2.536247\n",
       "12                10797.984003          -1.008674                 -4.018009\n",
       "13                14098.371607          -1.592062                 -1.757828\n",
       "14                25071.914095          -3.810260                  8.211876\n",
       "..                         ...                ...                       ...\n",
       "101               39577.050000          -1.618365                 -0.978368\n",
       "102               61489.100000          -1.695424                 -0.804022\n",
       "103               70473.800000          -1.814916                 -0.825007\n",
       "104               87015.200000          -1.573617                 -0.085713\n",
       "105               96780.450000          -0.817460                  0.316873\n",
       "\n",
       "[96 rows x 3 columns]"
      ]
     },
     "execution_count": 21,
     "metadata": {},
     "output_type": "execute_result"
    }
   ],
   "source": [
    "df_1 = df[[\"Real GDP at market prices\"]]\n",
    "\n",
    "df_1[\"Moving_Avg_2x10\"] = df_1[\"Real GDP at market prices\"].rolling(window=20, center=True).mean()\n",
    "\n",
    "df_1[\"Real GDP at market prices\"] = df_1[\"Real GDP at market prices\"] - df_1[\"Moving_Avg_2x10\"]  \n",
    "df_1 = df_1.drop(columns = [\"Moving_Avg_2x10\"])\n",
    "\n",
    "df_1 = df_1[[\"Real GDP at market prices\"]]\n",
    "\n",
    "\n",
    "df_2 = df[[\"Unemployment rate\"]]\n",
    "\n",
    "df_2[\"Moving_Avg_2x10\"] = df_2[\"Unemployment rate\"].rolling(window=20, center=True).mean()\n",
    "\n",
    "df_2[\"Unemployment rate\"] = df_2[\"Unemployment rate\"] - df_2[\"Moving_Avg_2x10\"]  \n",
    "df_2 = df_2.drop(columns = [\"Moving_Avg_2x10\"])\n",
    "\n",
    "df_2 = df_2[[\"Unemployment rate\"]]\n",
    "\n",
    "\n",
    "df_3 = df[[\"Consumer price inflation\"]]\n",
    "\n",
    "df_3[\"Moving_Avg_3x10\"] = df_3[\"Consumer price inflation\"].rolling(window=20, center=True).mean()\n",
    "\n",
    "df_3[\"Consumer price inflation\"] = df_3[\"Consumer price inflation\"] - df_3[\"Moving_Avg_3x10\"]  \n",
    "df_3 = df_3.drop(columns = [\"Moving_Avg_3x10\"])\n",
    "\n",
    "df_3 = df_3[[\"Consumer price inflation\"]]\n",
    "\n",
    "df_stationary = pd.concat([df_1, df_2, df_3], axis=1)\n",
    "\n",
    "df_stationary = df_stationary.dropna()  # Drop rows with NaN\n",
    "\n",
    "df_stationary\n"
   ]
  },
  {
   "cell_type": "markdown",
   "metadata": {},
   "source": [
    "Question 29: Using the original dataset, test the unit root hypothesis for all variables."
   ]
  },
  {
   "cell_type": "code",
   "execution_count": 22,
   "metadata": {},
   "outputs": [
    {
     "name": "stdout",
     "output_type": "stream",
     "text": [
      "Real GDP at market prices\n",
      "ADF Statistic for Real GDP at market prices: 3.4538500035808877\n",
      "p-value: 1.0\n",
      "We accept the unit root hypothesis, so the series is not stationary\n",
      "---------------------------\n",
      "Unemployment rate\n",
      "ADF Statistic for Unemployment rate: -2.5681226345939647\n",
      "p-value: 0.09976625958425395\n",
      "We accept the unit root hypothesis, so the series is not stationary\n",
      "---------------------------\n",
      "Consumer price inflation\n",
      "ADF Statistic for Consumer price inflation: -4.270821833873334\n",
      "p-value: 0.0004988314659380156\n",
      "Reject the unit root hypothesis, so the series is stationary\n",
      "---------------------------\n"
     ]
    }
   ],
   "source": [
    "from statsmodels.tsa.stattools import adfuller\n",
    "\n",
    "df = df.dropna()  # Drop rows with NaN\n",
    "df = df[~df.isin([float('inf'), float('-inf')]).any(axis=1)]  # Remove rows with inf\n",
    "\n",
    "variables = ['Real GDP at market prices', 'Unemployment rate', 'Consumer price inflation']   \n",
    "\n",
    "for var in variables:\n",
    "    result = adfuller(df[var])\n",
    "    print (var)\n",
    "    print(f'ADF Statistic for {var}: {result[0]}')\n",
    "    print(f'p-value: {result[1]}')\n",
    "    if result[1] < 0.05:\n",
    "        print(\"Reject the unit root hypothesis, so the series is stationary\")\n",
    "    else:\n",
    "        print(\"We accept the unit root hypothesis, so the series is not stationary\")\n",
    "    print('---------------------------')"
   ]
  },
  {
   "cell_type": "markdown",
   "metadata": {},
   "source": [
    "Question 30: Transform all variables so that they are stationary using either your answers to questions 28 or to question 29."
   ]
  },
  {
   "cell_type": "code",
   "execution_count": 23,
   "metadata": {},
   "outputs": [
    {
     "name": "stdout",
     "output_type": "stream",
     "text": [
      "Real GDP at market prices\n",
      "ADF Statistic for Real GDP at market prices: -4.242002767564102\n",
      "p-value: 0.0005589504705172024\n",
      "Reject the unit root hypothesis, so the series is stationary\n",
      "---------------------------\n",
      "Unemployment rate\n",
      "ADF Statistic for Unemployment rate: -2.75340246595099\n",
      "p-value: 0.06524432753031498\n",
      "We accept the unit root hypothesis, so the series is not stationary\n",
      "---------------------------\n",
      "Consumer price inflation\n",
      "ADF Statistic for Consumer price inflation: -4.9803849295694524\n",
      "p-value: 2.4264830666036403e-05\n",
      "Reject the unit root hypothesis, so the series is stationary\n",
      "---------------------------\n"
     ]
    }
   ],
   "source": [
    "from statsmodels.tsa.stattools import adfuller\n",
    "\n",
    "df_stationary = df_stationary.dropna()  # Drop rows with NaN\n",
    "df_stationary = df_stationary[~df_stationary.isin([float('inf'), float('-inf')]).any(axis=1)]  # Remove rows with inf\n",
    "\n",
    "variables = ['Real GDP at market prices', 'Unemployment rate', 'Consumer price inflation']   \n",
    "\n",
    "for var in variables:\n",
    "    result = adfuller(df_stationary[var])\n",
    "    print (var)\n",
    "    print(f'ADF Statistic for {var}: {result[0]}')\n",
    "    print(f'p-value: {result[1]}')\n",
    "    if result[1] < 0.05:\n",
    "        print(\"Reject the unit root hypothesis, so the series is stationary\")\n",
    "    else:\n",
    "        print(\"We accept the unit root hypothesis, so the series is not stationary\")\n",
    "    print('---------------------------')"
   ]
  },
  {
   "cell_type": "markdown",
   "metadata": {},
   "source": [
    "Question 31: Explain the difference between ACF and PACF."
   ]
  },
  {
   "cell_type": "markdown",
   "metadata": {},
   "source": [
    "The ACF measures the correlation between a time series and its past values at various time lags, capturing both direct and indirect influences from earlier observations. In contrast, the PACF isolates the direct correlation between a time series observation and its past values by removing the effects of intermediate lags, highlighting the unique contribution of each lag.\n",
    "\n",
    "\n",
    "\n",
    "\n",
    "\n",
    "\n",
    "\n",
    "\n"
   ]
  },
  {
   "cell_type": "markdown",
   "metadata": {},
   "source": [
    "Question 32: Plot and comment on the ACF and PACF of all variables."
   ]
  },
  {
   "cell_type": "code",
   "execution_count": 24,
   "metadata": {},
   "outputs": [
    {
     "data": {
      "image/png": "[encoded data removed]",
      "text/plain": [
       "<Figure size 1200x600 with 2 Axes>"
      ]
     },
     "metadata": {},
     "output_type": "display_data"
    },
    {
     "data": {
      "image/png": "[encoded data removed]",
      "text/plain": [
       "<Figure size 1200x600 with 2 Axes>"
      ]
     },
     "metadata": {},
     "output_type": "display_data"
    },
    {
     "data": {
      "image/png": "[encoded data removed]",
      "text/plain": [
       "<Figure size 1200x600 with 2 Axes>"
      ]
     },
     "metadata": {},
     "output_type": "display_data"
    }
   ],
   "source": [
    "import matplotlib.pyplot as plt\n",
    "from statsmodels.graphics.tsaplots import plot_acf, plot_pacf\n",
    "\n",
    "for column in df.columns:\n",
    "    plt.figure(figsize=(12, 6))\n",
    "    \n",
    "    # ACF plot\n",
    "    plt.subplot(1, 2, 1)\n",
    "    plot_acf(df[column], lags=14, ax=plt.gca())  # Adjust lags as needed\n",
    "    plt.title(f\"ACF of {column}\")\n",
    "    \n",
    "    # PACF plot\n",
    "    plt.subplot(1, 2, 2)\n",
    "    plot_pacf(df[column], lags=10, ax=plt.gca())  # Adjust lags as needed\n",
    "    plt.title(f\"PACF of {column}\")\n",
    "    \n",
    "    plt.tight_layout()\n",
    "    plt.show()"
   ]
  },
  {
   "cell_type": "markdown",
   "metadata": {},
   "source": [
    "Comment on the plots:\n",
    "- For the real GDP at market prices: the ACF shows a very high autocorrelation with recent previous values and slowly decreasing towards the past. This slow decrease shows that there is a persistent trend on the values, which indicates this might be a non-stationary time series: this is very interesting since we saw from the unit root hypothesis on the original dataset that this variable was non-stationary. About the PACF: we know it is measuring the direct autocorrelation between the lagged metric and the one at stake. We see from the plot that the two most recent metrics play an important role, but for any datapoint older than that we see that the impact is minimal, if any.\n",
    "\n",
    "- For the unemployment rate: the ACF shows high autocorrelation with recent previous values and even though it decreases faster towards the past in comparrisson to the real GDP at market prices, we can still see it as a slow decrease, sugesting a persistend trend and non-stationary time series. Another difference we can point out is that from lag 7 backwards, the impact is already statistically insignificant (inside the blue shaded area) whereas in the first ACF the first 13 lags were significant. The PACF is not much different from the last one too: the first lag still has great impact on the metric the other don't. Except for the second one which has a negative direct impact and is statistically significant.\n",
    "\n",
    "- For the consumer price inflation: this ACF does not show soo much of a slow decay - showing we don't really have a strong persistent trend as strong as we had in the others: from the 4th lag backwards we have no statistically significant effect. The PACF is very close to the last one: the first lag has strong relevance on the actual value and the second lag has a somewhat significant negative direct effect on it.\n"
   ]
  },
  {
   "cell_type": "markdown",
   "metadata": {},
   "source": [
    "Question 33: Explain the principle of parsimony and its relationship with Ockham’s razor using the theory of information criterion."
   ]
  },
  {
   "cell_type": "markdown",
   "metadata": {},
   "source": [
    "The principle of parsimony, also know as Ockham's razor, is that we should give preference to simpler models: if two models have the same explanatory power and one of them is simpler - then we chose the simpler one. This increases interpretability, is more computationaly efficient and reduces overfitting. \n",
    "Now, the idea of information criterion is a way to ponderate the amount of errors commited and the complexity of the model. This is something we also did when prunning decision tress in Data Mining: we had to calculate something called the \"Generalization Error\" which took in consideration not only the amount of \"Training Errors\" bein commited, but also the amount of leaves (complexity) of out tree."
   ]
  },
  {
   "cell_type": "markdown",
   "metadata": {},
   "source": [
    "Question 34: Explain the problem of auto-correlation of the errors."
   ]
  },
  {
   "cell_type": "markdown",
   "metadata": {},
   "source": [
    "This happens when the residuals (errors) of a regression model are not independent of each other. So, an error at time t is correlated with errors that came before (t-1, t-2...)"
   ]
  },
  {
   "cell_type": "markdown",
   "metadata": {},
   "source": [
    "Question 35: Using only stationary variables, run a regression of GDP on constant, unemployment and inflation and test the hypothesis of no-autocorrelation of errors."
   ]
  },
  {
   "cell_type": "code",
   "execution_count": 25,
   "metadata": {},
   "outputs": [
    {
     "name": "stdout",
     "output_type": "stream",
     "text": [
      "                                OLS Regression Results                               \n",
      "=====================================================================================\n",
      "Dep. Variable:     Real GDP at market prices   R-squared:                       0.371\n",
      "Model:                                   OLS   Adj. R-squared:                  0.358\n",
      "Method:                        Least Squares   F-statistic:                     27.46\n",
      "Date:                       Fri, 06 Dec 2024   Prob (F-statistic):           4.25e-10\n",
      "Time:                               22:36:16   Log-Likelihood:                -1096.0\n",
      "No. Observations:                         96   AIC:                             2198.\n",
      "Df Residuals:                             93   BIC:                             2206.\n",
      "Df Model:                                  2                                         \n",
      "Covariance Type:                   nonrobust                                         \n",
      "============================================================================================\n",
      "                               coef    std err          t      P>|t|      [0.025      0.975]\n",
      "--------------------------------------------------------------------------------------------\n",
      "const                     3156.1626   2282.929      1.383      0.170   -1377.282    7689.607\n",
      "Unemployment rate        -8561.7299   1248.854     -6.856      0.000    -1.1e+04   -6081.752\n",
      "Consumer price inflation  -864.3413    522.751     -1.653      0.102   -1902.421     173.738\n",
      "==============================================================================\n",
      "Omnibus:                       29.549   Durbin-Watson:                   0.295\n",
      "Prob(Omnibus):                  0.000   Jarque-Bera (JB):               51.330\n",
      "Skew:                           1.276   Prob(JB):                     7.14e-12\n",
      "Kurtosis:                       5.513   Cond. No.                         5.52\n",
      "==============================================================================\n",
      "\n",
      "Notes:\n",
      "[1] Standard Errors assume that the covariance matrix of the errors is correctly specified.\n",
      "Durbin-Watson Statistic: 0.295488307793773\n",
      "Autocorrelation detected\n"
     ]
    }
   ],
   "source": [
    "import statsmodels.api as sm\n",
    "\n",
    "df_stationary_35 = df_stationary[['Unemployment rate', 'Consumer price inflation']]\n",
    "df_stationary_35 = sm.add_constant(df_stationary_35)\n",
    "\n",
    "y = df_stationary['Real GDP at market prices']\n",
    "\n",
    "model = sm.OLS(y, df_stationary_35).fit()\n",
    "\n",
    "print(model.summary())\n",
    "\n",
    "# Extract residuals\n",
    "residuals = model.resid\n",
    "\n",
    "# Perform Durbin-Watson test\n",
    "from statsmodels.stats.stattools import durbin_watson\n",
    "dw_stat = durbin_watson(residuals)\n",
    "\n",
    "print(f\"Durbin-Watson Statistic: {dw_stat}\")\n",
    "if 1.5 < dw_stat < 2.5:\n",
    "    print(\"No significant autocorrelation detected\")\n",
    "else:\n",
    "    print(\"Autocorrelation detected\")\n",
    "    "
   ]
  },
  {
   "cell_type": "markdown",
   "metadata": {},
   "source": [
    "Question 36: Regardless of your answer to question 35, correct auto-correlation with GLS. Test again for the presence of auto-correlation. Comment on your results."
   ]
  },
  {
   "cell_type": "code",
   "execution_count": 26,
   "metadata": {},
   "outputs": [
    {
     "name": "stdout",
     "output_type": "stream",
     "text": [
      "Durbin-Watson statistic (OLS): 0.295488307793773\n",
      "Estimated rho: 0.8433791574898306\n",
      "                                OLS Regression Results                               \n",
      "=====================================================================================\n",
      "Dep. Variable:     Real GDP at market prices   R-squared:                       0.344\n",
      "Model:                                   OLS   Adj. R-squared:                  0.329\n",
      "Method:                        Least Squares   F-statistic:                     24.07\n",
      "Date:                       Fri, 06 Dec 2024   Prob (F-statistic):           3.90e-09\n",
      "Time:                               22:36:16   Log-Likelihood:                -1025.0\n",
      "No. Observations:                         95   AIC:                             2056.\n",
      "Df Residuals:                             92   BIC:                             2064.\n",
      "Df Model:                                  2                                         \n",
      "Covariance Type:                   nonrobust                                         \n",
      "============================================================================================\n",
      "                               coef    std err          t      P>|t|      [0.025      0.975]\n",
      "--------------------------------------------------------------------------------------------\n",
      "const                     8613.3191   7815.864      1.102      0.273   -6909.661    2.41e+04\n",
      "Unemployment rate        -7414.3173   1082.006     -6.852      0.000   -9563.274   -5265.361\n",
      "Consumer price inflation -1130.8183    365.830     -3.091      0.003   -1857.389    -404.248\n",
      "==============================================================================\n",
      "Omnibus:                        1.242   Durbin-Watson:                   1.227\n",
      "Prob(Omnibus):                  0.537   Jarque-Bera (JB):                0.899\n",
      "Skew:                           0.233   Prob(JB):                        0.638\n",
      "Kurtosis:                       3.098   Cond. No.                         26.8\n",
      "==============================================================================\n",
      "\n",
      "Notes:\n",
      "[1] Standard Errors assume that the covariance matrix of the errors is correctly specified.\n",
      "Durbin-Watson statistic (GLS): 1.2269852240262604\n",
      "Autocorrelation detected\n"
     ]
    }
   ],
   "source": [
    "import numpy as np\n",
    "\n",
    "X = df_stationary[['Unemployment rate', 'Consumer price inflation']]\n",
    "X = sm.add_constant(X)\n",
    "y = df_stationary['Real GDP at market prices']\n",
    "ols_model = sm.OLS(y, X).fit()\n",
    "residuals = ols_model.resid\n",
    "\n",
    "# Step 2: Test for autocorrelation using Durbin-Watson\n",
    "dw_stat_ols = durbin_watson(residuals)\n",
    "print(f\"Durbin-Watson statistic (OLS): {dw_stat_ols}\")\n",
    "\n",
    "# Step 3: Estimate rho (first-order autocorrelation coefficient)\n",
    "rho = np.corrcoef(residuals[:-1], residuals[1:])[0, 1]\n",
    "print(f\"Estimated rho: {rho}\")\n",
    "\n",
    "# Step 4: Transform the variables\n",
    "y_trans = y[1:] - rho * y[:-1].values\n",
    "X_trans = X[1:] - rho * X[:-1].values\n",
    "\n",
    "# Step 5: Fit the GLS model to the transformed variables\n",
    "gls_model = sm.OLS(y_trans, X_trans).fit()  # GLS manually transformed\n",
    "print(gls_model.summary())\n",
    "\n",
    "dw_stat_gls = durbin_watson(gls_model.resid)\n",
    "print(f\"Durbin-Watson statistic (GLS): {dw_stat_gls}\")\n",
    "if 1.5 < dw_stat_gls < 2.5:\n",
    "    print(\"No significant autocorrelation detected\")\n",
    "else:\n",
    "    print(\"Autocorrelation detected\")\n"
   ]
  },
  {
   "cell_type": "markdown",
   "metadata": {},
   "source": [
    "Question 37: For all variables, construct their lag 1 and lag 2 variables.\n"
   ]
  },
  {
   "cell_type": "markdown",
   "metadata": {},
   "source": [
    "Question 38: Run a regression of GDP on constant, lag 1 unemployment, lag 2 unemployment, lag 1 inflation, lag 2 inflation. What is the number of observations and why?"
   ]
  },
  {
   "cell_type": "code",
   "execution_count": 27,
   "metadata": {},
   "outputs": [
    {
     "name": "stdout",
     "output_type": "stream",
     "text": [
      "                                OLS Regression Results                               \n",
      "=====================================================================================\n",
      "Dep. Variable:     Real GDP at market prices   R-squared:                       0.371\n",
      "Model:                                   OLS   Adj. R-squared:                  0.358\n",
      "Method:                        Least Squares   F-statistic:                     27.46\n",
      "Date:                       Fri, 06 Dec 2024   Prob (F-statistic):           4.25e-10\n",
      "Time:                               22:36:16   Log-Likelihood:                -1096.0\n",
      "No. Observations:                         96   AIC:                             2198.\n",
      "Df Residuals:                             93   BIC:                             2206.\n",
      "Df Model:                                  2                                         \n",
      "Covariance Type:                   nonrobust                                         \n",
      "============================================================================================\n",
      "                               coef    std err          t      P>|t|      [0.025      0.975]\n",
      "--------------------------------------------------------------------------------------------\n",
      "const                     3156.1626   2282.929      1.383      0.170   -1377.282    7689.607\n",
      "Unemployment rate        -8561.7299   1248.854     -6.856      0.000    -1.1e+04   -6081.752\n",
      "Consumer price inflation  -864.3413    522.751     -1.653      0.102   -1902.421     173.738\n",
      "==============================================================================\n",
      "Omnibus:                       29.549   Durbin-Watson:                   0.295\n",
      "Prob(Omnibus):                  0.000   Jarque-Bera (JB):               51.330\n",
      "Skew:                           1.276   Prob(JB):                     7.14e-12\n",
      "Kurtosis:                       5.513   Cond. No.                         5.52\n",
      "==============================================================================\n",
      "\n",
      "Notes:\n",
      "[1] Standard Errors assume that the covariance matrix of the errors is correctly specified.\n"
     ]
    }
   ],
   "source": [
    "# Assume df contains your original dataset with time series variables\n",
    "df_lagged = df.copy()\n",
    "\n",
    "# Create lag 1 and lag 2 variables for each column\n",
    "for col in df.columns:\n",
    "    df_lagged[f\"{col}_lag1\"] = df[col].shift(1)  # Lag 1\n",
    "    df_lagged[f\"{col}_lag2\"] = df[col].shift(2)  # Lag 2\n",
    "\n",
    "df_lagged = df_lagged.dropna()\n",
    "\n",
    "y = df_lagged[['Real GDP at market prices']]\n",
    "\n",
    "df_lagged = df_lagged.drop(['Real GDP at market prices', 'Unemployment rate','Consumer price inflation'\n",
    "                            ,'Real GDP at market prices_lag1','Real GDP at market prices_lag2'], axis=1)\n",
    "df_lagged = sm.add_constant(df_lagged)\n",
    "\n",
    "ols_model = sm.OLS(y, df_lagged).fit()\n",
    "residuals = ols_model.resid\n",
    "\n",
    "print(model.summary())\n"
   ]
  },
  {
   "cell_type": "code",
   "execution_count": 28,
   "metadata": {},
   "outputs": [
    {
     "name": "stdout",
     "output_type": "stream",
     "text": [
      "Datapoints in the dataframe:  115\n",
      "Datapoints in the dataframe:  113\n"
     ]
    }
   ],
   "source": [
    "print('Datapoints in the dataframe: ', len(df))\n",
    "print('Datapoints in the dataframe: ', len(df_lagged))"
   ]
  },
  {
   "cell_type": "markdown",
   "metadata": {},
   "source": [
    "We lost two data points because when we introduce 2 lags, we end up with 2 rows (in the beggining) with missing values. And because we end up droping these rows to run the OLS, we have minus 2 rows (datapoints) to work with."
   ]
  },
  {
   "cell_type": "markdown",
   "metadata": {},
   "source": [
    "Question 39: State and test the no-Granger causality hypothesis of unemployment on GDP at the 1% level."
   ]
  },
  {
   "cell_type": "code",
   "execution_count": 29,
   "metadata": {},
   "outputs": [
    {
     "name": "stdout",
     "output_type": "stream",
     "text": [
      "     Real GDP at market prices  Unemployment rate  Consumer price inflation\n",
      "10                  -18.483568           0.651997                 -5.490429\n",
      "11                 2719.669370          -0.436035                 -2.536247\n",
      "12                10797.984003          -1.008674                 -4.018009\n",
      "13                14098.371607          -1.592062                 -1.757828\n",
      "14                25071.914095          -3.810260                  8.211876\n",
      "..                         ...                ...                       ...\n",
      "101               39577.050000          -1.618365                 -0.978368\n",
      "102               61489.100000          -1.695424                 -0.804022\n",
      "103               70473.800000          -1.814916                 -0.825007\n",
      "104               87015.200000          -1.573617                 -0.085713\n",
      "105               96780.450000          -0.817460                  0.316873\n",
      "\n",
      "[96 rows x 3 columns]\n",
      "\n",
      "Granger Causality\n",
      "number of lags (no zero) 1\n",
      "ssr based F test:         F=2.5629  , p=0.1122  , df_denom=111, df_num=1\n",
      "ssr based chi2 test:   chi2=2.6322  , p=0.1047  , df=1\n",
      "likelihood ratio test: chi2=2.6022  , p=0.1067  , df=1\n",
      "parameter F test:         F=2.5629  , p=0.1122  , df_denom=111, df_num=1\n",
      "\n",
      "Granger Causality\n",
      "number of lags (no zero) 2\n",
      "ssr based F test:         F=2.3322  , p=0.1020  , df_denom=108, df_num=2\n",
      "ssr based chi2 test:   chi2=4.8804  , p=0.0871  , df=2\n",
      "likelihood ratio test: chi2=4.7779  , p=0.0917  , df=2\n",
      "parameter F test:         F=2.3322  , p=0.1020  , df_denom=108, df_num=2\n"
     ]
    },
    {
     "name": "stderr",
     "output_type": "stream",
     "text": [
      "C:\\Users\\guik2\\AppData\\Local\\Packages\\PythonSoftwareFoundation.Python.3.11_qbz5n2kfra8p0\\LocalCache\\local-packages\\Python311\\site-packages\\statsmodels\\tsa\\stattools.py:1556: FutureWarning: verbose is deprecated since functions should not print results\n",
      "  warnings.warn(\n"
     ]
    },
    {
     "data": {
      "text/plain": [
       "{1: ({'ssr_ftest': (2.562884948200604, 0.11224109538145996, 111.0, 1),\n",
       "   'ssr_chi2test': (2.632152108962783, 0.10471968452565564, 1),\n",
       "   'lrtest': (2.6022249427824136, 0.1067138069277922, 1),\n",
       "   'params_ftest': (2.5628849482004994, 0.11224109538146781, 111.0, 1.0)},\n",
       "  [<statsmodels.regression.linear_model.RegressionResultsWrapper at 0x13f93d4a250>,\n",
       "   <statsmodels.regression.linear_model.RegressionResultsWrapper at 0x13f9664d210>,\n",
       "   array([[0., 1., 0.]])]),\n",
       " 2: ({'ssr_ftest': (2.3322198065544786, 0.10195119216765808, 108.0, 2),\n",
       "   'ssr_chi2test': (4.880385891493631, 0.0871440357687133, 2),\n",
       "   'lrtest': (4.777935240498664, 0.09172432935433082, 2),\n",
       "   'params_ftest': (2.3322198065545177, 0.10195119216765394, 108.0, 2.0)},\n",
       "  [<statsmodels.regression.linear_model.RegressionResultsWrapper at 0x13f966550d0>,\n",
       "   <statsmodels.regression.linear_model.RegressionResultsWrapper at 0x13f93892050>,\n",
       "   array([[0., 0., 1., 0., 0.],\n",
       "          [0., 0., 0., 1., 0.]])])}"
      ]
     },
     "execution_count": 29,
     "metadata": {},
     "output_type": "execute_result"
    }
   ],
   "source": [
    "from statsmodels.tsa.stattools import grangercausalitytests\n",
    "\n",
    "print(df_stationary)\n",
    "\n",
    "# Prepare the dataset for Granger causality test\n",
    "data = df[['Real GDP at market prices', 'Unemployment rate']]\n",
    "\n",
    "max_lags = 2\n",
    "grangercausalitytests(data, max_lags, verbose=True)\n"
   ]
  },
  {
   "cell_type": "markdown",
   "metadata": {},
   "source": [
    "We see that both p-values are higher that the 1% level -- which means there is no evidence that unemployment Granger-causes GDP for lags 1 and 2."
   ]
  },
  {
   "cell_type": "markdown",
   "metadata": {},
   "source": [
    "Question 40: Divide the sample in two groups: 1900-1960 and 1961-2000. Test the stability of coefficients between the two periods."
   ]
  }
 ],
 "metadata": {
  "kernelspec": {
   "display_name": "Python 3",
   "language": "python",
   "name": "python3"
  },
  "language_info": {
   "codemirror_mode": {
    "name": "ipython",
    "version": 3
   },
   "file_extension": ".py",
   "mimetype": "text/x-python",
   "name": "python",
   "nbconvert_exporter": "python",
   "pygments_lexer": "ipython3",
   "version": "3.11.9"
  }
 },
 "nbformat": 4,
 "nbformat_minor": 2
}
